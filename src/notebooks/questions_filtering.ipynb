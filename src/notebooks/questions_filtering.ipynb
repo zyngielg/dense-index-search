{
 "cells": [
  {
   "cell_type": "markdown",
   "id": "11eb6c9b",
   "metadata": {},
   "source": [
    "## Filtering questions\n",
    "\n",
    "The goal of this notebook is to filter the questions based on whether the majority of the answer options (at least 3) match any CUI corresponding to the disease TUI.\n",
    "\n",
    "The disease CUIs and TUIs are fetched from the `umls_terms.csv` file"
   ]
  },
  {
   "cell_type": "code",
   "execution_count": 1,
   "id": "05964904",
   "metadata": {},
   "outputs": [],
   "source": [
    "import json\n",
    "import math\n",
    "import matplotlib.pyplot as plt\n",
    "import multiprocessing\n",
    "import numpy as np\n",
    "import pandas as pd\n",
    "import pickle\n",
    "import re\n",
    "# in order to ignore the UserWarning: THis pattern has match groups\n",
    "import warnings\n",
    "warnings.filterwarnings(\"ignore\", 'This pattern has match groups')\n",
    "\n",
    "from itertools import groupby\n",
    "from nltk import word_tokenize\n",
    "from tqdm import tqdm"
   ]
  },
  {
   "cell_type": "code",
   "execution_count": 3,
   "id": "3101fe92",
   "metadata": {},
   "outputs": [],
   "source": [
    "umls_terms_path = '../..//data/umls_terms.csv'\n",
    "q_train_path = '../../data/medqa/questions/4_options/train.jsonl'\n",
    "q_val_path = '../../data/medqa/questions/4_options/dev.jsonl'\n",
    "q_test_path = '../../data/medqa/questions/4_options/test.jsonl'"
   ]
  },
  {
   "cell_type": "code",
   "execution_count": 5,
   "id": "8801ffd9",
   "metadata": {},
   "outputs": [
    {
     "name": "stdout",
     "output_type": "stream",
     "text": [
      "Number of records in umls_terms before TUI filtering: 8851980\n",
      "Number of records in umls_terms after TUI filtering: 1775855\n"
     ]
    }
   ],
   "source": [
    "umls_terms = pd.read_csv(umls_terms_path)\n",
    "\n",
    "# lines 56-67 from the SemGroups_2018.txt\n",
    "disorders_tui = {\n",
    "    \"T020\": \"Acquired Abnormality\",\n",
    "    \"T190\": \"Anatomical Abnormality\",\n",
    "    \"T049\": \"Cell or Molecular Dysfunction\",\n",
    "    \"T019\": \"Congenital Abnormality\",\n",
    "    \"T047\": \"Disease or Syndrome\",\n",
    "    \"T050\": \"Experimental Model of Disease\",\n",
    "    \"T033\": \"Finding\",\n",
    "    \"T037\": \"Injury or Poisoning\",\n",
    "    \"T048\": \"Mental or Behavioral Dysfunction\",\n",
    "    \"T191\": \"Neoplastic Process\",\n",
    "    \"T046\": \"Pathologic Function\",\n",
    "    \"T184\": \"Sign or Symptom\"\n",
    "}\n",
    "\n",
    "print(f'Number of records in umls_terms before TUI filtering: {umls_terms.shape[0]}')\n",
    "\n",
    "# preserve only data related to the diseases' TUIs\n",
    "umls_terms = umls_terms.loc[umls_terms['TUI'].isin(disorders_tui.keys())].reset_index(drop=True)\n",
    "print(f'Number of records in umls_terms after TUI filtering: {umls_terms.shape[0]}')\n",
    "\n",
    "# one row does not have a STR value, hence drop it\n",
    "umls_terms = umls_terms.dropna(subset=['STR'])\n",
    "umls_terms['STR'] = umls_terms['STR'].apply(lambda x: x.lower())\n",
    "\n",
    "umls_cuis = umls_terms['CUI'].unique()"
   ]
  },
  {
   "cell_type": "code",
   "execution_count": 6,
   "id": "70a782f1",
   "metadata": {},
   "outputs": [
    {
     "name": "stdout",
     "output_type": "stream",
     "text": [
      "Num of all questions: 12723: 10178 + 1272 + 1273\n"
     ]
    }
   ],
   "source": [
    "q_train, q_val, q_test = [], [], []\n",
    "\n",
    "with open(q_train_path, 'r') as file:\n",
    "    for line in file:\n",
    "        q_train.append(json.loads(line))\n",
    "\n",
    "with open(q_val_path, 'r') as file:\n",
    "    for line in file:\n",
    "        q_val.append(json.loads(line))\n",
    "        \n",
    "with open(q_test_path, 'r') as file:\n",
    "    for line in file:\n",
    "        q_test.append(json.loads(line))\n",
    "        \n",
    "num_all = len(q_train) + len(q_val) + len(q_test)\n",
    "        \n",
    "print(f\"Num of all questions: {num_all}: {len(q_train)} + {len(q_val)} + {len(q_test)}\")"
   ]
  },
  {
   "cell_type": "code",
   "execution_count": 7,
   "id": "1798e623",
   "metadata": {},
   "outputs": [],
   "source": [
    "def create_processor_chunks(data, number_of_processes):\n",
    "    chunk_size = math.ceil(math.ceil(len(data) / number_of_processes))\n",
    "\n",
    "    for i in range(0, len(data), chunk_size):\n",
    "        yield data[i:i + chunk_size]"
   ]
  },
  {
   "cell_type": "code",
   "execution_count": 8,
   "id": "8195cece",
   "metadata": {},
   "outputs": [],
   "source": [
    "def filter_questions(question_list, all_valid, all_invalid):\n",
    "    for q_data in tqdm(question_list):    \n",
    "        counter = 0\n",
    "        for option in q_data['options'].values():\n",
    "            try:\n",
    "                matching_cuis = umls_terms.loc[umls_terms['STR'].str.contains(option.lower(), na=False)]\n",
    "                if not matching_cuis.empty:\n",
    "                    counter += 1\n",
    "            except:\n",
    "                counter = 0\n",
    "                break\n",
    "        \n",
    "        \n",
    "        if counter > 2:\n",
    "            all_valid.append(q_data)\n",
    "        else:\n",
    "            all_invalid.append(q_data)"
   ]
  },
  {
   "cell_type": "code",
   "execution_count": 9,
   "id": "0f8348ca",
   "metadata": {},
   "outputs": [],
   "source": [
    "def multiprocess_exec(question_list, num_of_processors):\n",
    "    manager = multiprocessing.Manager()\n",
    "    all_valid = manager.list()\n",
    "    all_invalid = manager.list()\n",
    "    jobs = []\n",
    "    \n",
    "    data = list(create_processor_chunks(question_list, num_of_processors))\n",
    "\n",
    "    for i in range(num_of_processors):\n",
    "        p = multiprocessing.Process(target=filter_questions, args=(data[i], all_valid, all_invalid))\n",
    "        jobs.append(p)\n",
    "        p.start()\n",
    "\n",
    "    for proc in jobs:\n",
    "        proc.join()\n",
    "        \n",
    "    return list(all_valid), list(all_invalid)"
   ]
  },
  {
   "cell_type": "code",
   "execution_count": null,
   "id": "c49d658e",
   "metadata": {},
   "outputs": [
    {
     "name": "stderr",
     "output_type": "stream",
     "text": [
      "100%|██████████| 1697/1697 [2:43:16<00:00,  5.77s/it]  \n",
      "100%|██████████| 1697/1697 [2:44:12<00:00,  5.81s/it]\n"
     ]
    }
   ],
   "source": [
    "q_train_valid, q_train_invalid = multiprocess_exec(q_train, 6)\n",
    "\n",
    "assert len(q_train_valid) + len(q_train_invalid) == len(q_train)\n",
    "print(\"*** Train set ***\")\n",
    "print(f\"Num of valid: {len(q_train_valid)}\\t Num of invalid: {len(q_train_invalid)}\")\n",
    "\n",
    "questions_train_valid_path = \"../../data/medqa/questions/4_options/[filtered]q_train_valid.json\"\n",
    "questions_train_invalid_path = \"../../data/medqa/questions/4_options/[filtered]q_train_invalid.json\"\n",
    "\n",
    "with open(questions_train_valid_path, 'w') as file:\n",
    "    json.dump(q_train_valid, file)\n",
    "    \n",
    "with open(questions_train_invalid_path, 'w') as file:\n",
    "    json.dump(q_train_invalid, file)"
   ]
  },
  {
   "cell_type": "code",
   "execution_count": 10,
   "id": "38a84fa7",
   "metadata": {},
   "outputs": [
    {
     "name": "stderr",
     "output_type": "stream",
     "text": [
      "100%|██████████| 255/255 [20:43<00:00,  4.88s/it]\n",
      "100%|██████████| 255/255 [20:43<00:00,  4.88s/it]\n",
      "100%|██████████| 255/255 [21:02<00:00,  4.95s/it]\n",
      "100%|██████████| 255/255 [21:06<00:00,  4.97s/it]\n",
      "100%|██████████| 252/252 [21:14<00:00,  5.06s/it]\n"
     ]
    }
   ],
   "source": [
    "q_val_valid, q_val_invalid = multiprocess_exec(q_val, 6)\n",
    "\n",
    "assert len(q_val_valid) + len(q_val_invalid) == len(q_val)\n",
    "print(\"*** Val set ***\")\n",
    "print(f\"Num of valid: {len(q_val_valid)}\\t Num of invalid: {len(q_val_invalid)}\")\n",
    "\n",
    "questions_val_valid_path = \"../../data/medqa/questions/4_options/[filtered]q_val_valid.json\"\n",
    "questions_val_invalid_path = \"../../data/medqa/questions/4_options/[filtered]q_val_invalid.json\"\n",
    "\n",
    "with open(questions_val_valid_path, 'w') as file:\n",
    "    json.dump(q_val_valid, file)\n",
    "    \n",
    "with open(questions_val_invalid_path, 'w') as file:\n",
    "    json.dump(q_val_invalid, file)"
   ]
  },
  {
   "cell_type": "code",
   "execution_count": 29,
   "id": "b980f71f",
   "metadata": {},
   "outputs": [
    {
     "name": "stderr",
     "output_type": "stream",
     "text": [
      "100%|██████████| 208/208 [20:27<00:00,  5.90s/it]\n",
      "100%|██████████| 213/213 [20:39<00:00,  5.82s/it]\n",
      "100%|██████████| 213/213 [20:41<00:00,  5.83s/it]\n",
      "100%|██████████| 213/213 [20:43<00:00,  5.84s/it]\n",
      "100%|██████████| 213/213 [20:45<00:00,  5.85s/it]\n",
      "100%|██████████| 213/213 [21:14<00:00,  5.99s/it]\n"
     ]
    }
   ],
   "source": [
    "q_test_valid, q_test_invalid = multiprocess_exec(q_test, 6)\n",
    "\n",
    "assert len(q_test_valid) + len(q_test_invalid) == len(q_test)\n",
    "print(\"*** Test set ***\")\n",
    "print(f\"Num of valid: {len(q_test_valid)}\\t Num of invalid: {len(q_test_invalid)}\")\n",
    "\n",
    "questions_test_valid_path = \"../../data/medqa/questions/4_options/[filtered]q_test_valid.json\"\n",
    "questions_test_invalid_path = \"../../data/medqa/questions/4_options/[filtered]q_test_invalid.json\"\n",
    "\n",
    "with open(questions_test_valid_path, 'w') as file:\n",
    "    json.dump(q_test_valid, file)\n",
    "    \n",
    "with open(questions_test_invalid_path, 'w') as file:\n",
    "    json.dump(q_test_invalid, file)"
   ]
  }
 ],
 "metadata": {
  "kernelspec": {
   "display_name": "Python 3",
   "language": "python",
   "name": "python3"
  },
  "language_info": {
   "codemirror_mode": {
    "name": "ipython",
    "version": 3
   },
   "file_extension": ".py",
   "mimetype": "text/x-python",
   "name": "python",
   "nbconvert_exporter": "python",
   "pygments_lexer": "ipython3",
   "version": "3.8.8"
  }
 },
 "nbformat": 4,
 "nbformat_minor": 5
}
