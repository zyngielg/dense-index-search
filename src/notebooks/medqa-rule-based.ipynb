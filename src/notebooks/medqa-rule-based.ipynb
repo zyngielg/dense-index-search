{
 "cells": [
  {
   "cell_type": "code",
   "execution_count": 1,
   "metadata": {},
   "outputs": [
    {
     "name": "stderr",
     "output_type": "stream",
     "text": [
      "[nltk_data] Downloading package punkt to /home/gustaw/nltk_data...\n",
      "[nltk_data]   Package punkt is already up-to-date!\n",
      "[nltk_data] Downloading package stopwords to /home/gustaw/nltk_data...\n",
      "[nltk_data]   Package stopwords is already up-to-date!\n"
     ]
    }
   ],
   "source": [
    "import os\n",
    "import json\n",
    "import numpy as np\n",
    "import string\n",
    "import time\n",
    "\n",
    "import nltk \n",
    "nltk.download('punkt')\n",
    "nltk.download('stopwords')\n",
    "from nltk import skipgrams, ngrams\n",
    "from nltk.corpus import stopwords \n",
    "# reason for using snowball: https://stackoverflow.com/questions/10554052/what-are-the-major-differences-and-benefits-of-porter-and-lancaster-stemming-alg\n",
    "from nltk.stem.snowball import SnowballStemmer\n",
    "from nltk.tokenize import word_tokenize\n",
    "\n",
    "from IPython.display import clear_output"
   ]
  },
  {
   "cell_type": "code",
   "execution_count": 2,
   "metadata": {},
   "outputs": [],
   "source": [
    "questions_data_path = '../data/medqa_data/questions/US_qbank.jsonl'\n",
    "textbooks_data_dir = '../data/medqa_data/textbooks/'"
   ]
  },
  {
   "cell_type": "code",
   "execution_count": 3,
   "metadata": {},
   "outputs": [],
   "source": [
    "all_questions_data = []\n",
    "with open(questions_data_path, 'r') as file:\n",
    "    for line in file:\n",
    "        all_questions_data.append(json.loads(line))"
   ]
  },
  {
   "cell_type": "markdown",
   "metadata": {},
   "source": [
    "Questions which have valid answer connected to the evidence (from the paper)"
   ]
  },
  {
   "cell_type": "code",
   "execution_count": 4,
   "metadata": {},
   "outputs": [],
   "source": [
    "chlamydia_question = '''A 27-year-old male presents to urgent care complaining of pain with urination. He reports that the pain started 3 days ago. He has never experienced these symptoms before. He denies\n",
    "gross hematuria or pelvic pain. He is sexually active with his girlfriend, and they consistently use condoms. When asked about recent travel, he admits to recently returning from a\n",
    "boys’ trip” in Cancun where he had unprotected sex 1 night with a girl he met at a bar. The patients medical history includes type I diabetes that is controlled with an insulin pump.\n",
    "His mother has rheumatoid arthritis. The patients temperature is 99 F (37.2 C), blood pressure is 112/74 mmHg, and pulse is 81/min. On physical examination, there are no lesions of\n",
    "the penis or other body rashes. No costovertebral tenderness is appreciated. A urinalysis reveals no blood, glucose, ketones, or proteins but is positive for leukocyte esterase. A urine\n",
    "microscopic evaluation shows a moderate number of white blood cells but no casts or crystals. A urine culture is negative. Which of the following is the most likely cause for the\n",
    "patient’s symptoms?'''\n",
    "\n",
    "sod1_question = '''A 57-year-old man presents to his primary care physician with a 2-month history of right upper and lower extremity weakness. He noticed the weakness when he started falling far\n",
    "more frequently while running errands. Since then, he has had increasing difficulty with walking and lifting objects. His past medical history is significant only for well-controlled\n",
    "hypertension, but he says that some members of his family have had musculoskeletal problems. His right upper extremity shows forearm atrophy and depressed reflexes while his right\n",
    "lower extremity is hypertonic with a positive Babinski sign. Which of the following is most likely associated with the cause of this patients symptoms?\n",
    "'''"
   ]
  },
  {
   "cell_type": "code",
   "execution_count": 5,
   "metadata": {},
   "outputs": [],
   "source": [
    "corpus = {}\n",
    "for textbook_name in os.listdir(textbooks_data_dir):\n",
    "    textbook_path = textbooks_data_dir + '/' + textbook_name\n",
    "    with open(textbook_path, 'r') as textbook_file:\n",
    "        textbook_content = textbook_file.read()\n",
    "        corpus[textbook_name] = textbook_content"
   ]
  },
  {
   "cell_type": "markdown",
   "metadata": {},
   "source": [
    "## Pointwise Mutual Information"
   ]
  },
  {
   "cell_type": "code",
   "execution_count": 6,
   "metadata": {},
   "outputs": [],
   "source": [
    "stop_words = stopwords.words('english')\n",
    "snowball_stemmer = SnowballStemmer(language='english') \n",
    "# do not remove the '-' and '/'\n",
    "custom_string_punctuation = string.punctuation.replace('-','').replace('/','')\n",
    "punctuation = str.maketrans('', '', custom_string_punctuation)"
   ]
  },
  {
   "cell_type": "code",
   "execution_count": 7,
   "metadata": {},
   "outputs": [],
   "source": [
    "def preprocess_content(content):\n",
    "    # lowercase and create tokens\n",
    "    tokens = word_tokenize(content.lower())\n",
    "    # remove stepwords\n",
    "    tokens = [x for x in tokens if x not in stop_words]\n",
    "    # stemming\n",
    "    tokens = [snowball_stemmer.stem(x) for x in tokens]\n",
    "    return ' '.join(tokens)"
   ]
  },
  {
   "cell_type": "code",
   "execution_count": 8,
   "metadata": {},
   "outputs": [],
   "source": [
    "def preprocess_corpus(corpus):\n",
    "    counter = 0\n",
    "    for name, content in corpus.items():\n",
    "        # TODO: removal of non-medical terms using MetaMap\n",
    "        corpus[name] = preprocess_content(content).translate(punctuation).replace('“','').replace('’','')\n",
    "        counter += 1\n",
    "        clear_output(wait=True)\n",
    "        print(f'Processed textbook {name} ({counter}/{len(corpus.items())})')\n"
   ]
  },
  {
   "cell_type": "code",
   "execution_count": 9,
   "metadata": {},
   "outputs": [],
   "source": [
    "def preprocess_questions(questions):\n",
    "    stop_words = stopwords.words('english')\n",
    "    snowball_stemmer = SnowballStemmer(language='english') \n",
    "    counter = 0\n",
    "    \n",
    "    for question in questions:\n",
    "        question['question'] = preprocess_content(question['question']).translate(punctuation).replace('“','').replace('’','')\n",
    "        for option, value in question['options'].items():\n",
    "            question['options'][option] = preprocess_content(value).translate(punctuation).replace('“','').replace('’','')\n",
    "        counter+=1\n",
    "        clear_output(wait=True)\n",
    "        print(f'Processed question ({counter}/{len(questions)})')"
   ]
  },
  {
   "cell_type": "code",
   "execution_count": 10,
   "metadata": {},
   "outputs": [
    {
     "name": "stdout",
     "output_type": "stream",
     "text": [
      "Processed question (14369/14369)\n"
     ]
    }
   ],
   "source": [
    "preprocess_corpus(corpus)\n",
    "preprocess_questions(all_questions_data)"
   ]
  },
  {
   "cell_type": "markdown",
   "metadata": {},
   "source": [
    "### Prepare data"
   ]
  },
  {
   "cell_type": "code",
   "execution_count": 11,
   "metadata": {},
   "outputs": [],
   "source": [
    "corpus_joined = ' '.join([x for x in corpus.values()])\n",
    "\n",
    "corpus_tokens = word_tokenize(corpus_joined)\n",
    "\n",
    "corpus_unigrams = ngrams(corpus_joined.split(), 1)\n",
    "corpus_unigrams_freq = nltk.FreqDist(corpus_unigrams)\n",
    "\n",
    "corpus_bigrams = ngrams(corpus_joined.split(), 2)\n",
    "corpus_bigrams_freq = nltk.FreqDist(corpus_bigrams)\n",
    "\n",
    "corpus_trigrams = ngrams(corpus_joined.split(), 2)\n",
    "corpus_trigrams_freq = nltk.FreqDist(corpus_trigrams)\n",
    "\n",
    "selected_questions_data = [all_questions_data[13182], all_questions_data[13984]]"
   ]
  },
  {
   "cell_type": "code",
   "execution_count": 12,
   "metadata": {},
   "outputs": [],
   "source": [
    "# # skipgrams contain the ngrams\n",
    "\n",
    "# sentence = 'this is a foo bar sentences and i want to ngramize it'\n",
    "\n",
    "# n = 1\n",
    "# bigrams = ngrams(sentence.split(), n)\n",
    "# one_skip_bigrams = skipgrams(sentence.split(), 2, 2)\n",
    "# # for grams in one_skip_bigrams:\n",
    "# #   print( grams)"
   ]
  },
  {
   "cell_type": "code",
   "execution_count": 13,
   "metadata": {},
   "outputs": [],
   "source": [
    "# test_question = selected_questions_data[0]['question']\n",
    "# bigrams = ngrams(test_question.split(), 2)\n",
    "\n",
    "# fdist = nltk.FreqDist(bigrams)\n",
    "\n",
    "# # for x in fdist.items():\n",
    "# #     print(x)\n",
    "    "
   ]
  },
  {
   "cell_type": "code",
   "execution_count": 14,
   "metadata": {},
   "outputs": [],
   "source": [
    "def calculate_joint_probability(combined_corpus_tokens, ngram1, ngram2, window):\n",
    "    ngram1_joined = ' '.join(ngram1)\n",
    "    ngram2_joined = ' '.join(ngram2)  \n",
    "    \n",
    "    joint_occurences = 0\n",
    "\n",
    "    for i in range(0, len(combined_corpus_tokens) - window + 1):\n",
    "        corpus_window = ' '.join(combined_corpus_tokens[i:i+window])\n",
    "        if ngram1_joined in corpus_window and ngram2_joined in corpus_window:\n",
    "            joint_occurences += 1\n",
    "        \n",
    "    return joint_occurences/len(combined_corpus_tokens)\n",
    "        \n",
    "    \n",
    "\n",
    "def calculate_average_pmi_per_answer(\n",
    "        combined_corpus_tokens,\n",
    "        corpus_unigrams_freq, \n",
    "        corpus_bigrams_freq, \n",
    "        corpus_trigrams_freq, \n",
    "        question, \n",
    "        answer_option, \n",
    "        window):\n",
    "    combined_corpus_tokens_len = len(combined_corpus_tokens)\n",
    "    question_unigrams = ngrams(question.split(), 1)\n",
    "    question_bigrams = ngrams(question.split(), 2)  \n",
    "    question_trigrams = ngrams(question.split(), 3)    \n",
    "    answer_option_unigrams = ngrams(answer_option.split(), 1)\n",
    "    answer_option_bigrams = ngrams(answer_option.split(), 2)\n",
    "    \n",
    "    pmi_score = []\n",
    "    start_time = time.time()\n",
    "    \n",
    "    for answer_bigram in answer_option_bigrams:\n",
    "        p_y = corpus_bigrams_freq[answer_bigram] / combined_corpus_tokens_len\n",
    "#         print(f'p_y={p_y}')\n",
    "        for question_bigram in list(question_bigrams):\n",
    "            counter = 0\n",
    "            p_x = corpus_bigrams_freq[question_bigram] / combined_corpus_tokens_len\n",
    "#             print(f'p_x={p_x}')\n",
    "            p_x_y = calculate_joint_probability(combined_corpus_tokens, question_bigram, answer_bigram, 10)\n",
    "#             print(f'p_x_y={p_x_y}')\n",
    "            \n",
    "            if p_x != 0 and p_y != 0:\n",
    "                score = p_x_y / p_x / p_y\n",
    "                if score != 0:\n",
    "                    print('non zero')\n",
    "                    pmi_score.append(np.log(score))\n",
    "            counter += 1\n",
    "            print(f'Question bigram {question_bigram} completed. {counter}/{len(list(question_bigrams))} in ({time.time() - start_time}s)')\n",
    "    return np.average(pmi_score)"
   ]
  },
  {
   "cell_type": "code",
   "execution_count": 15,
   "metadata": {},
   "outputs": [
    {
     "name": "stdout",
     "output_type": "stream",
     "text": [
      "Question bigram ('27-year-old', 'male') completed. 1/0 in (2.9936442375183105s)\n",
      "Question bigram ('male', 'present') completed. 1/0 in (6.068277597427368s)\n",
      "Question bigram ('present', 'urgent') completed. 1/0 in (9.087483644485474s)\n",
      "Question bigram ('urgent', 'care') completed. 1/0 in (12.277844190597534s)\n",
      "Question bigram ('care', 'complain') completed. 1/0 in (15.415304899215698s)\n",
      "Question bigram ('complain', 'pain') completed. 1/0 in (18.494123697280884s)\n",
      "Question bigram ('pain', 'urin') completed. 1/0 in (21.674288511276245s)\n",
      "Question bigram ('urin', 'report') completed. 1/0 in (24.836106061935425s)\n",
      "Question bigram ('report', 'pain') completed. 1/0 in (27.985004425048828s)\n",
      "Question bigram ('pain', 'start') completed. 1/0 in (31.25678515434265s)\n",
      "Question bigram ('start', '3') completed. 1/0 in (34.59342813491821s)\n",
      "Question bigram ('3', 'day') completed. 1/0 in (37.58857488632202s)\n",
      "Question bigram ('day', 'ago') completed. 1/0 in (40.64483141899109s)\n",
      "Question bigram ('ago', 'never') completed. 1/0 in (44.007930517196655s)\n",
      "Question bigram ('never', 'experienc') completed. 1/0 in (47.216206073760986s)\n",
      "Question bigram ('experienc', 'symptom') completed. 1/0 in (50.41357946395874s)\n",
      "Question bigram ('symptom', 'deni') completed. 1/0 in (53.725921630859375s)\n",
      "Question bigram ('deni', 'gross') completed. 1/0 in (57.128389835357666s)\n",
      "Question bigram ('gross', 'hematuria') completed. 1/0 in (60.461915016174316s)\n",
      "Question bigram ('hematuria', 'pelvic') completed. 1/0 in (63.707082986831665s)\n",
      "Question bigram ('pelvic', 'pain') completed. 1/0 in (67.02401542663574s)\n",
      "Question bigram ('pain', 'sexual') completed. 1/0 in (70.33446192741394s)\n",
      "non zero\n",
      "Question bigram ('sexual', 'activ') completed. 1/0 in (73.63310170173645s)\n",
      "Question bigram ('activ', 'girlfriend') completed. 1/0 in (76.6339943408966s)\n",
      "Question bigram ('girlfriend', 'consist') completed. 1/0 in (79.666983127594s)\n",
      "non zero\n",
      "Question bigram ('consist', 'use') completed. 1/0 in (83.0098078250885s)\n",
      "Question bigram ('use', 'condom') completed. 1/0 in (86.5165011882782s)\n",
      "Question bigram ('condom', 'ask') completed. 1/0 in (89.72016048431396s)\n",
      "Question bigram ('ask', 'recent') completed. 1/0 in (92.96246671676636s)\n",
      "Question bigram ('recent', 'travel') completed. 1/0 in (96.04679465293884s)\n",
      "Question bigram ('travel', 'admit') completed. 1/0 in (99.2581250667572s)\n",
      "Question bigram ('admit', 'recent') completed. 1/0 in (102.4635558128357s)\n",
      "Question bigram ('recent', 'return') completed. 1/0 in (105.56901907920837s)\n",
      "Question bigram ('return', 'boy') completed. 1/0 in (108.69737410545349s)\n",
      "Question bigram ('boy', 'trip') completed. 1/0 in (111.90788412094116s)\n",
      "Question bigram ('trip', 'cancun') completed. 1/0 in (115.12217211723328s)\n",
      "Question bigram ('cancun', 'unprotect') completed. 1/0 in (118.25234961509705s)\n",
      "Question bigram ('unprotect', 'sex') completed. 1/0 in (121.40129065513611s)\n",
      "Question bigram ('sex', '1') completed. 1/0 in (124.49239921569824s)\n",
      "Question bigram ('1', 'night') completed. 1/0 in (127.66027116775513s)\n",
      "Question bigram ('night', 'girl') completed. 1/0 in (130.7991681098938s)\n",
      "Question bigram ('girl', 'met') completed. 1/0 in (134.038494348526s)\n",
      "Question bigram ('met', 'bar') completed. 1/0 in (137.29303359985352s)\n",
      "Question bigram ('bar', 'patient') completed. 1/0 in (140.49597144126892s)\n",
      "Question bigram ('patient', 'medic') completed. 1/0 in (143.6479823589325s)\n",
      "Question bigram ('medic', 'histori') completed. 1/0 in (146.84816765785217s)\n",
      "Question bigram ('histori', 'includ') completed. 1/0 in (149.98606657981873s)\n",
      "Question bigram ('includ', 'type') completed. 1/0 in (153.179790019989s)\n",
      "Question bigram ('type', 'diabet') completed. 1/0 in (156.32496428489685s)\n",
      "Question bigram ('diabet', 'control') completed. 1/0 in (159.4825656414032s)\n",
      "Question bigram ('control', 'insulin') completed. 1/0 in (162.64633703231812s)\n",
      "Question bigram ('insulin', 'pump') completed. 1/0 in (165.7534680366516s)\n",
      "Question bigram ('pump', 'mother') completed. 1/0 in (168.91442036628723s)\n",
      "Question bigram ('mother', 'rheumatoid') completed. 1/0 in (171.9701201915741s)\n",
      "Question bigram ('rheumatoid', 'arthriti') completed. 1/0 in (175.05963373184204s)\n",
      "Question bigram ('arthriti', 'patient') completed. 1/0 in (178.1612617969513s)\n",
      "Question bigram ('patient', 'temperatur') completed. 1/0 in (181.28038597106934s)\n",
      "Question bigram ('temperatur', '99°f') completed. 1/0 in (184.36836910247803s)\n",
      "Question bigram ('99°f', '372°c') completed. 1/0 in (187.4401433467865s)\n",
      "Question bigram ('372°c', 'blood') completed. 1/0 in (190.55604720115662s)\n",
      "Question bigram ('blood', 'pressur') completed. 1/0 in (193.69632148742676s)\n",
      "Question bigram ('pressur', '112/74') completed. 1/0 in (196.7973132133484s)\n",
      "Question bigram ('112/74', 'mmhg') completed. 1/0 in (199.84635496139526s)\n",
      "Question bigram ('mmhg', 'puls') completed. 1/0 in (202.92875909805298s)\n",
      "Question bigram ('puls', '81/min') completed. 1/0 in (206.08646440505981s)\n",
      "Question bigram ('81/min', 'physic') completed. 1/0 in (209.19750499725342s)\n",
      "Question bigram ('physic', 'examin') completed. 1/0 in (212.33699107170105s)\n",
      "Question bigram ('examin', 'lesion') completed. 1/0 in (215.59001302719116s)\n",
      "Question bigram ('lesion', 'peni') completed. 1/0 in (218.7520968914032s)\n",
      "Question bigram ('peni', 'bodi') completed. 1/0 in (221.9316120147705s)\n",
      "Question bigram ('bodi', 'rash') completed. 1/0 in (225.09428191184998s)\n",
      "Question bigram ('rash', 'costovertebr') completed. 1/0 in (228.20721888542175s)\n",
      "Question bigram ('costovertebr', 'tender') completed. 1/0 in (231.28233766555786s)\n",
      "Question bigram ('tender', 'appreci') completed. 1/0 in (234.46054577827454s)\n",
      "Question bigram ('appreci', 'urinalysi') completed. 1/0 in (237.5749340057373s)\n",
      "Question bigram ('urinalysi', 'reveal') completed. 1/0 in (240.6453821659088s)\n",
      "Question bigram ('reveal', 'blood') completed. 1/0 in (243.7607057094574s)\n",
      "Question bigram ('blood', 'glucos') completed. 1/0 in (246.83341550827026s)\n",
      "Question bigram ('glucos', 'keton') completed. 1/0 in (249.8726522922516s)\n",
      "Question bigram ('keton', 'protein') completed. 1/0 in (252.89576363563538s)\n",
      "Question bigram ('protein', 'posit') completed. 1/0 in (256.02228474617004s)\n",
      "Question bigram ('posit', 'leukocyt') completed. 1/0 in (259.1151440143585s)\n",
      "Question bigram ('leukocyt', 'esteras') completed. 1/0 in (262.1719229221344s)\n",
      "Question bigram ('esteras', 'urin') completed. 1/0 in (265.28450775146484s)\n",
      "Question bigram ('urin', 'microscop') completed. 1/0 in (268.3308894634247s)\n",
      "Question bigram ('microscop', 'evalu') completed. 1/0 in (271.4131019115448s)\n",
      "Question bigram ('evalu', 'show') completed. 1/0 in (274.5126531124115s)\n",
      "Question bigram ('show', 'moder') completed. 1/0 in (277.6274175643921s)\n",
      "Question bigram ('moder', 'number') completed. 1/0 in (280.7074725627899s)\n",
      "Question bigram ('number', 'white') completed. 1/0 in (283.8276445865631s)\n",
      "Question bigram ('white', 'blood') completed. 1/0 in (286.87897634506226s)\n",
      "Question bigram ('blood', 'cell') completed. 1/0 in (289.84545397758484s)\n",
      "Question bigram ('cell', 'cast') completed. 1/0 in (292.9727556705475s)\n",
      "Question bigram ('cast', 'crystal') completed. 1/0 in (296.02984642982483s)\n",
      "Question bigram ('crystal', 'urin') completed. 1/0 in (299.14728832244873s)\n",
      "non zero\n",
      "Question bigram ('urin', 'cultur') completed. 1/0 in (302.238703250885s)\n",
      "Question bigram ('cultur', 'negat') completed. 1/0 in (305.3850190639496s)\n",
      "Question bigram ('negat', 'follow') completed. 1/0 in (308.423020362854s)\n",
      "Question bigram ('follow', 'like') completed. 1/0 in (311.4570691585541s)\n",
      "Question bigram ('like', 'caus') completed. 1/0 in (314.6043629646301s)\n",
      "Question bigram ('caus', 'patient') completed. 1/0 in (317.7572512626648s)\n",
      "Question bigram ('patient', 'symptom') completed. 1/0 in (320.8282878398895s)\n",
      "8.717809925232524\n"
     ]
    }
   ],
   "source": [
    "test_question = selected_questions_data[0]\n",
    "A_score = calculate_average_pmi_per_answer(\n",
    "    combined_corpus_tokens=corpus_tokens,\n",
    "    corpus_unigrams_freq=corpus_unigrams_freq, \n",
    "    corpus_bigrams_freq=corpus_bigrams_freq, \n",
    "    corpus_trigrams_freq=corpus_trigrams_freq, \n",
    "    question=test_question['question'], \n",
    "    answer_option=test_question['options']['A'], \n",
    "    window=10)\n",
    "\n",
    "print(A_score)"
   ]
  },
  {
   "cell_type": "code",
   "execution_count": null,
   "metadata": {},
   "outputs": [],
   "source": [
    "# test_corpus = '''Lorem ipsum dolor sit amet consectetur adipiscing elit Integer a lobortis nisl eget suscipit justo Vestibulum ante ipsum primis in faucibus orci luctus et ultrices posuere cubilia curae Lorem ipsum dolor sit amet consectetur adipiscing elit Integer a lobortis nisl eget suscipit justo Vestibulum ante ipsum primis in faucibus orci luctus et ultrices posuere cubilia curae Lorem ipsum dolor sit amet consectetur adipiscing elit Integer a lobortis nisl eget suscipit justo Vestibulum ante ipsum primis in faucibus orci luctus et ultrices posuere cubilia curae'''\n",
    "# test_corpus_tokens = word_tokenize(test_corpus)\n",
    "\n",
    "# question = 'dolor sit'\n",
    "# answer = 'adipiscing elit'\n",
    "\n",
    "# answer_option_bigrams = ngrams(answer.split(), 2)\n",
    "# # print(list(answer_option_bigrams))\n",
    "# for answer in answer_option_bigrams:\n",
    "#     print(answer)\n",
    "\n",
    "# # ngram1 = ('dolor', 'sit')\n",
    "# # ngram2 = ('adipiscing', 'elit')\n",
    "# # print(calculate_average_pmi_per_answer(test_corpus_tokens, 'Lorem ipsum dolor sit amet', 'adipiscing elit', 10))\n"
   ]
  },
  {
   "cell_type": "code",
   "execution_count": null,
   "metadata": {},
   "outputs": [],
   "source": [
    "import nltk\n",
    "from nltk.collocations import *\n",
    "from nltk.tokenize import word_tokenize\n",
    "\n",
    "text = \"this is a foo bar bar black sheep  foo bar bar black sheep foo bar bar black  sheep shep bar bar black sentence\"\n",
    "\n",
    "trigram_measures = nltk.collocations.TrigramAssocMeasures()\n",
    "finder = TrigramCollocationFinder.from_words(word_tokenize(text))\n",
    "\n",
    "for i in finder.score_ngrams(trigram_measures.pmi):\n",
    "    print(i)"
   ]
  },
  {
   "cell_type": "code",
   "execution_count": null,
   "metadata": {},
   "outputs": [],
   "source": [
    "bigrams_corpus = ngrams(corpus_joined.split(), 2)"
   ]
  },
  {
   "cell_type": "code",
   "execution_count": null,
   "metadata": {},
   "outputs": [],
   "source": [
    "bigrams_freq = nltk.FreqDist(bigrams_corpus)"
   ]
  },
  {
   "cell_type": "code",
   "execution_count": null,
   "metadata": {},
   "outputs": [],
   "source": [
    "x = ngrams(corpus_joined.split(), 1)"
   ]
  },
  {
   "cell_type": "code",
   "execution_count": null,
   "metadata": {},
   "outputs": [],
   "source": []
  }
 ],
 "metadata": {
  "kernelspec": {
   "display_name": "Python 3",
   "language": "python",
   "name": "python3"
  },
  "language_info": {
   "codemirror_mode": {
    "name": "ipython",
    "version": 3
   },
   "file_extension": ".py",
   "mimetype": "text/x-python",
   "name": "python",
   "nbconvert_exporter": "python",
   "pygments_lexer": "ipython3",
   "version": "3.8.3"
  }
 },
 "nbformat": 4,
 "nbformat_minor": 4
}
