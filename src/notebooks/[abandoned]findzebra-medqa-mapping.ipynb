{
 "cells": [
  {
   "cell_type": "markdown",
   "metadata": {},
   "source": [
    "Flag used for either executing code mapping or loading the mapping pickle files"
   ]
  },
  {
   "cell_type": "code",
   "execution_count": 18,
   "metadata": {},
   "outputs": [],
   "source": [
    "CREATE_OR_LOAD_MAPPING = 'create' # create or load\n",
    "NUM_OF_PROCESSORS = 4"
   ]
  },
  {
   "cell_type": "markdown",
   "metadata": {},
   "source": [
    "## Mapping discussed during the meeting"
   ]
  },
  {
   "cell_type": "markdown",
   "metadata": {},
   "source": [
    "1. Take the string from the medqa answer.\n",
    "2. Check if there is a corresponding string match in the umls csv for the disease.\n",
    "3. If there is a match, take the CUI and check if there are documents with that CUI match"
   ]
  },
  {
   "cell_type": "code",
   "execution_count": 19,
   "metadata": {},
   "outputs": [],
   "source": [
    "import json\n",
    "import math\n",
    "import matplotlib.pyplot as plt\n",
    "import multiprocessing\n",
    "import numpy as np\n",
    "import pandas as pd\n",
    "import pickle\n",
    "import re\n",
    "# in order to ignore the UserWarning: THis pattern has match groups\n",
    "import warnings\n",
    "warnings.filterwarnings(\"ignore\", 'This pattern has match groups')\n",
    "\n",
    "from itertools import groupby\n",
    "from nltk import word_tokenize\n",
    "from tqdm import tqdm"
   ]
  },
  {
   "cell_type": "code",
   "execution_count": 20,
   "metadata": {},
   "outputs": [],
   "source": [
    "umls_terms_path = '../data/umls_terms.csv'\n",
    "findzebra_csv_path = '../data/findzebra.csv'\n",
    "findzebra_json_path = '../data/findzebra.json'\n",
    "medqa_questions_dev_path = '../data/medqa/questions/dev.jsonl'\n",
    "medqa_questions_path = '../data/medqa/questions/US_qbank.jsonl'\n",
    "\n",
    "# old\n",
    "answer_findzebra_articles_map_pickle_path = 'answer_findzebra_articles_map.pickle'\n",
    "failed_mapping_path = 'failed_mapping.pickle'\n",
    "\n",
    "# new\n",
    "answer_cui_articles_matching_path = 'answer_cui_articles_matching.pickle'\n",
    "failed_cui_articles_matching_path = 'failed_cui_articles_matching.pickle'"
   ]
  },
  {
   "cell_type": "code",
   "execution_count": 54,
   "metadata": {},
   "outputs": [],
   "source": [
    "def save_data(data, file_path):\n",
    "    with open(file_path, 'wb') as handle:\n",
    "        pickle.dump(data, handle, protocol=pickle.HIGHEST_PROTOCOL)\n",
    "\n",
    "def load_pickle(file_path):\n",
    "    with open(file_path, 'rb') as handle:\n",
    "        return pickle.load(handle)"
   ]
  },
  {
   "cell_type": "markdown",
   "metadata": {},
   "source": [
    "### Get all medqa answers"
   ]
  },
  {
   "cell_type": "code",
   "execution_count": 53,
   "metadata": {},
   "outputs": [
    {
     "name": "stderr",
     "output_type": "stream",
     "text": [
      "100%|██████████| 14369/14369 [00:00<00:00, 1415538.19it/s]"
     ]
    },
    {
     "name": "stdout",
     "output_type": "stream",
     "text": [
      "Number of all MedQA answers: 77227\n",
      "Number of all *unique* MedQA answers: 46420\n"
     ]
    },
    {
     "name": "stderr",
     "output_type": "stream",
     "text": [
      "\n"
     ]
    }
   ],
   "source": [
    "medqa_all_questions = []\n",
    "\n",
    "with open(medqa_questions_path, 'r') as file:\n",
    "    for line in file:\n",
    "        medqa_all_questions.append(json.loads(line))\n",
    "        \n",
    "medqa_all_answers = []\n",
    "for x in tqdm([list(q['options'].values()) for q in medqa_all_questions]):\n",
    "    medqa_all_answers.append(x)\n",
    "    \n",
    "medqa_all_answers = [item.lower() for sublist in medqa_all_answers for item in sublist]\n",
    "print(f'Number of all MedQA answers: {len(medqa_all_answers)}')\n",
    "\n",
    "medqa_all_unique_answers = list(set(medqa_all_answers))\n",
    "print(f'Number of all *unique* MedQA answers: {len(medqa_all_unique_answers)}')\n",
    "\n",
    "# save_data(medqa_all_unique_answers, 'medqa_all_unique_answers.pickle')\n",
    "# medqa_all_unique_answers = load_pickle('medqa_all_unique_answers.pickle')"
   ]
  },
  {
   "cell_type": "markdown",
   "metadata": {},
   "source": [
    "### Get the umls_terms data"
   ]
  },
  {
   "cell_type": "code",
   "execution_count": 22,
   "metadata": {},
   "outputs": [
    {
     "name": "stdout",
     "output_type": "stream",
     "text": [
      "Number of records in umls_terms before TUI filtering: 8851980\n",
      "Number of records in umls_terms after TUI filtering: 1775855\n"
     ]
    }
   ],
   "source": [
    "umls_terms = pd.read_csv(umls_terms_path)\n",
    "\n",
    "# lines 56-67 from the SemGroups_2018.txt\n",
    "disorders_tui = {\n",
    "    \"T020\": \"Acquired Abnormality\",\n",
    "    \"T190\": \"Anatomical Abnormality\",\n",
    "    \"T049\": \"Cell or Molecular Dysfunction\",\n",
    "    \"T019\": \"Congenital Abnormality\",\n",
    "    \"T047\": \"Disease or Syndrome\",\n",
    "    \"T050\": \"Experimental Model of Disease\",\n",
    "    \"T033\": \"Finding\",\n",
    "    \"T037\": \"Injury or Poisoning\",\n",
    "    \"T048\": \"Mental or Behavioral Dysfunction\",\n",
    "    \"T191\": \"Neoplastic Process\",\n",
    "    \"T046\": \"Pathologic Function\",\n",
    "    \"T184\": \"Sign or Symptom\"\n",
    "}\n",
    "\n",
    "print(f'Number of records in umls_terms before TUI filtering: {umls_terms.shape[0]}')\n",
    "\n",
    "# preserve only data related to the diseases' TUIs\n",
    "umls_terms = umls_terms.loc[umls_terms['TUI'].isin(disorders_tui.keys())].reset_index(drop=True)\n",
    "print(f'Number of records in umls_terms after TUI filtering: {umls_terms.shape[0]}')\n",
    "\n",
    "# one row does not have a STR value, hence drop it\n",
    "umls_terms = umls_terms.dropna(subset=['STR'])\n",
    "umls_terms['STR'] = umls_terms['STR'].apply(lambda x: x.lower())\n",
    "\n",
    "umls_cuis = umls_terms['CUI'].unique()"
   ]
  },
  {
   "cell_type": "markdown",
   "metadata": {},
   "source": [
    "### Load findzebra dataset"
   ]
  },
  {
   "cell_type": "code",
   "execution_count": 23,
   "metadata": {},
   "outputs": [],
   "source": [
    "def clean_html(raw_html):\n",
    "    cleanr = re.compile('<.*?>')\n",
    "    cleantext = re.sub(cleanr, '', raw_html)\n",
    "    return cleantext"
   ]
  },
  {
   "cell_type": "code",
   "execution_count": 24,
   "metadata": {},
   "outputs": [
    {
     "name": "stdout",
     "output_type": "stream",
     "text": [
      "=== stats===\n",
      "findzebra_df: # of rows: 30658\n"
     ]
    }
   ],
   "source": [
    "relevant_columns = {\n",
    "    \"title\": 2,\n",
    "    \"raw_content\": 3,\n",
    "    \"cui\": 6,\n",
    "    \"classification_map\": 7\n",
    "}\n",
    "\n",
    "# clearing html tags and removing trailing whitespaces\n",
    "findzebra_df = pd.read_csv(findzebra_csv_path, header=None, usecols=relevant_columns.values())\n",
    "findzebra_df.columns = relevant_columns.keys()    \n",
    "    \n",
    "print(\"=== stats===\")\n",
    "print(f\"findzebra_df: # of rows: {findzebra_df.shape[0]}\")\n",
    "\n",
    "findzebra_df['raw_content'] = findzebra_df['raw_content'].apply(lambda x: clean_html(x))\n",
    "findzebra_df['raw_content'] = findzebra_df['raw_content'].apply(lambda x: x.lower().replace('\\n','').strip())"
   ]
  },
  {
   "cell_type": "code",
   "execution_count": 26,
   "metadata": {},
   "outputs": [],
   "source": [
    "def map_findzebra_articles_to_medqa_answers(answer_options, mapping, failed_mapping):\n",
    "    for answer_option in tqdm(answer_options):\n",
    "        try:\n",
    "            matching_umls = umls_terms.loc[umls_terms['STR'].str.contains(answer_option, na=False)]\n",
    "            disease_cuis = matching_umls['CUI'].unique()\n",
    "            if len(disease_cuis) > 0:\n",
    "                matching_articles = findzebra_df.loc[findzebra_df['cui'].isin(disease_cuis)]\n",
    "\n",
    "                if matching_articles.shape[0] > 0:\n",
    "                    cui_aricle_id = {}\n",
    "                    for i, match in matching_articles.iterrows():\n",
    "                        cui_aricle_id[match['cui']] = match\n",
    "                    mapping[answer_option] = cui_aricle_id\n",
    "                else:\n",
    "                    mapping[answer_option] = {}\n",
    "            else:\n",
    "                mapping[answer_option] = {}    \n",
    "        except:\n",
    "            failed_mapping.append(answer_option)"
   ]
  },
  {
   "cell_type": "code",
   "execution_count": 27,
   "metadata": {},
   "outputs": [],
   "source": [
    "# returns dictionary where key is the answer option and value is tuple: (CUI: dataframe of matched articles)\n",
    "\n",
    "def new_map_findzebra_articles_to_medqa_answers(answer_options, mapping, failed_mapping):\n",
    "    for answer_option in tqdm(answer_options):\n",
    "        try:\n",
    "            mapping[answer_option] = []\n",
    "            matching_umls = umls_terms.loc[umls_terms['STR'].str.contains(answer_option, na=False)]\n",
    "            disease_cuis = matching_umls['CUI'].unique()\n",
    "            if len(disease_cuis) > 0:\n",
    "                matching_articles = findzebra_df.loc[findzebra_df['cui'].isin(disease_cuis)]\n",
    "\n",
    "                if matching_articles.shape[0] > 0:\n",
    "                    matched_cuis = matching_articles['cui'].unique()\n",
    "                    cui_articles = []\n",
    "                    \n",
    "                    for matched_cui in matched_cuis:\n",
    "                        matched_articles = findzebra_df.loc[findzebra_df['cui'] == matched_cui]\n",
    "                        cui_articles.append((matched_cui, matched_articles))\n",
    "                    \n",
    "                    mapping[answer_option] += cui_articles\n",
    "        except:\n",
    "            failed_mapping.append(answer_option)"
   ]
  },
  {
   "cell_type": "code",
   "execution_count": 28,
   "metadata": {},
   "outputs": [],
   "source": [
    "def chunks(data, number_of_processes):\n",
    "    chunk_size = math.ceil(math.ceil(len(data) / number_of_processes))\n",
    "\n",
    "    for i in range(0, len(data), chunk_size):\n",
    "        yield data[i:i + chunk_size]"
   ]
  },
  {
   "cell_type": "code",
   "execution_count": 29,
   "metadata": {},
   "outputs": [],
   "source": [
    "def multiprocess_mapping(method_used, num_of_processors, all_answers):\n",
    "    manager = multiprocessing.Manager()\n",
    "    all_results = manager.dict()\n",
    "    all_fails = manager.list()\n",
    "    jobs = []\n",
    "    \n",
    "    data = list(chunks(all_answers, num_of_processors))\n",
    "\n",
    "    for i in range(num_of_processors):\n",
    "        p = multiprocessing.Process(target=method_used, args=(data[i], all_results, all_fails))\n",
    "        jobs.append(p)\n",
    "        p.start()\n",
    "\n",
    "    for proc in jobs:\n",
    "        proc.join()\n",
    "        \n",
    "    return dict(all_results), list(all_fails)\n"
   ]
  },
  {
   "cell_type": "code",
   "execution_count": 30,
   "metadata": {},
   "outputs": [],
   "source": []
  },
  {
   "cell_type": "code",
   "execution_count": 40,
   "metadata": {},
   "outputs": [],
   "source": [
    "a = load_pickle('0-34.pickle')\n",
    "b = load_pickle('34-68.pickle')\n",
    "\n",
    "x = load_pickle('lol_failed0-60.pickle')\n",
    "y = load_pickle('lol_failed60-100.pickle')\n",
    "\n",
    "answer_cui_articles_matching = dict(a)\n",
    "answer_cui_articles_matching.update(b)\n",
    "\n",
    "failed_cui_articles_matching = x + y"
   ]
  },
  {
   "cell_type": "code",
   "execution_count": 16,
   "metadata": {},
   "outputs": [
    {
     "name": "stderr",
     "output_type": "stream",
     "text": [
      "100%|██████████| 3946/3946 [56:36<00:00,  1.16it/s]  \n",
      "100%|██████████| 3944/3944 [56:38<00:00,  1.16it/s]\n",
      "100%|██████████| 3946/3946 [57:15<00:00,  1.15it/s]\n",
      "100%|██████████| 3946/3946 [57:43<00:00,  1.14it/s]\n",
      "100%|██████████| 3946/3946 [56:51<00:00,  1.16it/s]  \n",
      "100%|██████████| 3946/3946 [56:56<00:00,  1.16it/s]\n",
      "100%|██████████| 3945/3945 [57:38<00:00,  1.14it/s]\n",
      "100%|██████████| 3946/3946 [57:42<00:00,  1.14it/s]\n",
      " 88%|████████▊ | 3277/3714 [46:55<06:15,  1.16it/s]   \n",
      " 87%|████████▋ | 3215/3714 [46:55<07:16,  1.14it/s]Process Process-12:\n",
      "\n",
      "Process Process-13:\n",
      " 87%|████████▋ | 3221/3714 [46:55<07:10,  1.14it/s]\n",
      "Process Process-14:\n",
      "Traceback (most recent call last):\n",
      "Traceback (most recent call last):\n",
      "Traceback (most recent call last):\n",
      "  File \"<ipython-input-12-e301e0f2826c>\", line 6, in new_map_findzebra_articles_to_medqa_answers\n",
      "    mapping[answer_option] = []\n",
      "  File \"<string>\", line 2, in __setitem__\n",
      "  File \"<ipython-input-12-e301e0f2826c>\", line 6, in new_map_findzebra_articles_to_medqa_answers\n",
      "    mapping[answer_option] = []\n",
      "  File \"<ipython-input-12-e301e0f2826c>\", line 20, in new_map_findzebra_articles_to_medqa_answers\n",
      "    mapping[answer_option] += cui_articles\n",
      "  File \"/home/gustaw/anaconda3/lib/python3.8/multiprocessing/managers.py\", line 835, in _callmethod\n",
      "    kind, result = conn.recv()\n",
      "  File \"<string>\", line 2, in __setitem__\n",
      "  File \"/home/gustaw/anaconda3/lib/python3.8/multiprocessing/connection.py\", line 250, in recv\n",
      "    buf = self._recv_bytes()\n",
      "  File \"/home/gustaw/anaconda3/lib/python3.8/multiprocessing/managers.py\", line 835, in _callmethod\n",
      "    kind, result = conn.recv()\n",
      "  File \"/home/gustaw/anaconda3/lib/python3.8/multiprocessing/connection.py\", line 414, in _recv_bytes\n",
      "    buf = self._recv(4)\n",
      "  File \"/home/gustaw/anaconda3/lib/python3.8/multiprocessing/connection.py\", line 250, in recv\n",
      "    buf = self._recv_bytes()\n",
      "  File \"/home/gustaw/anaconda3/lib/python3.8/multiprocessing/connection.py\", line 379, in _recv\n",
      "    chunk = read(handle, remaining)\n",
      "  File \"/home/gustaw/anaconda3/lib/python3.8/multiprocessing/connection.py\", line 414, in _recv_bytes\n",
      "    buf = self._recv(4)\n",
      "  File \"<string>\", line 2, in __setitem__\n",
      "ConnectionResetError: [Errno 104] Connection reset by peer\n",
      "  File \"/home/gustaw/anaconda3/lib/python3.8/multiprocessing/connection.py\", line 383, in _recv\n",
      "    raise EOFError\n",
      "EOFError\n",
      "\n",
      "During handling of the above exception, another exception occurred:\n",
      "\n",
      "\n",
      "During handling of the above exception, another exception occurred:\n",
      "\n",
      "Traceback (most recent call last):\n",
      "Traceback (most recent call last):\n",
      "  File \"/home/gustaw/anaconda3/lib/python3.8/multiprocessing/process.py\", line 315, in _bootstrap\n",
      "    self.run()\n",
      "  File \"/home/gustaw/anaconda3/lib/python3.8/multiprocessing/process.py\", line 315, in _bootstrap\n",
      "    self.run()\n",
      "  File \"/home/gustaw/anaconda3/lib/python3.8/multiprocessing/managers.py\", line 835, in _callmethod\n",
      "    kind, result = conn.recv()\n",
      "  File \"/home/gustaw/anaconda3/lib/python3.8/multiprocessing/process.py\", line 108, in run\n",
      "    self._target(*self._args, **self._kwargs)\n",
      "  File \"/home/gustaw/anaconda3/lib/python3.8/multiprocessing/process.py\", line 108, in run\n",
      "    self._target(*self._args, **self._kwargs)\n",
      "  File \"<ipython-input-12-e301e0f2826c>\", line 22, in new_map_findzebra_articles_to_medqa_answers\n",
      "    failed_mapping.append(answer_option)\n",
      "  File \"/home/gustaw/anaconda3/lib/python3.8/multiprocessing/connection.py\", line 250, in recv\n",
      "    buf = self._recv_bytes()\n",
      "  File \"<ipython-input-12-e301e0f2826c>\", line 22, in new_map_findzebra_articles_to_medqa_answers\n",
      "    failed_mapping.append(answer_option)\n",
      "  File \"/home/gustaw/anaconda3/lib/python3.8/multiprocessing/connection.py\", line 414, in _recv_bytes\n",
      "    buf = self._recv(4)\n",
      "  File \"<string>\", line 2, in append\n",
      "  File \"<string>\", line 2, in append\n",
      "  File \"/home/gustaw/anaconda3/lib/python3.8/multiprocessing/connection.py\", line 379, in _recv\n",
      "    chunk = read(handle, remaining)\n",
      "  File \"/home/gustaw/anaconda3/lib/python3.8/multiprocessing/managers.py\", line 834, in _callmethod\n",
      "    conn.send((self._id, methodname, args, kwds))\n",
      "ConnectionResetError: [Errno 104] Connection reset by peer\n",
      "  File \"/home/gustaw/anaconda3/lib/python3.8/multiprocessing/managers.py\", line 834, in _callmethod\n",
      "    conn.send((self._id, methodname, args, kwds))\n",
      "  File \"/home/gustaw/anaconda3/lib/python3.8/multiprocessing/connection.py\", line 206, in send\n",
      "    self._send_bytes(_ForkingPickler.dumps(obj))\n",
      "  File \"/home/gustaw/anaconda3/lib/python3.8/multiprocessing/connection.py\", line 206, in send\n",
      "    self._send_bytes(_ForkingPickler.dumps(obj))\n",
      "\n",
      "During handling of the above exception, another exception occurred:\n",
      "\n",
      "  File \"/home/gustaw/anaconda3/lib/python3.8/multiprocessing/connection.py\", line 411, in _send_bytes\n",
      "    self._send(header + buf)\n",
      "  File \"/home/gustaw/anaconda3/lib/python3.8/multiprocessing/connection.py\", line 411, in _send_bytes\n",
      "    self._send(header + buf)\n",
      "Traceback (most recent call last):\n",
      "  File \"/home/gustaw/anaconda3/lib/python3.8/multiprocessing/connection.py\", line 368, in _send\n",
      "    n = write(self._handle, buf)\n",
      "  File \"/home/gustaw/anaconda3/lib/python3.8/multiprocessing/connection.py\", line 368, in _send\n",
      "    n = write(self._handle, buf)\n",
      "  File \"/home/gustaw/anaconda3/lib/python3.8/multiprocessing/process.py\", line 315, in _bootstrap\n",
      "    self.run()\n",
      "BrokenPipeError: [Errno 32] Broken pipe\n",
      "BrokenPipeError: [Errno 32] Broken pipe\n",
      "  File \"/home/gustaw/anaconda3/lib/python3.8/multiprocessing/process.py\", line 108, in run\n",
      "    self._target(*self._args, **self._kwargs)\n",
      "  File \"<ipython-input-12-e301e0f2826c>\", line 22, in new_map_findzebra_articles_to_medqa_answers\n",
      "    failed_mapping.append(answer_option)\n",
      "  File \"<string>\", line 2, in append\n",
      "  File \"/home/gustaw/anaconda3/lib/python3.8/multiprocessing/managers.py\", line 834, in _callmethod\n",
      "    conn.send((self._id, methodname, args, kwds))\n",
      "  File \"/home/gustaw/anaconda3/lib/python3.8/multiprocessing/connection.py\", line 206, in send\n",
      "    self._send_bytes(_ForkingPickler.dumps(obj))\n",
      "  File \"/home/gustaw/anaconda3/lib/python3.8/multiprocessing/connection.py\", line 411, in _send_bytes\n",
      "    self._send(header + buf)\n",
      "  File \"/home/gustaw/anaconda3/lib/python3.8/multiprocessing/connection.py\", line 368, in _send\n",
      "    n = write(self._handle, buf)\n",
      "BrokenPipeError: [Errno 32] Broken pipe\n",
      " 87%|████████▋ | 3244/3713 [46:55<06:47,  1.15it/s]\n",
      "Process Process-15:\n",
      "Traceback (most recent call last):\n",
      "  File \"<ipython-input-12-e301e0f2826c>\", line 6, in new_map_findzebra_articles_to_medqa_answers\n",
      "    mapping[answer_option] = []\n",
      "  File \"<string>\", line 2, in __setitem__\n",
      "  File \"/home/gustaw/anaconda3/lib/python3.8/multiprocessing/managers.py\", line 834, in _callmethod\n",
      "    conn.send((self._id, methodname, args, kwds))\n",
      "  File \"/home/gustaw/anaconda3/lib/python3.8/multiprocessing/connection.py\", line 206, in send\n",
      "    self._send_bytes(_ForkingPickler.dumps(obj))\n",
      "  File \"/home/gustaw/anaconda3/lib/python3.8/multiprocessing/connection.py\", line 411, in _send_bytes\n",
      "    self._send(header + buf)\n",
      "  File \"/home/gustaw/anaconda3/lib/python3.8/multiprocessing/connection.py\", line 368, in _send\n",
      "    n = write(self._handle, buf)\n",
      "BrokenPipeError: [Errno 32] Broken pipe\n",
      "\n",
      "During handling of the above exception, another exception occurred:\n",
      "\n",
      "Traceback (most recent call last):\n",
      "  File \"/home/gustaw/anaconda3/lib/python3.8/multiprocessing/process.py\", line 315, in _bootstrap\n",
      "    self.run()\n",
      "  File \"/home/gustaw/anaconda3/lib/python3.8/multiprocessing/process.py\", line 108, in run\n",
      "    self._target(*self._args, **self._kwargs)\n",
      "  File \"<ipython-input-12-e301e0f2826c>\", line 22, in new_map_findzebra_articles_to_medqa_answers\n",
      "    failed_mapping.append(answer_option)\n",
      "  File \"<string>\", line 2, in append\n",
      "  File \"/home/gustaw/anaconda3/lib/python3.8/multiprocessing/managers.py\", line 834, in _callmethod\n",
      "    conn.send((self._id, methodname, args, kwds))\n",
      "  File \"/home/gustaw/anaconda3/lib/python3.8/multiprocessing/connection.py\", line 206, in send\n",
      "    self._send_bytes(_ForkingPickler.dumps(obj))\n",
      "  File \"/home/gustaw/anaconda3/lib/python3.8/multiprocessing/connection.py\", line 411, in _send_bytes\n",
      "    self._send(header + buf)\n",
      "  File \"/home/gustaw/anaconda3/lib/python3.8/multiprocessing/connection.py\", line 368, in _send\n",
      "    n = write(self._handle, buf)\n"
     ]
    },
    {
     "name": "stderr",
     "output_type": "stream",
     "text": [
      "BrokenPipeError: [Errno 32] Broken pipe\n"
     ]
    },
    {
     "ename": "ConnectionRefusedError",
     "evalue": "[Errno 111] Connection refused",
     "output_type": "error",
     "traceback": [
      "\u001b[0;31m---------------------------------------------------------------------------\u001b[0m",
      "\u001b[0;31mAttributeError\u001b[0m                            Traceback (most recent call last)",
      "\u001b[0;32m~/anaconda3/lib/python3.8/multiprocessing/managers.py\u001b[0m in \u001b[0;36m_callmethod\u001b[0;34m(self, methodname, args, kwds)\u001b[0m\n\u001b[1;32m    826\u001b[0m         \u001b[0;32mtry\u001b[0m\u001b[0;34m:\u001b[0m\u001b[0;34m\u001b[0m\u001b[0;34m\u001b[0m\u001b[0m\n\u001b[0;32m--> 827\u001b[0;31m             \u001b[0mconn\u001b[0m \u001b[0;34m=\u001b[0m \u001b[0mself\u001b[0m\u001b[0;34m.\u001b[0m\u001b[0m_tls\u001b[0m\u001b[0;34m.\u001b[0m\u001b[0mconnection\u001b[0m\u001b[0;34m\u001b[0m\u001b[0;34m\u001b[0m\u001b[0m\n\u001b[0m\u001b[1;32m    828\u001b[0m         \u001b[0;32mexcept\u001b[0m \u001b[0mAttributeError\u001b[0m\u001b[0;34m:\u001b[0m\u001b[0;34m\u001b[0m\u001b[0;34m\u001b[0m\u001b[0m\n",
      "\u001b[0;31mAttributeError\u001b[0m: 'ForkAwareLocal' object has no attribute 'connection'",
      "\nDuring handling of the above exception, another exception occurred:\n",
      "\u001b[0;31mConnectionRefusedError\u001b[0m                    Traceback (most recent call last)",
      "\u001b[0;32m<ipython-input-16-6070cc52f1ec>\u001b[0m in \u001b[0;36m<module>\u001b[0;34m\u001b[0m\n\u001b[1;32m     18\u001b[0m \u001b[0msave_data\u001b[0m\u001b[0;34m(\u001b[0m\u001b[0manswer_cui_articles_matching_two\u001b[0m\u001b[0;34m,\u001b[0m \u001b[0;34m'34-68.pickle'\u001b[0m\u001b[0;34m)\u001b[0m\u001b[0;34m\u001b[0m\u001b[0;34m\u001b[0m\u001b[0m\n\u001b[1;32m     19\u001b[0m \u001b[0;34m\u001b[0m\u001b[0m\n\u001b[0;32m---> 20\u001b[0;31m answer_cui_articles_matching_three, failed_cui_articles_matching_three = multiprocess_mapping(\n\u001b[0m\u001b[1;32m     21\u001b[0m     \u001b[0mmethod_used\u001b[0m\u001b[0;34m=\u001b[0m\u001b[0mnew_map_findzebra_articles_to_medqa_answers\u001b[0m\u001b[0;34m,\u001b[0m\u001b[0;34m\u001b[0m\u001b[0;34m\u001b[0m\u001b[0m\n\u001b[1;32m     22\u001b[0m     \u001b[0mnum_of_processors\u001b[0m\u001b[0;34m=\u001b[0m\u001b[0mNUM_OF_PROCESSORS\u001b[0m\u001b[0;34m,\u001b[0m\u001b[0;34m\u001b[0m\u001b[0;34m\u001b[0m\u001b[0m\n",
      "\u001b[0;32m<ipython-input-14-4ffd9820bda6>\u001b[0m in \u001b[0;36mmultiprocess_mapping\u001b[0;34m(method_used, num_of_processors, all_answers)\u001b[0m\n\u001b[1;32m     15\u001b[0m         \u001b[0mproc\u001b[0m\u001b[0;34m.\u001b[0m\u001b[0mjoin\u001b[0m\u001b[0;34m(\u001b[0m\u001b[0;34m)\u001b[0m\u001b[0;34m\u001b[0m\u001b[0;34m\u001b[0m\u001b[0m\n\u001b[1;32m     16\u001b[0m \u001b[0;34m\u001b[0m\u001b[0m\n\u001b[0;32m---> 17\u001b[0;31m     \u001b[0;32mreturn\u001b[0m \u001b[0mdict\u001b[0m\u001b[0;34m(\u001b[0m\u001b[0mall_results\u001b[0m\u001b[0;34m)\u001b[0m\u001b[0;34m,\u001b[0m \u001b[0mlist\u001b[0m\u001b[0;34m(\u001b[0m\u001b[0mall_fails\u001b[0m\u001b[0;34m)\u001b[0m\u001b[0;34m\u001b[0m\u001b[0;34m\u001b[0m\u001b[0m\n\u001b[0m",
      "\u001b[0;32m<string>\u001b[0m in \u001b[0;36mkeys\u001b[0;34m(self, *args, **kwds)\u001b[0m\n",
      "\u001b[0;32m~/anaconda3/lib/python3.8/multiprocessing/managers.py\u001b[0m in \u001b[0;36m_callmethod\u001b[0;34m(self, methodname, args, kwds)\u001b[0m\n\u001b[1;32m    829\u001b[0m             util.debug('thread %r does not own a connection',\n\u001b[1;32m    830\u001b[0m                        threading.current_thread().name)\n\u001b[0;32m--> 831\u001b[0;31m             \u001b[0mself\u001b[0m\u001b[0;34m.\u001b[0m\u001b[0m_connect\u001b[0m\u001b[0;34m(\u001b[0m\u001b[0;34m)\u001b[0m\u001b[0;34m\u001b[0m\u001b[0;34m\u001b[0m\u001b[0m\n\u001b[0m\u001b[1;32m    832\u001b[0m             \u001b[0mconn\u001b[0m \u001b[0;34m=\u001b[0m \u001b[0mself\u001b[0m\u001b[0;34m.\u001b[0m\u001b[0m_tls\u001b[0m\u001b[0;34m.\u001b[0m\u001b[0mconnection\u001b[0m\u001b[0;34m\u001b[0m\u001b[0;34m\u001b[0m\u001b[0m\n\u001b[1;32m    833\u001b[0m \u001b[0;34m\u001b[0m\u001b[0m\n",
      "\u001b[0;32m~/anaconda3/lib/python3.8/multiprocessing/managers.py\u001b[0m in \u001b[0;36m_connect\u001b[0;34m(self)\u001b[0m\n\u001b[1;32m    816\u001b[0m         \u001b[0;32mif\u001b[0m \u001b[0mthreading\u001b[0m\u001b[0;34m.\u001b[0m\u001b[0mcurrent_thread\u001b[0m\u001b[0;34m(\u001b[0m\u001b[0;34m)\u001b[0m\u001b[0;34m.\u001b[0m\u001b[0mname\u001b[0m \u001b[0;34m!=\u001b[0m \u001b[0;34m'MainThread'\u001b[0m\u001b[0;34m:\u001b[0m\u001b[0;34m\u001b[0m\u001b[0;34m\u001b[0m\u001b[0m\n\u001b[1;32m    817\u001b[0m             \u001b[0mname\u001b[0m \u001b[0;34m+=\u001b[0m \u001b[0;34m'|'\u001b[0m \u001b[0;34m+\u001b[0m \u001b[0mthreading\u001b[0m\u001b[0;34m.\u001b[0m\u001b[0mcurrent_thread\u001b[0m\u001b[0;34m(\u001b[0m\u001b[0;34m)\u001b[0m\u001b[0;34m.\u001b[0m\u001b[0mname\u001b[0m\u001b[0;34m\u001b[0m\u001b[0;34m\u001b[0m\u001b[0m\n\u001b[0;32m--> 818\u001b[0;31m         \u001b[0mconn\u001b[0m \u001b[0;34m=\u001b[0m \u001b[0mself\u001b[0m\u001b[0;34m.\u001b[0m\u001b[0m_Client\u001b[0m\u001b[0;34m(\u001b[0m\u001b[0mself\u001b[0m\u001b[0;34m.\u001b[0m\u001b[0m_token\u001b[0m\u001b[0;34m.\u001b[0m\u001b[0maddress\u001b[0m\u001b[0;34m,\u001b[0m \u001b[0mauthkey\u001b[0m\u001b[0;34m=\u001b[0m\u001b[0mself\u001b[0m\u001b[0;34m.\u001b[0m\u001b[0m_authkey\u001b[0m\u001b[0;34m)\u001b[0m\u001b[0;34m\u001b[0m\u001b[0;34m\u001b[0m\u001b[0m\n\u001b[0m\u001b[1;32m    819\u001b[0m         \u001b[0mdispatch\u001b[0m\u001b[0;34m(\u001b[0m\u001b[0mconn\u001b[0m\u001b[0;34m,\u001b[0m \u001b[0;32mNone\u001b[0m\u001b[0;34m,\u001b[0m \u001b[0;34m'accept_connection'\u001b[0m\u001b[0;34m,\u001b[0m \u001b[0;34m(\u001b[0m\u001b[0mname\u001b[0m\u001b[0;34m,\u001b[0m\u001b[0;34m)\u001b[0m\u001b[0;34m)\u001b[0m\u001b[0;34m\u001b[0m\u001b[0;34m\u001b[0m\u001b[0m\n\u001b[1;32m    820\u001b[0m         \u001b[0mself\u001b[0m\u001b[0;34m.\u001b[0m\u001b[0m_tls\u001b[0m\u001b[0;34m.\u001b[0m\u001b[0mconnection\u001b[0m \u001b[0;34m=\u001b[0m \u001b[0mconn\u001b[0m\u001b[0;34m\u001b[0m\u001b[0;34m\u001b[0m\u001b[0m\n",
      "\u001b[0;32m~/anaconda3/lib/python3.8/multiprocessing/connection.py\u001b[0m in \u001b[0;36mClient\u001b[0;34m(address, family, authkey)\u001b[0m\n\u001b[1;32m    500\u001b[0m         \u001b[0mc\u001b[0m \u001b[0;34m=\u001b[0m \u001b[0mPipeClient\u001b[0m\u001b[0;34m(\u001b[0m\u001b[0maddress\u001b[0m\u001b[0;34m)\u001b[0m\u001b[0;34m\u001b[0m\u001b[0;34m\u001b[0m\u001b[0m\n\u001b[1;32m    501\u001b[0m     \u001b[0;32melse\u001b[0m\u001b[0;34m:\u001b[0m\u001b[0;34m\u001b[0m\u001b[0;34m\u001b[0m\u001b[0m\n\u001b[0;32m--> 502\u001b[0;31m         \u001b[0mc\u001b[0m \u001b[0;34m=\u001b[0m \u001b[0mSocketClient\u001b[0m\u001b[0;34m(\u001b[0m\u001b[0maddress\u001b[0m\u001b[0;34m)\u001b[0m\u001b[0;34m\u001b[0m\u001b[0;34m\u001b[0m\u001b[0m\n\u001b[0m\u001b[1;32m    503\u001b[0m \u001b[0;34m\u001b[0m\u001b[0m\n\u001b[1;32m    504\u001b[0m     \u001b[0;32mif\u001b[0m \u001b[0mauthkey\u001b[0m \u001b[0;32mis\u001b[0m \u001b[0;32mnot\u001b[0m \u001b[0;32mNone\u001b[0m \u001b[0;32mand\u001b[0m \u001b[0;32mnot\u001b[0m \u001b[0misinstance\u001b[0m\u001b[0;34m(\u001b[0m\u001b[0mauthkey\u001b[0m\u001b[0;34m,\u001b[0m \u001b[0mbytes\u001b[0m\u001b[0;34m)\u001b[0m\u001b[0;34m:\u001b[0m\u001b[0;34m\u001b[0m\u001b[0;34m\u001b[0m\u001b[0m\n",
      "\u001b[0;32m~/anaconda3/lib/python3.8/multiprocessing/connection.py\u001b[0m in \u001b[0;36mSocketClient\u001b[0;34m(address)\u001b[0m\n\u001b[1;32m    628\u001b[0m     \u001b[0;32mwith\u001b[0m \u001b[0msocket\u001b[0m\u001b[0;34m.\u001b[0m\u001b[0msocket\u001b[0m\u001b[0;34m(\u001b[0m \u001b[0mgetattr\u001b[0m\u001b[0;34m(\u001b[0m\u001b[0msocket\u001b[0m\u001b[0;34m,\u001b[0m \u001b[0mfamily\u001b[0m\u001b[0;34m)\u001b[0m \u001b[0;34m)\u001b[0m \u001b[0;32mas\u001b[0m \u001b[0ms\u001b[0m\u001b[0;34m:\u001b[0m\u001b[0;34m\u001b[0m\u001b[0;34m\u001b[0m\u001b[0m\n\u001b[1;32m    629\u001b[0m         \u001b[0ms\u001b[0m\u001b[0;34m.\u001b[0m\u001b[0msetblocking\u001b[0m\u001b[0;34m(\u001b[0m\u001b[0;32mTrue\u001b[0m\u001b[0;34m)\u001b[0m\u001b[0;34m\u001b[0m\u001b[0;34m\u001b[0m\u001b[0m\n\u001b[0;32m--> 630\u001b[0;31m         \u001b[0ms\u001b[0m\u001b[0;34m.\u001b[0m\u001b[0mconnect\u001b[0m\u001b[0;34m(\u001b[0m\u001b[0maddress\u001b[0m\u001b[0;34m)\u001b[0m\u001b[0;34m\u001b[0m\u001b[0;34m\u001b[0m\u001b[0m\n\u001b[0m\u001b[1;32m    631\u001b[0m         \u001b[0;32mreturn\u001b[0m \u001b[0mConnection\u001b[0m\u001b[0;34m(\u001b[0m\u001b[0ms\u001b[0m\u001b[0;34m.\u001b[0m\u001b[0mdetach\u001b[0m\u001b[0;34m(\u001b[0m\u001b[0;34m)\u001b[0m\u001b[0;34m)\u001b[0m\u001b[0;34m\u001b[0m\u001b[0;34m\u001b[0m\u001b[0m\n\u001b[1;32m    632\u001b[0m \u001b[0;34m\u001b[0m\u001b[0m\n",
      "\u001b[0;31mConnectionRefusedError\u001b[0m: [Errno 111] Connection refused"
     ]
    }
   ],
   "source": [
    "# # example of WIP with parts (done)\n",
    "\n",
    "first_thresh = int(len(medqa_all_unique_answers) / 100 * 34)\n",
    "second_thresh = int(len(medqa_all_unique_answers) / 50 * 34)\n",
    "\n",
    "# answer_cui_articles_matching_one, failed_cui_articles_matching_one = multiprocess_mapping(\n",
    "#     method_used=new_map_findzebra_articles_to_medqa_answers, \n",
    "#     num_of_processors=NUM_OF_PROCESSORS, \n",
    "#     all_answers=medqa_all_unique_answers[:first_thresh]\n",
    "# )\n",
    "# save_data(answer_cui_articles_matching_one, '0-34.pickle') \n",
    "\n",
    "# answer_cui_articles_matching_two, failed_cui_articles_matching_two = multiprocess_mapping(\n",
    "#     method_used=new_map_findzebra_articles_to_medqa_answers, \n",
    "#     num_of_processors=NUM_OF_PROCESSORS, \n",
    "#     all_answers=medqa_all_unique_answers[first_thresh:second_thresh]\n",
    "# )\n",
    "# save_data(answer_cui_articles_matching_two, '34-68.pickle') \n",
    "\n",
    "answer_cui_articles_matching_three, failed_cui_articles_matching_three = multiprocess_mapping(\n",
    "    method_used=new_map_findzebra_articles_to_medqa_answers, \n",
    "    num_of_processors=NUM_OF_PROCESSORS, \n",
    "    all_answers=medqa_all_unique_answers[second_thresh:]\n",
    ")\n",
    "save_data(answer_cui_articles_matching_three, '68-100.pickle') \n",
    "\n",
    "failed_cui_articles_matching = failed_cui_articles_matching_one + failed_cui_articles_matching_two + failed_cui_articles_matching_three\n",
    "# save_data(answer_cui_articles_matching_two, 'lol2.pickle') # 675MB: "
   ]
  },
  {
   "cell_type": "code",
   "execution_count": 7,
   "metadata": {},
   "outputs": [],
   "source": [
    "# a = load_pickle('lol0-10.pickle')\n",
    "# b = load_pickle('lol10-30.pickle')\n",
    "# c = load_pickle('lol30-60.pickle')\n",
    "# d = load_pickle('lol60-80.pickle')\n",
    "# e = load_pickle('lol80-100.pickle')\n",
    "\n",
    "# total_len = len(a) + len(b) + len(c) + len(d) + len(e)\n",
    "# print(total_len)"
   ]
  },
  {
   "cell_type": "code",
   "execution_count": 116,
   "metadata": {},
   "outputs": [
    {
     "name": "stdout",
     "output_type": "stream",
     "text": [
      "46420\n"
     ]
    }
   ],
   "source": [
    "total_len = len(a) + len(b) + len(c) + len(d) + len(e)\n",
    "print(total_len)"
   ]
  },
  {
   "cell_type": "code",
   "execution_count": 117,
   "metadata": {},
   "outputs": [
    {
     "name": "stdout",
     "output_type": "stream",
     "text": [
      "35331\n"
     ]
    }
   ],
   "source": [
    "print(len(f.keys()))"
   ]
  },
  {
   "cell_type": "code",
   "execution_count": 28,
   "metadata": {},
   "outputs": [],
   "source": [
    "# # Program to check the list contains any elements of another list\n",
    "\n",
    "# # List1\n",
    "# List1 = ['python' ,  'javascript', 'csharp', 'go', 'c', 'c++']\n",
    " \n",
    "# # List2\n",
    "# List2 = ['csharp1' , 'go', 'python']\n",
    "\n",
    "# check =  any(item in a.keys() for item in e.keys())\n",
    " \n",
    "# if check is True:\n",
    "#     print(\"The list {} contains all elements of the list {}\".format(List1, List2))    \n",
    "# else :\n",
    "#     print(\"No, List1 doesn't have all elements of the List2.\")"
   ]
  },
  {
   "cell_type": "markdown",
   "metadata": {},
   "source": [
    "### Creating mapping and saving to pickle file"
   ]
  },
  {
   "cell_type": "code",
   "execution_count": 16,
   "metadata": {},
   "outputs": [
    {
     "ename": "TypeError",
     "evalue": "multiprocess_mapping() missing 1 required positional argument: 'all_answers'",
     "output_type": "error",
     "traceback": [
      "\u001b[0;31m---------------------------------------------------------------------------\u001b[0m",
      "\u001b[0;31mTypeError\u001b[0m                                 Traceback (most recent call last)",
      "\u001b[0;32m<ipython-input-16-3471c363960d>\u001b[0m in \u001b[0;36m<module>\u001b[0;34m\u001b[0m\n\u001b[1;32m      1\u001b[0m \u001b[0;32mif\u001b[0m \u001b[0mcreate_or_load_mapping\u001b[0m \u001b[0;34m==\u001b[0m \u001b[0;34m'create'\u001b[0m\u001b[0;34m:\u001b[0m\u001b[0;34m\u001b[0m\u001b[0;34m\u001b[0m\u001b[0m\n\u001b[0;32m----> 2\u001b[0;31m     \u001b[0manswer_findzebra_articles_map\u001b[0m\u001b[0;34m,\u001b[0m \u001b[0mfailed_mapping\u001b[0m \u001b[0;34m=\u001b[0m \u001b[0mmultiprocess_mapping\u001b[0m\u001b[0;34m(\u001b[0m\u001b[0;36m5\u001b[0m\u001b[0;34m,\u001b[0m \u001b[0mmedqa_all_unique_answers\u001b[0m\u001b[0;34m)\u001b[0m\u001b[0;34m\u001b[0m\u001b[0;34m\u001b[0m\u001b[0m\n\u001b[0m\u001b[1;32m      3\u001b[0m     \u001b[0msave_data\u001b[0m\u001b[0;34m(\u001b[0m\u001b[0manswer_findzebra_articles_map\u001b[0m\u001b[0;34m,\u001b[0m \u001b[0manswer_findzebra_articles_map_pickle_path\u001b[0m\u001b[0;34m)\u001b[0m\u001b[0;34m\u001b[0m\u001b[0;34m\u001b[0m\u001b[0m\n\u001b[1;32m      4\u001b[0m     \u001b[0msave_data\u001b[0m\u001b[0;34m(\u001b[0m\u001b[0mfailed_mapping\u001b[0m\u001b[0;34m,\u001b[0m \u001b[0mfailed_mapping_path\u001b[0m\u001b[0;34m)\u001b[0m\u001b[0;34m\u001b[0m\u001b[0;34m\u001b[0m\u001b[0m\n",
      "\u001b[0;31mTypeError\u001b[0m: multiprocess_mapping() missing 1 required positional argument: 'all_answers'"
     ]
    }
   ],
   "source": [
    "if CREATE_OR_LOAD_MAPPING == 'create':\n",
    "    answer_findzebra_articles_map, failed_mapping = multiprocess_mapping(new_map_findzebra_articles_to_medqa_answers, NUM_OF_PROCESSORS, medqa_all_unique_answers)\n",
    "    save_data(answer_cui_articles_matching, answer_cui_articles_matching_path)\n",
    "    save_data(failed_cui_articles_matching, failed_cui_articles_matching_path)"
   ]
  },
  {
   "cell_type": "code",
   "execution_count": 17,
   "metadata": {},
   "outputs": [],
   "source": [
    "# new_answer_cui_articles_matching = {}\n",
    "# new_failed_matching = []\n",
    "# # more than 1 CUI, more than 1 article per CUI\n",
    "# example_index = medqa_all_unique_answers.index('esophageal atresia')\n",
    "\n",
    "# new_map_findzebra_articles_to_medqa_answers([medqa_all_unique_answers[example_index]], new_answer_cui_articles_matching, new_failed_matching)\n",
    "\n",
    "# new_answer_findzebra_articles_map, failed_mapping = multiprocess_mapping(new_map_findzebra_articles_to_medqa_answers,2, medqa_all_unique_answers[:10])\n",
    "# save_data(new_answer_findzebra_articles_map, new_answer_findzebra_articles_map_pickle_path)\n",
    "# save_data(new_failed_mapping, new_failed_mapping_path)\n",
    "\n",
    "# for cui in x_results['esophageal atresia']:\n",
    "#     print(f'cui={cui[0]}')\n",
    "#     print(f'\\tNumber of articles: {cui[1].shape[0]}')\n",
    "    \n"
   ]
  },
  {
   "cell_type": "markdown",
   "metadata": {},
   "source": [
    "### Loading mapping from pickle files"
   ]
  },
  {
   "cell_type": "code",
   "execution_count": 31,
   "metadata": {},
   "outputs": [],
   "source": [
    "if CREATE_OR_LOAD_MAPPING == 'load':\n",
    "    answer_cui_articles_matching = load_pickle(answer_cui_articles_matching_path)\n",
    "    failed_cui_articles_matching = load_pickle(failed_cui_articles_matching_path)"
   ]
  },
  {
   "cell_type": "code",
   "execution_count": 41,
   "metadata": {},
   "outputs": [
    {
     "name": "stdout",
     "output_type": "stream",
     "text": [
      "Number of all unique medqa answers: 46420\n",
      "Number of mapped answers : 31565\n"
     ]
    }
   ],
   "source": [
    "print(f'Number of all unique medqa answers: {len(medqa_all_unique_answers)}')\n",
    "print(f'Number of mapped answers : {len(answer_cui_articles_matching)}')"
   ]
  },
  {
   "cell_type": "code",
   "execution_count": 42,
   "metadata": {},
   "outputs": [],
   "source": [
    "not_mapped_answers = [x for x in ({key: value for key, value in answer_cui_articles_matching.items() if not value})]\n",
    "mapped_answers_cui = [{key: value} for key, value in answer_cui_articles_matching.items() if value]"
   ]
  },
  {
   "cell_type": "code",
   "execution_count": 58,
   "metadata": {},
   "outputs": [
    {
     "ename": "KeyError",
     "evalue": "0",
     "output_type": "error",
     "traceback": [
      "\u001b[0;31m---------------------------------------------------------------------------\u001b[0m",
      "\u001b[0;31mKeyError\u001b[0m                                  Traceback (most recent call last)",
      "\u001b[0;32m<ipython-input-58-85a11d141497>\u001b[0m in \u001b[0;36m<module>\u001b[0;34m\u001b[0m\n\u001b[0;32m----> 1\u001b[0;31m \u001b[0;34m[\u001b[0m\u001b[0mx\u001b[0m\u001b[0;34m[\u001b[0m\u001b[0;36m0\u001b[0m\u001b[0;34m]\u001b[0m \u001b[0;32mfor\u001b[0m \u001b[0mx\u001b[0m \u001b[0;32min\u001b[0m \u001b[0mmapped_answers_cui\u001b[0m\u001b[0;34m]\u001b[0m\u001b[0;34m\u001b[0m\u001b[0;34m\u001b[0m\u001b[0m\n\u001b[0m",
      "\u001b[0;32m<ipython-input-58-85a11d141497>\u001b[0m in \u001b[0;36m<listcomp>\u001b[0;34m(.0)\u001b[0m\n\u001b[0;32m----> 1\u001b[0;31m \u001b[0;34m[\u001b[0m\u001b[0mx\u001b[0m\u001b[0;34m[\u001b[0m\u001b[0;36m0\u001b[0m\u001b[0;34m]\u001b[0m \u001b[0;32mfor\u001b[0m \u001b[0mx\u001b[0m \u001b[0;32min\u001b[0m \u001b[0mmapped_answers_cui\u001b[0m\u001b[0;34m]\u001b[0m\u001b[0;34m\u001b[0m\u001b[0;34m\u001b[0m\u001b[0m\n\u001b[0m",
      "\u001b[0;31mKeyError\u001b[0m: 0"
     ]
    }
   ],
   "source": [
    "[x for x in mapped_answers_cui]"
   ]
  },
  {
   "cell_type": "code",
   "execution_count": 43,
   "metadata": {},
   "outputs": [
    {
     "name": "stdout",
     "output_type": "stream",
     "text": [
      "Number of mapped answers: 3737\n",
      "Number of not mapped answers: 27828\n",
      "Percentage of mapped unique answers of successful mapping: 11.839062252494852%\n",
      "Total percentage of mapped unique answers: 11.833064184161362%\n"
     ]
    }
   ],
   "source": [
    "print(f'Number of mapped answers: {len(mapped_answers_cui)}')\n",
    "print(f'Number of not mapped answers: {len(not_mapped_answers)}')\n",
    "\n",
    "matched_percentage_of_mapped_answers = 100 * len(mapped_answers_cui) / len(answer_cui_articles_matching)\n",
    "matched_percentage_of_all_answers = 100 * len(mapped_answers_cui) / (len(answer_cui_articles_matching) + len(failed_cui_articles_matching))\n",
    "\n",
    "print(f'Percentage of mapped unique answers of successful mapping: {matched_percentage_of_mapped_answers}%')\n",
    "print(f'Total percentage of mapped unique answers: {matched_percentage_of_all_answers}%')"
   ]
  },
  {
   "cell_type": "code",
   "execution_count": 44,
   "metadata": {},
   "outputs": [],
   "source": [
    "num_of_mapped_cuis_per_answer = []\n",
    "num_of_mapped_articles_per_answer = []\n",
    "\n",
    "for key in mapped_answers_cui:\n",
    "    answer = next(iter(key.keys()))\n",
    "    cui_articles_list = next(iter(key.values()))\n",
    "    \n",
    "    num_of_mapped_cuis_per_answer.append(len(cui_articles_list))\n",
    "    \n",
    "    num_of_articles = 0\n",
    "    for (cui, articles) in cui_articles_list:\n",
    "        num_of_articles += articles.shape[0]\n",
    "        \n",
    "    num_of_mapped_articles_per_answer.append(num_of_articles)"
   ]
  },
  {
   "cell_type": "code",
   "execution_count": 45,
   "metadata": {},
   "outputs": [],
   "source": [
    "bins_0_5 = list(range(0, 6, 1))\n",
    "bins_6_24 = list(range(6, 25, 1))\n",
    "bins_25_49 = list(range(25, 50, 1))\n",
    "bins_50_100 = list(range(50, 100, 2))"
   ]
  },
  {
   "cell_type": "code",
   "execution_count": 46,
   "metadata": {},
   "outputs": [
    {
     "data": {
      "image/png": "[encoded data removed]",
      "text/plain": [
       "<Figure size 360x360 with 1 Axes>"
      ]
     },
     "metadata": {
      "needs_background": "light"
     },
     "output_type": "display_data"
    }
   ],
   "source": [
    "plt.figure(figsize=(5,5))\n",
    "plt.hist(num_of_mapped_articles_per_answer, bins=bins_0_5) \n",
    "plt.xlabel('Number of matched articles')\n",
    "plt.ylabel('Number of answers');"
   ]
  },
  {
   "cell_type": "code",
   "execution_count": 47,
   "metadata": {},
   "outputs": [
    {
     "data": {
      "image/png": "[encoded data removed]",
      "text/plain": [
       "<Figure size 1440x720 with 1 Axes>"
      ]
     },
     "metadata": {
      "needs_background": "light"
     },
     "output_type": "display_data"
    }
   ],
   "source": [
    "plt.figure(figsize=(20,10))\n",
    "plt.hist(num_of_mapped_articles_per_answer, bins=bins_6_24) \n",
    "plt.xlabel('Number of matched articles')\n",
    "plt.ylabel('Number of answers');"
   ]
  },
  {
   "cell_type": "code",
   "execution_count": 48,
   "metadata": {},
   "outputs": [
    {
     "data": {
      "image/png": "[encoded data removed]",
      "text/plain": [
       "<Figure size 1440x720 with 1 Axes>"
      ]
     },
     "metadata": {
      "needs_background": "light"
     },
     "output_type": "display_data"
    }
   ],
   "source": [
    "plt.figure(figsize=(20,10))\n",
    "plt.hist(num_of_mapped_articles_per_answer, bins=bins_25_49) \n",
    "plt.xlabel('Number of matched articles')\n",
    "plt.ylabel('Number of answers');"
   ]
  },
  {
   "cell_type": "code",
   "execution_count": 49,
   "metadata": {},
   "outputs": [
    {
     "data": {
      "image/png": "[encoded data removed]",
      "text/plain": [
       "<Figure size 1440x720 with 1 Axes>"
      ]
     },
     "metadata": {
      "needs_background": "light"
     },
     "output_type": "display_data"
    }
   ],
   "source": [
    "plt.figure(figsize=(20,10))\n",
    "plt.hist(num_of_mapped_articles_per_answer, bins=bins_50_100) \n",
    "plt.xlabel('Number of matched articles')\n",
    "plt.ylabel('Number of answers');"
   ]
  },
  {
   "cell_type": "code",
   "execution_count": 50,
   "metadata": {},
   "outputs": [
    {
     "data": {
      "text/plain": [
       "{1: 1847,\n",
       " 2: 555,\n",
       " 3: 278,\n",
       " 4: 166,\n",
       " 5: 121,\n",
       " 6: 101,\n",
       " 7: 59,\n",
       " 8: 57,\n",
       " 9: 35,\n",
       " 10: 41,\n",
       " 11: 36,\n",
       " 12: 25,\n",
       " 13: 19,\n",
       " 14: 25,\n",
       " 15: 18,\n",
       " 16: 17,\n",
       " 17: 16,\n",
       " 18: 14,\n",
       " 19: 15,\n",
       " 20: 13,\n",
       " 21: 9,\n",
       " 22: 5,\n",
       " 23: 7,\n",
       " 24: 3,\n",
       " 25: 9,\n",
       " 26: 8,\n",
       " 27: 11,\n",
       " 28: 8,\n",
       " 29: 5,\n",
       " 30: 6,\n",
       " 31: 4,\n",
       " 32: 4,\n",
       " 33: 7,\n",
       " 34: 6,\n",
       " 35: 6,\n",
       " 36: 5,\n",
       " 37: 1,\n",
       " 38: 6,\n",
       " 39: 6,\n",
       " 40: 4,\n",
       " 41: 3,\n",
       " 42: 2,\n",
       " 43: 1,\n",
       " 44: 3,\n",
       " 45: 2,\n",
       " 46: 1,\n",
       " 47: 4,\n",
       " 48: 1,\n",
       " 49: 4,\n",
       " 50: 2,\n",
       " 51: 3,\n",
       " 52: 3,\n",
       " 53: 3,\n",
       " 54: 2,\n",
       " 56: 2,\n",
       " 58: 1,\n",
       " 59: 2,\n",
       " 61: 2,\n",
       " 63: 2,\n",
       " 64: 1,\n",
       " 65: 2,\n",
       " 66: 3,\n",
       " 69: 2,\n",
       " 70: 1,\n",
       " 72: 2,\n",
       " 73: 1,\n",
       " 74: 1,\n",
       " 76: 2,\n",
       " 77: 1,\n",
       " 79: 1,\n",
       " 81: 4,\n",
       " 85: 1,\n",
       " 86: 1,\n",
       " 87: 2,\n",
       " 88: 3,\n",
       " 90: 1,\n",
       " 91: 1,\n",
       " 92: 1,\n",
       " 93: 2,\n",
       " 94: 2,\n",
       " 96: 4,\n",
       " 98: 2,\n",
       " 99: 1,\n",
       " 104: 1,\n",
       " 106: 1,\n",
       " 107: 2,\n",
       " 108: 1,\n",
       " 110: 2,\n",
       " 112: 1,\n",
       " 114: 1,\n",
       " 116: 1,\n",
       " 118: 2,\n",
       " 120: 1,\n",
       " 123: 1,\n",
       " 124: 1,\n",
       " 127: 1,\n",
       " 129: 1,\n",
       " 130: 1,\n",
       " 131: 1,\n",
       " 132: 1,\n",
       " 133: 2,\n",
       " 135: 1,\n",
       " 139: 2,\n",
       " 144: 1,\n",
       " 147: 1,\n",
       " 169: 1,\n",
       " 176: 1,\n",
       " 180: 1,\n",
       " 184: 1,\n",
       " 201: 1,\n",
       " 209: 1,\n",
       " 215: 1,\n",
       " 225: 1,\n",
       " 229: 1,\n",
       " 236: 1,\n",
       " 244: 1,\n",
       " 260: 1,\n",
       " 277: 1,\n",
       " 283: 1,\n",
       " 295: 1,\n",
       " 336: 1,\n",
       " 361: 1,\n",
       " 384: 1,\n",
       " 388: 1,\n",
       " 417: 1,\n",
       " 418: 1,\n",
       " 431: 1,\n",
       " 457: 1,\n",
       " 547: 1,\n",
       " 566: 1,\n",
       " 627: 1,\n",
       " 686: 1,\n",
       " 741: 1,\n",
       " 827: 1,\n",
       " 904: 1,\n",
       " 912: 1,\n",
       " 1030: 1,\n",
       " 1092: 1,\n",
       " 1147: 1,\n",
       " 1149: 1,\n",
       " 1405: 1,\n",
       " 1671: 1,\n",
       " 2078: 1,\n",
       " 2497: 1,\n",
       " 4858: 1,\n",
       " 7141: 2,\n",
       " 12766: 2,\n",
       " 13633: 1,\n",
       " 14464: 2}"
      ]
     },
     "execution_count": 50,
     "metadata": {},
     "output_type": "execute_result"
    }
   ],
   "source": [
    "num_of_cuis_frequency = {key:len(list(group)) for key, group in groupby(np.sort(num_of_mapped_cuis_per_answer))}\n",
    "num_of_cuis_frequency"
   ]
  },
  {
   "cell_type": "code",
   "execution_count": 51,
   "metadata": {},
   "outputs": [
    {
     "data": {
      "text/plain": [
       "{1: 1129,\n",
       " 2: 526,\n",
       " 3: 340,\n",
       " 4: 205,\n",
       " 5: 192,\n",
       " 6: 147,\n",
       " 7: 115,\n",
       " 8: 97,\n",
       " 9: 70,\n",
       " 10: 65,\n",
       " 11: 58,\n",
       " 12: 36,\n",
       " 13: 35,\n",
       " 14: 41,\n",
       " 15: 38,\n",
       " 16: 29,\n",
       " 17: 32,\n",
       " 18: 25,\n",
       " 19: 29,\n",
       " 20: 27,\n",
       " 21: 11,\n",
       " 22: 17,\n",
       " 23: 17,\n",
       " 24: 12,\n",
       " 25: 15,\n",
       " 26: 13,\n",
       " 27: 17,\n",
       " 28: 7,\n",
       " 29: 14,\n",
       " 30: 15,\n",
       " 31: 10,\n",
       " 32: 6,\n",
       " 33: 7,\n",
       " 34: 5,\n",
       " 35: 6,\n",
       " 36: 6,\n",
       " 37: 8,\n",
       " 38: 7,\n",
       " 39: 7,\n",
       " 40: 6,\n",
       " 41: 9,\n",
       " 42: 5,\n",
       " 43: 3,\n",
       " 44: 6,\n",
       " 45: 3,\n",
       " 46: 4,\n",
       " 47: 3,\n",
       " 48: 5,\n",
       " 49: 3,\n",
       " 51: 4,\n",
       " 52: 2,\n",
       " 53: 2,\n",
       " 54: 3,\n",
       " 55: 5,\n",
       " 56: 3,\n",
       " 57: 2,\n",
       " 58: 3,\n",
       " 59: 2,\n",
       " 60: 1,\n",
       " 61: 1,\n",
       " 62: 5,\n",
       " 63: 7,\n",
       " 64: 3,\n",
       " 65: 2,\n",
       " 66: 4,\n",
       " 67: 3,\n",
       " 68: 2,\n",
       " 69: 5,\n",
       " 70: 2,\n",
       " 71: 5,\n",
       " 72: 1,\n",
       " 73: 4,\n",
       " 74: 1,\n",
       " 75: 2,\n",
       " 76: 2,\n",
       " 77: 2,\n",
       " 78: 4,\n",
       " 79: 1,\n",
       " 80: 1,\n",
       " 82: 2,\n",
       " 83: 1,\n",
       " 86: 1,\n",
       " 87: 1,\n",
       " 88: 2,\n",
       " 90: 2,\n",
       " 91: 1,\n",
       " 92: 2,\n",
       " 93: 1,\n",
       " 94: 6,\n",
       " 97: 2,\n",
       " 98: 2,\n",
       " 99: 3,\n",
       " 100: 5,\n",
       " 101: 1,\n",
       " 102: 1,\n",
       " 103: 2,\n",
       " 104: 2,\n",
       " 105: 1,\n",
       " 110: 1,\n",
       " 111: 2,\n",
       " 112: 1,\n",
       " 113: 2,\n",
       " 116: 1,\n",
       " 117: 1,\n",
       " 118: 1,\n",
       " 120: 3,\n",
       " 122: 1,\n",
       " 125: 2,\n",
       " 127: 2,\n",
       " 131: 1,\n",
       " 133: 2,\n",
       " 135: 1,\n",
       " 136: 1,\n",
       " 137: 1,\n",
       " 140: 2,\n",
       " 141: 2,\n",
       " 142: 1,\n",
       " 144: 1,\n",
       " 148: 2,\n",
       " 151: 2,\n",
       " 153: 1,\n",
       " 155: 1,\n",
       " 156: 1,\n",
       " 157: 1,\n",
       " 158: 1,\n",
       " 162: 2,\n",
       " 165: 1,\n",
       " 167: 1,\n",
       " 170: 1,\n",
       " 171: 1,\n",
       " 177: 1,\n",
       " 179: 1,\n",
       " 182: 2,\n",
       " 184: 2,\n",
       " 186: 1,\n",
       " 187: 1,\n",
       " 190: 1,\n",
       " 193: 1,\n",
       " 194: 2,\n",
       " 201: 1,\n",
       " 206: 1,\n",
       " 207: 1,\n",
       " 211: 1,\n",
       " 224: 1,\n",
       " 225: 1,\n",
       " 234: 3,\n",
       " 235: 1,\n",
       " 244: 1,\n",
       " 245: 4,\n",
       " 246: 1,\n",
       " 259: 1,\n",
       " 261: 1,\n",
       " 262: 1,\n",
       " 266: 1,\n",
       " 278: 1,\n",
       " 281: 1,\n",
       " 288: 1,\n",
       " 293: 1,\n",
       " 298: 1,\n",
       " 301: 1,\n",
       " 324: 1,\n",
       " 326: 1,\n",
       " 340: 1,\n",
       " 347: 1,\n",
       " 350: 1,\n",
       " 378: 2,\n",
       " 379: 1,\n",
       " 388: 1,\n",
       " 453: 1,\n",
       " 498: 1,\n",
       " 500: 1,\n",
       " 508: 1,\n",
       " 544: 1,\n",
       " 561: 1,\n",
       " 566: 1,\n",
       " 567: 1,\n",
       " 594: 1,\n",
       " 622: 1,\n",
       " 649: 1,\n",
       " 754: 1,\n",
       " 782: 1,\n",
       " 856: 1,\n",
       " 914: 1,\n",
       " 931: 1,\n",
       " 1041: 1,\n",
       " 1079: 1,\n",
       " 1358: 1,\n",
       " 1426: 1,\n",
       " 1517: 2,\n",
       " 1693: 1,\n",
       " 1710: 1,\n",
       " 1901: 1,\n",
       " 2033: 1,\n",
       " 2176: 1,\n",
       " 2314: 1,\n",
       " 2317: 1,\n",
       " 2776: 1,\n",
       " 3831: 1,\n",
       " 3940: 1,\n",
       " 5147: 1,\n",
       " 9053: 1,\n",
       " 13473: 2,\n",
       " 23378: 2,\n",
       " 25071: 1,\n",
       " 25966: 2}"
      ]
     },
     "execution_count": 51,
     "metadata": {},
     "output_type": "execute_result"
    }
   ],
   "source": [
    "num_of_articles_and_frequency = {key:len(list(group)) for key, group in groupby(np.sort(num_of_mapped_articles_per_answer))}\n",
    "num_of_articles_and_frequency"
   ]
  },
  {
   "cell_type": "markdown",
   "metadata": {},
   "source": [
    "### Exampe of displaying the mapped articles"
   ]
  },
  {
   "cell_type": "code",
   "execution_count": 106,
   "metadata": {},
   "outputs": [
    {
     "name": "stdout",
     "output_type": "stream",
     "text": [
      "MedQA answer: hereditary angioedema\n",
      "Number of matched CUIs: 6\n",
      "Second matched CUI: C1862892\n",
      "Second matched CUI's second article's content: hereditary angioedema is a disorder characterized by recurrent episodes of severe swelling (angioedema). the most common areas of the body to develop swelling are the limbs, face, intestinal tract, and airway. minor trauma or stress may trigger an attack, but swelling often occurs without a known trigger. episodes involving the intestinal tract cause severe abdominal pain, nausea, and vomiting. swelling in the airway can restrict breathing and lead to life-threatening obstruction of the airway. about one-third of people with this condition develop a non-itchy rash called erythema marginatum during an attack.symptoms of hereditary angioedema typically begin in childhood and worsen during puberty.  on average, untreated individuals have an attack every 1 to 2 weeks, and most episodes last for about 3 to 4 days. the frequency and duration of attacks vary greatly among people with hereditary angioedema, even among people in the same family.there are three types of hereditary angioedema, called types i, ii, and iii, which can be distinguished by their underlying causes and levels of a protein called c1 inhibitor in the blood. the different types have similar signs and symptoms. type iii was originally thought to occur only in women, but families with affected males have been identified.frequencyhereditary angioedema is estimated to affect 1 in 50,000 people. type i is the most common, accounting for 85 percent of cases. type ii occurs in 15 percent of cases, and type iii is very rare.causesmutations in the serping1 gene cause hereditary angioedema type i and type ii. the serping1 gene provides instructions for making the c1 inhibitor protein, which is important for controlling inflammation. c1 inhibitor blocks the activity of certain proteins that promote inflammation. mutations that cause hereditary angioedema type i lead to reduced levels of c1 inhibitor in the blood, while mutations that cause type ii result in the production of a c1 inhibitor that functions abnormally. without the proper levels of functional c1 inhibitor, excessive amounts of a protein fragment (peptide) called bradykinin are generated. bradykinin promotes inflammation by increasing the leakage of fluid through the walls of blood vessels into body tissues. excessive accumulation of fluids in body tissues causes the episodes of swelling seen in individuals with hereditary angioedema type i and type ii.mutations in the f12 gene are associated with some cases of hereditary angioedema type iii. this gene provides instructions for making a protein called coagulation factor xii. in addition to playing a critical role in blood clotting (coagulation), factor xii is also an important stimulator of inflammation and is involved in the production of bradykinin. certain mutations in the f12 gene result in the production of factor xii with increased activity. as a result, more bradykinin is generated and blood vessel walls become more leaky, which leads to episodes of swelling in people with hereditary angioedema type iii.the cause of other cases of hereditary angioedema type iii remains unknown. mutations in one or more as-yet unidentified genes may be responsible for the disorder in these cases.learn more about the genes associated with hereditary angioedema                      f12                                  serping1                            inheritance patternthis condition is inherited in an autosomal dominant pattern, which means one copy of the altered gene in each cell is sufficient to cause the disorder.in some cases, an affected person inherits the mutation from one affected parent. other cases result from new mutations in the gene and occur in people with no history of the disorder in their family.\n"
     ]
    }
   ],
   "source": [
    "example = mapped_answers_cui[0]\n",
    "medqa_answer = next(iter(example.keys()))\n",
    "mappings = next(iter(example.values()))\n",
    "\n",
    "print(f'MedQA answer: {medqa_answer}')\n",
    "print(f'Number of matched CUIs: {len(mappings)}')\n",
    "print(f'Second matched CUI: {mappings[1][0]}')\n",
    "example_article_content = mappings[1][1].iloc[1]['raw_content']\n",
    "print(f'Second matched CUI\\'s second article\\'s content: {example_article_content}')"
   ]
  },
  {
   "cell_type": "markdown",
   "metadata": {},
   "source": [
    "# Previous approach (less valid, nothing interesting)"
   ]
  },
  {
   "cell_type": "markdown",
   "metadata": {},
   "source": [
    "## 1. Filter the disease-related UMLS terms based on TUI"
   ]
  },
  {
   "cell_type": "code",
   "execution_count": null,
   "metadata": {},
   "outputs": [],
   "source": [
    "# umls_terms = pd.read_csv(umls_terms_path)\n",
    "\n",
    "# # lines 56-67 from the SemGroups_2018.txt\n",
    "# disorders_tui = {\n",
    "#     \"T020\": \"Acquired Abnormality\",\n",
    "#     \"T190\": \"Anatomical Abnormality\",\n",
    "#     \"T049\": \"Cell or Molecular Dysfunction\",\n",
    "#     \"T019\": \"Congenital Abnormality\",\n",
    "#     \"T047\": \"Disease or Syndrome\",\n",
    "#     \"T050\": \"Experimental Model of Disease\",\n",
    "#     \"T033\": \"Finding\",\n",
    "#     \"T037\": \"Injury or Poisoning\",\n",
    "#     \"T048\": \"Mental or Behavioral Dysfunction\",\n",
    "#     \"T191\": \"Neoplastic Process\",\n",
    "#     \"T046\": \"Pathologic Function\",\n",
    "#     \"T184\": \"Sign or Symptom\"\n",
    "# }\n",
    "\n",
    "# print(f'Number of records in umls_terms before TUI filtering: {umls_terms.shape[0]}')\n",
    "\n",
    "# # preserve only data related to the diseases' TUIs\n",
    "# umls_terms = umls_terms.loc[umls_terms['TUI'].isin(disorders_tui.keys())].reset_index(drop=True)\n",
    "# # umls_terms.loc[umls_terms['STR'].str.contains('Chlamydia t', na=False)]\n",
    "\n",
    "# print(f'Number of records in umls_terms after TUI filtering: {umls_terms.shape[0]}')"
   ]
  },
  {
   "cell_type": "code",
   "execution_count": null,
   "metadata": {},
   "outputs": [],
   "source": [
    "# umls_cuis = umls_terms['CUI'].unique()"
   ]
  },
  {
   "cell_type": "markdown",
   "metadata": {},
   "source": [
    "## 2. Filter findzebra dataset to contain only values with CUI matching the filtered UMLS terms"
   ]
  },
  {
   "cell_type": "code",
   "execution_count": null,
   "metadata": {},
   "outputs": [],
   "source": [
    "# findzebra_df = pd.DataFrame()\n",
    "\n",
    "# relevant_columns = {\n",
    "#     \"title\": 2,\n",
    "#     \"raw_content\": 3,\n",
    "#     \"cui\": 6,\n",
    "#     \"classification_map\": 7\n",
    "# }\n",
    "# no_cui_counter = 0\n",
    "# original_findzebra_df_rows = 0\n",
    "# for chunk in pd.read_csv(findzebra_csv_path, chunksize=1000, header=None, usecols=relevant_columns.values()):\n",
    "#     # select only rows with value of CUI present in the umls_cuis\n",
    "#     having_cui = chunk.loc[chunk[relevant_columns['cui']].isin(umls_cuis)]\n",
    "#     findzebra_df = findzebra_df.append(having_cui)\n",
    "#     # count number of rows without any cui value\n",
    "#     no_cui_counter += chunk[relevant_columns['cui']].isnull().sum()\n",
    "#     original_findzebra_df_rows += chunk.shape[0]\n",
    "\n",
    "# findzebra_df.columns = relevant_columns.keys()    \n",
    "    \n",
    "# print(\"===findzebra_df stats===\")\n",
    "# print(f\"\\t\\t# of rows: {findzebra_df.shape[0]}\")\n",
    "# print(f\"\\t\\t# of rows not included as the original row did not contain CUI: {no_cui_counter} ({100 * no_cui_counter / original_findzebra_df_rows}%)\")"
   ]
  },
  {
   "cell_type": "code",
   "execution_count": null,
   "metadata": {},
   "outputs": [],
   "source": [
    "# # clearing html tags and removing trailing whitespaces\n",
    "\n",
    "# def clean_html(raw_html):\n",
    "#     cleanr = re.compile('<.*?>')\n",
    "#     cleantext = re.sub(cleanr, '', raw_html)\n",
    "#     return cleantext\n",
    "\n",
    "# findzebra_df['raw_content'] = findzebra_df['raw_content'].apply(lambda x: clean_html(x))\n",
    "# findzebra_df['raw_content'] = findzebra_df['raw_content'].apply(lambda x: x.lower().replace('\\n','').strip())"
   ]
  },
  {
   "cell_type": "code",
   "execution_count": null,
   "metadata": {},
   "outputs": [],
   "source": [
    "# import numpy as np\n",
    "# import string"
   ]
  },
  {
   "cell_type": "code",
   "execution_count": null,
   "metadata": {},
   "outputs": [],
   "source": [
    "# import nltk \n",
    "# from nltk.corpus import stopwords \n",
    "# stop_words = stopwords.words('english')\n",
    "# custom_string_punctuation = string.punctuation.replace('-','').replace('/','')\n",
    "# punctuation = str.maketrans('', '', custom_string_punctuation)"
   ]
  },
  {
   "cell_type": "markdown",
   "metadata": {},
   "source": [
    "## 3. Analysis of MedQA answers coverage in the filtered findzebra dataset"
   ]
  },
  {
   "cell_type": "code",
   "execution_count": null,
   "metadata": {},
   "outputs": [],
   "source": [
    "# len(medqa_dev_all_questions) * 5"
   ]
  },
  {
   "cell_type": "code",
   "execution_count": null,
   "metadata": {},
   "outputs": [],
   "source": [
    "# medqa_dev_all_questions = []\n",
    "\n",
    "# with open(medqa_questions_dev_path, 'r') as file:\n",
    "#     for line in file:\n",
    "#         medqa_dev_all_questions.append(json.loads(line))\n",
    "        \n",
    "# all_answers = []\n",
    "# for x in tqdm([list(q['options'].values()) for q in medqa_dev_questions]):\n",
    "#     all_answers.append(x)\n",
    "# all_answers = [item.lower() for sublist in all_answers for item in sublist]"
   ]
  },
  {
   "cell_type": "code",
   "execution_count": null,
   "metadata": {},
   "outputs": [],
   "source": [
    "# def check_answers_coverage(answer, evidence_df):\n",
    "#     answer_option_tokens = [x.lower() for x in word_tokenize(answer) if x not in stop_words and x not in custom_string_punctuation]\n",
    "#     highest_coverage = 0\n",
    "    \n",
    "#     for idx, row in evidence_df.iterrows():\n",
    "#         title = row[0]\n",
    "#         content = row[1]\n",
    "        \n",
    "#         coverage_counter = 0\n",
    "#         for token in answer_option_tokens:\n",
    "#             if token in content:\n",
    "#                 coverage_counter += 1\n",
    "#         if coverage_counter > highest_coverage:\n",
    "#             highest_coverage = coverage_counter\n",
    "            \n",
    "#     return highest_coverage / len(answer_option_tokens)"
   ]
  },
  {
   "cell_type": "code",
   "execution_count": null,
   "metadata": {},
   "outputs": [],
   "source": [
    "# answer_coverage = {}\n",
    "# for answer in tqdm(all_answers):\n",
    "#     answer_coverage[answer] = check_answers_coverage(answer, findzebra_df)"
   ]
  },
  {
   "cell_type": "code",
   "execution_count": null,
   "metadata": {},
   "outputs": [],
   "source": [
    "# len(answer_coverage)"
   ]
  },
  {
   "cell_type": "code",
   "execution_count": null,
   "metadata": {},
   "outputs": [],
   "source": [
    "# answer_coverage"
   ]
  },
  {
   "cell_type": "code",
   "execution_count": null,
   "metadata": {},
   "outputs": [],
   "source": [
    "# len([x for x in answer_coverage.values() if x == 0])"
   ]
  },
  {
   "cell_type": "code",
   "execution_count": null,
   "metadata": {},
   "outputs": [],
   "source": [
    "# import matplotlib.pyplot as plt\n",
    "\n",
    "# plt.hist(answer_coverage.values(), bins=10)  # density=False would make counts\n",
    "# plt.ylabel('Number of answers')\n",
    "# plt.xlabel('Coverage');"
   ]
  },
  {
   "cell_type": "code",
   "execution_count": null,
   "metadata": {},
   "outputs": [],
   "source": [
    "# 'i' in stop_words"
   ]
  },
  {
   "cell_type": "code",
   "execution_count": null,
   "metadata": {},
   "outputs": [],
   "source": [
    "# def check_answers_coverage(question_data, evidence_df):\n",
    "#     question = question_data['question']\n",
    "#     answer_options = question_data['options'].values()\n",
    "    \n",
    "#     coverage = {}\n",
    "#     for answer_option in answer_options:\n",
    "#         if answer_option not in coverage.keys():\n",
    "#             answer_option_tokens = [x.lower() for x in word_tokenize(answer_option) if x not in stop_words and x not in custom_string_punctuation]\n",
    "\n",
    "#             coverage_counter = 0\n",
    "#             print(answer_option_tokens)\n",
    "#             for token in answer_option_tokens:\n",
    "#                 print(len(evidence_df.loc[evidence_df['raw_content'].str.contains(token)]))\n",
    "#                 if len(evidence_df.loc[evidence_df['raw_content'].str.contains(token)]) > 0:\n",
    "#                     coverage_counter+=1\n",
    "\n",
    "#             coverage[answer_option] = coverage_counter / len(answer_option_tokens)\n",
    "    \n",
    "#     return coverage"
   ]
  },
  {
   "cell_type": "code",
   "execution_count": null,
   "metadata": {},
   "outputs": [],
   "source": [
    "# i = 0\n",
    "# for ind, x in findzebra_df.iterrows():\n",
    "#     print(x)\n",
    "#     print('\\n\\n\\n\\n')\n",
    "#     i += 1\n",
    "    \n",
    "#     if i == 3:\n",
    "#         break"
   ]
  },
  {
   "cell_type": "code",
   "execution_count": null,
   "metadata": {},
   "outputs": [],
   "source": [
    "# for z in medqa_dev_all_questions[16]['options'].values():\n",
    "#     y = [x.lower() for x in word_tokenize(z) if x not in stop_words]"
   ]
  },
  {
   "cell_type": "code",
   "execution_count": null,
   "metadata": {},
   "outputs": [],
   "source": [
    "# medqa_dev_all_questions[16]"
   ]
  },
  {
   "cell_type": "code",
   "execution_count": null,
   "metadata": {},
   "outputs": [],
   "source": [
    "# medqa_covered_questions = []\n",
    "# medqa_covered_answers = []\n",
    "# coverage = {}\n",
    "# for question in tqdm([medqa_dev_all_questions[16]]):\n",
    "#     res = check_answers_coverage(question, findzebra_df)\n",
    "#     coverage.update(res)\n"
   ]
  },
  {
   "cell_type": "code",
   "execution_count": null,
   "metadata": {},
   "outputs": [],
   "source": [
    "# coverage"
   ]
  }
 ],
 "metadata": {
  "kernelspec": {
   "display_name": "Python 3",
   "language": "python",
   "name": "python3"
  },
  "language_info": {
   "codemirror_mode": {
    "name": "ipython",
    "version": 3
   },
   "file_extension": ".py",
   "mimetype": "text/x-python",
   "name": "python",
   "nbconvert_exporter": "python",
   "pygments_lexer": "ipython3",
   "version": "3.8.3"
  }
 },
 "nbformat": 4,
 "nbformat_minor": 4
}
