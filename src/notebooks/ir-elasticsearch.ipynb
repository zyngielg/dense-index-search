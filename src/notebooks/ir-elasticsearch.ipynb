{
 "cells": [
  {
   "cell_type": "code",
   "execution_count": 1,
   "metadata": {},
   "outputs": [
    {
     "name": "stderr",
     "output_type": "stream",
     "text": [
      "[nltk_data] Downloading package punkt to /home/gustaw/nltk_data...\n",
      "[nltk_data]   Package punkt is already up-to-date!\n",
      "[nltk_data] Downloading package stopwords to /home/gustaw/nltk_data...\n",
      "[nltk_data]   Package stopwords is already up-to-date!\n"
     ]
    },
    {
     "data": {
      "text/plain": [
       "True"
      ]
     },
     "execution_count": 1,
     "metadata": {},
     "output_type": "execute_result"
    }
   ],
   "source": [
    "import os\n",
    "import json\n",
    "import nltk \n",
    "import numpy as np\n",
    "import string\n",
    "import time\n",
    "\n",
    "from IPython.display import clear_output\n",
    "from nltk.corpus import stopwords \n",
    "# reason for using snowball: https://stackoverflow.com/questions/10554052/what-are-the-major-differences-and-benefits-of-porter-and-lancaster-stemming-alg\n",
    "from nltk.stem.snowball import SnowballStemmer\n",
    "from nltk.tokenize import word_tokenize\n",
    "from tqdm.notebook import tqdm\n",
    "\n",
    "nltk.download('punkt')\n",
    "nltk.download('stopwords')"
   ]
  },
  {
   "cell_type": "code",
   "execution_count": 2,
   "metadata": {},
   "outputs": [],
   "source": [
    "questions_data_path = '../../data/medqa/questions/US_qbank.jsonl'\n",
    "dev_questions_data_path = '../../data/medqa/questions/dev.jsonl'\n",
    "textbooks_data_dir = '../../data/medqa/textbooks/'\n",
    "\n",
    "questions_dev_medqa_path = '../../data/medqa/questions/4_options/dev.jsonl'\n",
    "questions_train_medqa_path ='../../data/medqa/questions/4_options/train.jsonl'\n",
    "questions_test_medqa_path ='../../data/medqa/questions/4_options/test.jsonl'"
   ]
  },
  {
   "cell_type": "code",
   "execution_count": 3,
   "metadata": {},
   "outputs": [],
   "source": [
    "import pickle\n",
    "def save_data(data, file_path):\n",
    "    with open(file_path, 'wb') as handle:\n",
    "        pickle.dump(data, handle, protocol=pickle.HIGHEST_PROTOCOL)\n",
    "\n",
    "def load_pickle(file_path):\n",
    "    with open(file_path, 'rb') as handle:\n",
    "        return pickle.load(handle)"
   ]
  },
  {
   "cell_type": "code",
   "execution_count": 4,
   "metadata": {},
   "outputs": [],
   "source": [
    "questions_dev = []\n",
    "questions_train = []\n",
    "\n",
    "with open(questions_dev_medqa_path, 'r') as file:\n",
    "    for line in file:\n",
    "        questions_dev.append(json.loads(line))\n",
    "\n",
    "with open(questions_train_medqa_path, 'r') as file:\n",
    "    for line in file:\n",
    "        questions_train.append(json.loads(line))\n",
    "        \n",
    "# with open(questions_test_medqa_path, 'r') as file:\n",
    "#     for line in file:\n",
    "#         questions_metamap_data.append(json.loads(line))    \n",
    "\n",
    "corpus = {}\n",
    "for textbook_name in os.listdir(textbooks_data_dir):\n",
    "    textbook_path = textbooks_data_dir + '/' + textbook_name\n",
    "    with open(textbook_path, 'r') as textbook_file:\n",
    "        textbook_content = textbook_file.read()\n",
    "        corpus[textbook_name] = textbook_content"
   ]
  },
  {
   "cell_type": "code",
   "execution_count": 10,
   "metadata": {},
   "outputs": [],
   "source": [
    "stop_words = stopwords.words('english')\n",
    "snowball_stemmer = SnowballStemmer(language='english') \n",
    "# do not remove the '-' and '/'\n",
    "custom_string_punctuation = string.punctuation.replace('-','').replace('/','').replace('.','')\n",
    "punctuation = str.maketrans('', '', custom_string_punctuation)"
   ]
  },
  {
   "cell_type": "code",
   "execution_count": 5,
   "metadata": {},
   "outputs": [],
   "source": [
    "def preprocess_content(content, remove_stopwords, stemming, remove_punctuation):\n",
    "    if not remove_stopwords and not stemming and not remove_punctuation:\n",
    "        return content.lower().strip()\n",
    "    if remove_punctuation:\n",
    "        content = content.translate(punctuation).replace('“','').replace('’','')\n",
    "    sentences = nltk.sent_tokenize(content.lower().strip())\n",
    "    cleaned_sentences = []\n",
    "    \n",
    "    for sentence in sentences:\n",
    "        tokens = word_tokenize(sentence.lower())\n",
    "        if remove_stopwords:\n",
    "            tokens = [x for x in tokens if x not in stop_words]\n",
    "        if stemming:\n",
    "            tokens = [snowball_stemmer.stem(x) for x in tokens]\n",
    "        cleaned_sentences.append(' '.join(tokens))\n",
    "            \n",
    "    return ' '.join(cleaned_sentences)\n",
    "\n",
    "def preprocess_corpus(corpus, remove_stopwords, stemming, remove_punctuation):\n",
    "    for name, content in tqdm(corpus.items()):\n",
    "        # TODO: removal of non-medical terms using MetaMap\n",
    "        corpus[name] = preprocess_content(content, remove_stopwords, stemming, remove_punctuation)\n",
    "        \n",
    "        \n",
    "def preprocess_questions(questions, remove_stopwords, stemming, remove_punctuation, metamap=False):    \n",
    "    for question in tqdm(questions):\n",
    "        x = preprocess_content(question['question'], remove_stopwords, stemming, remove_punctuation)\n",
    "        question['question'] = x \n",
    "        for option, value in question['options'].items():\n",
    "            question['options'][option] = preprocess_content(value, remove_stopwords, stemming, remove_punctuation)\n",
    "        if metamap:\n",
    "            question['answer'] = preprocess_content(question['answer'], remove_stopwords, stemming, remove_punctuation)\n",
    "            for i, phrase in enumerate(question['metamap_phrases']):\n",
    "                question['metamap_phrases'][i] = preprocess_content(phrase, remove_stopwords, stemming, remove_punctuation)"
   ]
  },
  {
   "cell_type": "code",
   "execution_count": 6,
   "metadata": {},
   "outputs": [],
   "source": [
    "def preprocess_data(remove_stopwords, stemming, remove_punctuation, metamap):\n",
    "    preprocess_corpus(\n",
    "        corpus=corpus,\n",
    "        remove_stopwords=remove_stopwords,\n",
    "        stemming=stemming,\n",
    "        remove_punctuation=remove_punctuation\n",
    "    )\n",
    "    preprocess_questions(\n",
    "        questions=questions_metamap_data,\n",
    "        remove_stopwords=remove_stopwords,\n",
    "        stemming=stemming,\n",
    "        remove_punctuation=remove_punctuation,\n",
    "        metamap=metamap\n",
    "    )"
   ]
  },
  {
   "cell_type": "code",
   "execution_count": 15,
   "metadata": {},
   "outputs": [
    {
     "name": "stderr",
     "output_type": "stream",
     "text": [
      "100%|██████████| 1272/1272 [00:08<00:00, 153.90it/s]\n",
      "100%|██████████| 10178/10178 [01:06<00:00, 152.99it/s]\n"
     ]
    }
   ],
   "source": [
    "preprocess_questions(\n",
    "    questions=questions_dev,\n",
    "    remove_stopwords=False,\n",
    "    stemming=True,\n",
    "    remove_punctuation=False,\n",
    "    metamap=True\n",
    ")\n",
    "\n",
    "preprocess_questions(\n",
    "    questions=questions_train,\n",
    "    remove_stopwords=False,\n",
    "    stemming=True,\n",
    "    remove_punctuation=False,\n",
    "    metamap=True\n",
    ")"
   ]
  },
  {
   "cell_type": "code",
   "execution_count": 70,
   "metadata": {},
   "outputs": [
    {
     "data": {
      "application/vnd.jupyter.widget-view+json": {
       "model_id": "5393c799a7044bf3b1bafe3ece3ab40b",
       "version_major": 2,
       "version_minor": 0
      },
      "text/plain": [
       "HBox(children=(FloatProgress(value=0.0, max=18.0), HTML(value='')))"
      ]
     },
     "metadata": {},
     "output_type": "display_data"
    },
    {
     "name": "stdout",
     "output_type": "stream",
     "text": [
      "\n"
     ]
    }
   ],
   "source": [
    "preprocess_corpus(\n",
    "        corpus=corpus,\n",
    "        remove_stopwords=False,\n",
    "        stemming=True,\n",
    "        remove_punctuation=False\n",
    "    )"
   ]
  },
  {
   "cell_type": "code",
   "execution_count": 7,
   "metadata": {},
   "outputs": [],
   "source": [
    "def create_corpus_chunks(chunk_length):\n",
    "    corpus_chunks = []\n",
    "    for title, content in tqdm(corpus.items()):\n",
    "\n",
    "        content_tokens = word_tokenize(content)\n",
    "\n",
    "        counter = 0\n",
    "        for i in range(0, len(content_tokens), chunk_length):\n",
    "            chunk_name = title + str(counter)\n",
    "            chunk = ' '.join(content_tokens[i:i+chunk_length])\n",
    "            chunk_processed = preprocess_content(chunk, False, False, False)\n",
    "            stemmed_chunk_processed = preprocess_content(chunk, False, True, False)\n",
    "            entry = {\n",
    "                'name': chunk_name,\n",
    "                'content': chunk_processed,\n",
    "                'content_stemmed': stemmed_chunk_processed\n",
    "            }\n",
    "            corpus_chunks.append(entry)\n",
    "            counter += 1\n",
    "    \n",
    "    return corpus_chunks"
   ]
  },
  {
   "cell_type": "code",
   "execution_count": 8,
   "metadata": {},
   "outputs": [
    {
     "data": {
      "application/vnd.jupyter.widget-view+json": {
       "model_id": "bb8a00527364431c9bee6533994b8de8",
       "version_major": 2,
       "version_minor": 0
      },
      "text/plain": [
       "HBox(children=(FloatProgress(value=0.0, max=18.0), HTML(value='')))"
      ]
     },
     "metadata": {},
     "output_type": "display_data"
    },
    {
     "name": "stdout",
     "output_type": "stream",
     "text": [
      "\n"
     ]
    },
    {
     "ename": "NameError",
     "evalue": "name 'snowball_stemmer' is not defined",
     "output_type": "error",
     "traceback": [
      "\u001b[0;31m---------------------------------------------------------------------------\u001b[0m",
      "\u001b[0;31mNameError\u001b[0m                                 Traceback (most recent call last)",
      "\u001b[0;32m<ipython-input-8-885fe8697372>\u001b[0m in \u001b[0;36m<module>\u001b[0;34m\u001b[0m\n\u001b[1;32m      1\u001b[0m \u001b[0mchunk_length\u001b[0m \u001b[0;34m=\u001b[0m \u001b[0;36m100\u001b[0m\u001b[0;34m\u001b[0m\u001b[0;34m\u001b[0m\u001b[0m\n\u001b[0;32m----> 2\u001b[0;31m \u001b[0mcorpus_chunks_100\u001b[0m \u001b[0;34m=\u001b[0m \u001b[0mcreate_corpus_chunks\u001b[0m\u001b[0;34m(\u001b[0m\u001b[0mchunk_length\u001b[0m\u001b[0;34m)\u001b[0m\u001b[0;34m\u001b[0m\u001b[0;34m\u001b[0m\u001b[0m\n\u001b[0m",
      "\u001b[0;32m<ipython-input-7-89b410835cab>\u001b[0m in \u001b[0;36mcreate_corpus_chunks\u001b[0;34m(chunk_length)\u001b[0m\n\u001b[1;32m     10\u001b[0m             \u001b[0mchunk\u001b[0m \u001b[0;34m=\u001b[0m \u001b[0;34m' '\u001b[0m\u001b[0;34m.\u001b[0m\u001b[0mjoin\u001b[0m\u001b[0;34m(\u001b[0m\u001b[0mcontent_tokens\u001b[0m\u001b[0;34m[\u001b[0m\u001b[0mi\u001b[0m\u001b[0;34m:\u001b[0m\u001b[0mi\u001b[0m\u001b[0;34m+\u001b[0m\u001b[0mchunk_length\u001b[0m\u001b[0;34m]\u001b[0m\u001b[0;34m)\u001b[0m\u001b[0;34m\u001b[0m\u001b[0;34m\u001b[0m\u001b[0m\n\u001b[1;32m     11\u001b[0m             \u001b[0mchunk_processed\u001b[0m \u001b[0;34m=\u001b[0m \u001b[0mpreprocess_content\u001b[0m\u001b[0;34m(\u001b[0m\u001b[0mchunk\u001b[0m\u001b[0;34m,\u001b[0m \u001b[0;32mFalse\u001b[0m\u001b[0;34m,\u001b[0m \u001b[0;32mFalse\u001b[0m\u001b[0;34m,\u001b[0m \u001b[0;32mFalse\u001b[0m\u001b[0;34m)\u001b[0m\u001b[0;34m\u001b[0m\u001b[0;34m\u001b[0m\u001b[0m\n\u001b[0;32m---> 12\u001b[0;31m             \u001b[0mstemmed_chunk_processed\u001b[0m \u001b[0;34m=\u001b[0m \u001b[0mpreprocess_content\u001b[0m\u001b[0;34m(\u001b[0m\u001b[0mchunk\u001b[0m\u001b[0;34m,\u001b[0m \u001b[0;32mFalse\u001b[0m\u001b[0;34m,\u001b[0m \u001b[0;32mTrue\u001b[0m\u001b[0;34m,\u001b[0m \u001b[0;32mFalse\u001b[0m\u001b[0;34m)\u001b[0m\u001b[0;34m\u001b[0m\u001b[0;34m\u001b[0m\u001b[0m\n\u001b[0m\u001b[1;32m     13\u001b[0m             entry = {\n\u001b[1;32m     14\u001b[0m                 \u001b[0;34m'name'\u001b[0m\u001b[0;34m:\u001b[0m \u001b[0mchunk_name\u001b[0m\u001b[0;34m,\u001b[0m\u001b[0;34m\u001b[0m\u001b[0;34m\u001b[0m\u001b[0m\n",
      "\u001b[0;32m<ipython-input-5-823e90c6ff7c>\u001b[0m in \u001b[0;36mpreprocess_content\u001b[0;34m(content, remove_stopwords, stemming, remove_punctuation)\u001b[0m\n\u001b[1;32m     12\u001b[0m             \u001b[0mtokens\u001b[0m \u001b[0;34m=\u001b[0m \u001b[0;34m[\u001b[0m\u001b[0mx\u001b[0m \u001b[0;32mfor\u001b[0m \u001b[0mx\u001b[0m \u001b[0;32min\u001b[0m \u001b[0mtokens\u001b[0m \u001b[0;32mif\u001b[0m \u001b[0mx\u001b[0m \u001b[0;32mnot\u001b[0m \u001b[0;32min\u001b[0m \u001b[0mstop_words\u001b[0m\u001b[0;34m]\u001b[0m\u001b[0;34m\u001b[0m\u001b[0;34m\u001b[0m\u001b[0m\n\u001b[1;32m     13\u001b[0m         \u001b[0;32mif\u001b[0m \u001b[0mstemming\u001b[0m\u001b[0;34m:\u001b[0m\u001b[0;34m\u001b[0m\u001b[0;34m\u001b[0m\u001b[0m\n\u001b[0;32m---> 14\u001b[0;31m             \u001b[0mtokens\u001b[0m \u001b[0;34m=\u001b[0m \u001b[0;34m[\u001b[0m\u001b[0msnowball_stemmer\u001b[0m\u001b[0;34m.\u001b[0m\u001b[0mstem\u001b[0m\u001b[0;34m(\u001b[0m\u001b[0mx\u001b[0m\u001b[0;34m)\u001b[0m \u001b[0;32mfor\u001b[0m \u001b[0mx\u001b[0m \u001b[0;32min\u001b[0m \u001b[0mtokens\u001b[0m\u001b[0;34m]\u001b[0m\u001b[0;34m\u001b[0m\u001b[0;34m\u001b[0m\u001b[0m\n\u001b[0m\u001b[1;32m     15\u001b[0m         \u001b[0mcleaned_sentences\u001b[0m\u001b[0;34m.\u001b[0m\u001b[0mappend\u001b[0m\u001b[0;34m(\u001b[0m\u001b[0;34m' '\u001b[0m\u001b[0;34m.\u001b[0m\u001b[0mjoin\u001b[0m\u001b[0;34m(\u001b[0m\u001b[0mtokens\u001b[0m\u001b[0;34m)\u001b[0m\u001b[0;34m)\u001b[0m\u001b[0;34m\u001b[0m\u001b[0;34m\u001b[0m\u001b[0m\n\u001b[1;32m     16\u001b[0m \u001b[0;34m\u001b[0m\u001b[0m\n",
      "\u001b[0;32m<ipython-input-5-823e90c6ff7c>\u001b[0m in \u001b[0;36m<listcomp>\u001b[0;34m(.0)\u001b[0m\n\u001b[1;32m     12\u001b[0m             \u001b[0mtokens\u001b[0m \u001b[0;34m=\u001b[0m \u001b[0;34m[\u001b[0m\u001b[0mx\u001b[0m \u001b[0;32mfor\u001b[0m \u001b[0mx\u001b[0m \u001b[0;32min\u001b[0m \u001b[0mtokens\u001b[0m \u001b[0;32mif\u001b[0m \u001b[0mx\u001b[0m \u001b[0;32mnot\u001b[0m \u001b[0;32min\u001b[0m \u001b[0mstop_words\u001b[0m\u001b[0;34m]\u001b[0m\u001b[0;34m\u001b[0m\u001b[0;34m\u001b[0m\u001b[0m\n\u001b[1;32m     13\u001b[0m         \u001b[0;32mif\u001b[0m \u001b[0mstemming\u001b[0m\u001b[0;34m:\u001b[0m\u001b[0;34m\u001b[0m\u001b[0;34m\u001b[0m\u001b[0m\n\u001b[0;32m---> 14\u001b[0;31m             \u001b[0mtokens\u001b[0m \u001b[0;34m=\u001b[0m \u001b[0;34m[\u001b[0m\u001b[0msnowball_stemmer\u001b[0m\u001b[0;34m.\u001b[0m\u001b[0mstem\u001b[0m\u001b[0;34m(\u001b[0m\u001b[0mx\u001b[0m\u001b[0;34m)\u001b[0m \u001b[0;32mfor\u001b[0m \u001b[0mx\u001b[0m \u001b[0;32min\u001b[0m \u001b[0mtokens\u001b[0m\u001b[0;34m]\u001b[0m\u001b[0;34m\u001b[0m\u001b[0;34m\u001b[0m\u001b[0m\n\u001b[0m\u001b[1;32m     15\u001b[0m         \u001b[0mcleaned_sentences\u001b[0m\u001b[0;34m.\u001b[0m\u001b[0mappend\u001b[0m\u001b[0;34m(\u001b[0m\u001b[0;34m' '\u001b[0m\u001b[0;34m.\u001b[0m\u001b[0mjoin\u001b[0m\u001b[0;34m(\u001b[0m\u001b[0mtokens\u001b[0m\u001b[0;34m)\u001b[0m\u001b[0;34m)\u001b[0m\u001b[0;34m\u001b[0m\u001b[0;34m\u001b[0m\u001b[0m\n\u001b[1;32m     16\u001b[0m \u001b[0;34m\u001b[0m\u001b[0m\n",
      "\u001b[0;31mNameError\u001b[0m: name 'snowball_stemmer' is not defined"
     ]
    }
   ],
   "source": [
    "chunk_length = 100\n",
    "corpus_chunks_100 = create_corpus_chunks(chunk_length)"
   ]
  },
  {
   "cell_type": "code",
   "execution_count": null,
   "metadata": {},
   "outputs": [],
   "source": [
    "chunk_length = 50\n",
    "corpus_chunks_50 = create_corpus_chunks(chunk_length)"
   ]
  },
  {
   "cell_type": "code",
   "execution_count": null,
   "metadata": {},
   "outputs": [],
   "source": [
    "def create_corpus_sentences():\n",
    "    corpus_sentences = []\n",
    "    for title, content in tqdm(corpus.items()):\n",
    "        content_sentences = (nltk.sent_tokenize(content))\n",
    "        sentence_counter = 0\n",
    "        for sentence in content_sentences:\n",
    "            corpus_sentences.append({\n",
    "                'name': title + str(sentence_counter),\n",
    "                'content': sentence\n",
    "            })\n",
    "    return corpus_sentences"
   ]
  },
  {
   "cell_type": "code",
   "execution_count": null,
   "metadata": {},
   "outputs": [],
   "source": [
    "corpus_sentences = create_corpus_sentences()"
   ]
  },
  {
   "cell_type": "code",
   "execution_count": 37,
   "metadata": {},
   "outputs": [
    {
     "data": {
      "text/plain": [
       "{'name': 'Neurology_Adams.txt0',\n",
       " 'content': 'We are very pleased to bring you the 11th edition of Adams and Victor ’ s Principles of Neurology . To provide the context for the continued importance and relevance of a textbook that aspires to such breadth and depth , it may be compelling to review a patient ’ s story ; an event that took place between the last edition of this book and this one . Neurologists have always been particularly attracted to the case history as a method to imprint the fine points as well as the broad principles that can be gleaned in a clinical'}"
      ]
     },
     "execution_count": 37,
     "metadata": {},
     "output_type": "execute_result"
    }
   ],
   "source": [
    "corpus_chunks[0]"
   ]
  },
  {
   "cell_type": "code",
   "execution_count": 16,
   "metadata": {},
   "outputs": [],
   "source": [
    "from datetime import datetime\n",
    "from elasticsearch import Elasticsearch\n",
    "es = Elasticsearch()\n",
    "\n",
    "def upload_documents(documents, index_name):\n",
    "    create_index_body = \"\"\"{\n",
    "        \"settings\": {\n",
    "            \"index\": {\n",
    "                \"similarity\": {\n",
    "                    \"default\": {\n",
    "                        \"type\": \"BM25\"\n",
    "                    }\n",
    "                }\n",
    "            }\n",
    "        }\n",
    "    }\"\"\"\n",
    "    \n",
    "    # TODO: try to create index in the same manner as MedQA: https://github.com/jind11/MedQA\n",
    "    \n",
    "#     create_index_body = \"\"\"{\n",
    "#         \"settings\": {\n",
    "#             \"number_of_shards\": 1,\n",
    "#             \"number_of_replicas\": 0\n",
    "#           },\n",
    "#         \"mappings\": {\n",
    "#             \"chunk\": {\n",
    "#               \"dynamic\": \"false\",\n",
    "#               \"properties\": {\n",
    "#                 \"name\": {\n",
    "#                   \"type\": \"string\"\n",
    "#                 },\n",
    "#                 \"content\": {\n",
    "#                   \"analyzer\": \"snowball\",\n",
    "#                   \"type\": \"string\",\n",
    "#                   \"similarity\":\"BM25\"\n",
    "#                 }\n",
    "#               }\n",
    "#             }\n",
    "#         }\n",
    "#     }\"\"\"\n",
    "    print(create_index_body)\n",
    "    es.indices.create(index=index_name, body=create_index_body)\n",
    "\n",
    "    id_counter = 1\n",
    "    for document in tqdm(documents):\n",
    "        res = es.index(index=index_name, id=id_counter, body=document)\n",
    "        id_counter += 1"
   ]
  },
  {
   "cell_type": "code",
   "execution_count": 11,
   "metadata": {},
   "outputs": [],
   "source": [
    "from enum import Enum\n",
    "\n",
    "class Indexes(Enum):\n",
    "    Unprocessed_chunks_100 = \"unprocessed-chunks-100\",\n",
    "    Unprocessed_sentences = \"sentences-unprocessed-shards-1\",\n",
    "    Stemmed_sentences = \"sentences-stemmed-shards-1\"\n",
    "    MedQA_stemmed_chunks = \"medqa-stemmed-chunks\",\n",
    "    MedQA_unprocessed_chunks = \"medqa-unprocessed-chunks\",\n",
    "    MedQA_chunks_100 = \"medqa-chunks-100\"\n",
    "    MedQA_chunks_50 = \"medqa-chunks-50\"\n",
    "    #stemming-punctuation"
   ]
  },
  {
   "cell_type": "code",
   "execution_count": 26,
   "metadata": {},
   "outputs": [
    {
     "name": "stdout",
     "output_type": "stream",
     "text": [
      "{\n",
      "        \"settings\": {\n",
      "            \"index\": {\n",
      "                \"similarity\": {\n",
      "                    \"default\": {\n",
      "                        \"type\": \"BM25\"\n",
      "                    }\n",
      "                }\n",
      "            }\n",
      "        }\n",
      "    }\n"
     ]
    },
    {
     "data": {
      "application/vnd.jupyter.widget-view+json": {
       "model_id": "87f738f55f064e4bbd1c687041aa5f47",
       "version_major": 2,
       "version_minor": 0
      },
      "text/plain": [
       "HBox(children=(FloatProgress(value=0.0, max=303096.0), HTML(value='')))"
      ]
     },
     "metadata": {},
     "output_type": "display_data"
    },
    {
     "name": "stdout",
     "output_type": "stream",
     "text": [
      "\n"
     ]
    }
   ],
   "source": [
    "# upload_documents(corpus_chunks_100, Indexes.MedQA_chunks_100.value)\n",
    "upload_documents(corpus_chunks_50, Indexes.MedQA_chunks_50.value)"
   ]
  },
  {
   "cell_type": "code",
   "execution_count": 77,
   "metadata": {},
   "outputs": [],
   "source": [
    "# upload_documents(corpus_sentences, Indexes.Unprocessed_sentences.value)"
   ]
  },
  {
   "cell_type": "code",
   "execution_count": 12,
   "metadata": {},
   "outputs": [],
   "source": [
    "def search_documents(query_input, n, index_name):\n",
    "    res = es.search(\n",
    "        index=index_name, \n",
    "        body={\n",
    "            \"query\": {\n",
    "                \"match\": {\n",
    "                    \"content\": query_input\n",
    "                }\n",
    "            },\n",
    "            \"from\": 0,\n",
    "            \"size\": n\n",
    "        }\n",
    "    )\n",
    "    \n",
    "    number_of_hits = len(res['hits']['hits'])\n",
    "    \n",
    "    results = []\n",
    "    for i in range(number_of_hits):\n",
    "        score = res['hits']['hits'][i]['_score']\n",
    "        paragraph = res['hits']['hits'][i]['_source']\n",
    "        result = {\n",
    "            \"score\": score,\n",
    "            \"evidence\": paragraph\n",
    "        }\n",
    "        results.append(result)\n",
    "        \n",
    "    return results"
   ]
  },
  {
   "cell_type": "markdown",
   "metadata": {},
   "source": [
    "## Creating the collection of question: list of lists of documents retrieved per each option answer"
   ]
  },
  {
   "cell_type": "code",
   "execution_count": 20,
   "metadata": {},
   "outputs": [
    {
     "data": {
      "application/vnd.jupyter.widget-view+json": {
       "model_id": "1f000aec369d41a38c14ced015d884cf",
       "version_major": 2,
       "version_minor": 0
      },
      "text/plain": [
       "HBox(children=(FloatProgress(value=0.0, max=1272.0), HTML(value='')))"
      ]
     },
     "metadata": {},
     "output_type": "display_data"
    },
    {
     "name": "stdout",
     "output_type": "stream",
     "text": [
      "\n"
     ]
    },
    {
     "data": {
      "application/vnd.jupyter.widget-view+json": {
       "model_id": "c8d156cdf37843ada9e31db21466c97d",
       "version_major": 2,
       "version_minor": 0
      },
      "text/plain": [
       "HBox(children=(FloatProgress(value=0.0, max=10178.0), HTML(value='')))"
      ]
     },
     "metadata": {},
     "output_type": "display_data"
    },
    {
     "name": "stdout",
     "output_type": "stream",
     "text": [
      "\n",
      "1272\n"
     ]
    },
    {
     "data": {
      "application/vnd.jupyter.widget-view+json": {
       "model_id": "de870798051d4b5d9a69a54dbe5e3f8f",
       "version_major": 2,
       "version_minor": 0
      },
      "text/plain": [
       "HBox(children=(FloatProgress(value=0.0, max=1272.0), HTML(value='')))"
      ]
     },
     "metadata": {},
     "output_type": "display_data"
    },
    {
     "name": "stdout",
     "output_type": "stream",
     "text": [
      "\n",
      "10178\n"
     ]
    },
    {
     "data": {
      "application/vnd.jupyter.widget-view+json": {
       "model_id": "157bce6976f44c84adc3067e63106266",
       "version_major": 2,
       "version_minor": 0
      },
      "text/plain": [
       "HBox(children=(FloatProgress(value=0.0, max=10178.0), HTML(value='')))"
      ]
     },
     "metadata": {},
     "output_type": "display_data"
    },
    {
     "name": "stdout",
     "output_type": "stream",
     "text": [
      "\n",
      "1272\n"
     ]
    },
    {
     "data": {
      "application/vnd.jupyter.widget-view+json": {
       "model_id": "791751384c2e493c9a138c1c37285983",
       "version_major": 2,
       "version_minor": 0
      },
      "text/plain": [
       "HBox(children=(FloatProgress(value=0.0, max=1272.0), HTML(value='')))"
      ]
     },
     "metadata": {},
     "output_type": "display_data"
    },
    {
     "name": "stdout",
     "output_type": "stream",
     "text": [
      "\n",
      "10178\n"
     ]
    },
    {
     "data": {
      "application/vnd.jupyter.widget-view+json": {
       "model_id": "e97c53efa1e346ccadfb6a0c5f9e31e5",
       "version_major": 2,
       "version_minor": 0
      },
      "text/plain": [
       "HBox(children=(FloatProgress(value=0.0, max=10178.0), HTML(value='')))"
      ]
     },
     "metadata": {},
     "output_type": "display_data"
    },
    {
     "name": "stdout",
     "output_type": "stream",
     "text": [
      "\n"
     ]
    }
   ],
   "source": [
    "def get_documents_from_elasticsearch(questions, num_of_docs, index):\n",
    "    retrieved_documents = {}\n",
    "    print(len(questions))\n",
    "    for idx, question_data in enumerate(tqdm(questions)):\n",
    "        question_documents = {}\n",
    "        question_id = \"q\" + str(idx)\n",
    "        for option, option_answer in question_data['options'].items():\n",
    "            query = ' '.join(question_data['metamap_phrases']) + ' ' + option_answer\n",
    "            top_documents = search_documents(query, num_of_docs, index)\n",
    "            question_documents[option_answer] = top_documents\n",
    "\n",
    "        retrieved_documents[question_id] = {\n",
    "            \"question\": question_data['question'], \n",
    "            \"retrieved_documents\": question_documents  \n",
    "        }\n",
    "    return retrieved_documents\n",
    "\n",
    "# preprocess_questions(\n",
    "#     questions=questions_dev,\n",
    "#     remove_stopwords=False,\n",
    "#     stemming=False,\n",
    "#     remove_punctuation=False,\n",
    "#     metamap=True\n",
    "# )\n",
    "\n",
    "# preprocess_questions(\n",
    "#     questions=questions_train,\n",
    "#     remove_stopwords=False,\n",
    "#     stemming=False,\n",
    "#     remove_punctuation=False,\n",
    "#     metamap=True\n",
    "# )\n",
    "\n",
    "# # 100: unstemmed\n",
    "# retrieved_documents_dev_unprocessed = get_documents_from_elasticsearch(questions_dev, 10, Indexes.MedQA_chunks_100.value)\n",
    "# retrieved_documents_train_unprocessed = get_documents_from_elasticsearch(questions_train, 10, Indexes.MedQA_chunks_100.value)\n",
    "\n",
    "# save_data(retrieved_documents_dev_unprocessed, \"es_retrieved_documents_val_chunks_100_questions_unprocessed.pickle\")\n",
    "# save_data(retrieved_documents_train_unprocessed, \"es_retrieved_documents_train_chunks_100_questions_unprocessed.pickle\")\n",
    "\n",
    "# # 50: unstemmed\n",
    "# retrieved_documents_dev_unprocessed = get_documents_from_elasticsearch(questions_dev, 20, Indexes.MedQA_chunks_50.value)\n",
    "# retrieved_documents_train_unprocessed = get_documents_from_elasticsearch(questions_train, 20, Indexes.MedQA_chunks_50.value)\n",
    "\n",
    "# save_data(retrieved_documents_dev_unprocessed, \"es_retrieved_documents_val_chunks_50_questions_unprocessed.pickle\")\n",
    "# save_data(retrieved_documents_train_unprocessed, \"es_retrieved_documents_train_chunks_50_questions_unprocessed.pickle\")\n",
    "\n",
    "\n",
    "preprocess_questions(\n",
    "    questions=questions_dev,\n",
    "    remove_stopwords=False,\n",
    "    stemming=True,\n",
    "    remove_punctuation=False,\n",
    "    metamap=True\n",
    ")\n",
    "\n",
    "preprocess_questions(\n",
    "    questions=questions_train,\n",
    "    remove_stopwords=False,\n",
    "    stemming=True,\n",
    "    remove_punctuation=False,\n",
    "    metamap=True\n",
    ")\n",
    "\n",
    "retrieved_documents_dev_stemmed = get_documents_from_elasticsearch(questions_dev, 10, Indexes.MedQA_chunks_100.value)\n",
    "retrieved_documents_train_stemmed = get_documents_from_elasticsearch(questions_train, 10, Indexes.MedQA_chunks_100.value)\n",
    "\n",
    "save_data(retrieved_documents_dev_stemmed, \"es_retrieved_documents_val_chunks_100_questions_stemmed.pickle\")\n",
    "save_data(retrieved_documents_train_stemmed, \"es_retrieved_documents_train_chunks_100_questions_stemmed.pickle\")\n",
    "\n",
    "# 50: stemmed\n",
    "retrieved_documents_dev_unprocessed = get_documents_from_elasticsearch(questions_dev, 20, Indexes.MedQA_chunks_50.value)\n",
    "retrieved_documents_train_unprocessed = get_documents_from_elasticsearch(questions_train, 20, Indexes.MedQA_chunks_50.value)\n",
    "\n",
    "save_data(retrieved_documents_dev_unprocessed, \"es_retrieved_documents_val_chunks_50_questions_stemmed.pickle\")\n",
    "save_data(retrieved_documents_train_unprocessed, \"es_retrieved_documents_train_chunks_50_questions_stemmed.pickle\")\n"
   ]
  },
  {
   "cell_type": "code",
   "execution_count": 44,
   "metadata": {},
   "outputs": [
    {
     "data": {
      "text/plain": [
       "{'question': 'a 23-year-old pregnant woman at 22 weeks gestation presents with burning upon urination. she states it started 1 day ago and has been worsening despite drinking more water and taking cranberry extract. she otherwise feels well and is followed by a doctor for her pregnancy. her temperature is 97.7°f (36.5°c), blood pressure is 122/77 mmhg, pulse is 80/min, respirations are 19/min, and oxygen saturation is 98% on room air. physical exam is notable for an absence of costovertebral angle tenderness and a gravid uterus. which of the following is the best treatment for this patient?',\n",
       " 'retrieved_documents': {'ampicillin': [{'score': 44.465958,\n",
       "    'evidence': {'name': 'Obstentrics_Williams.txt0',\n",
       "     'content': 'surveillance for worsening sepsis syndrome includes serial monitoring of urinary output, blood pressure, pulse, temperature, and oxygen saturation.'}},\n",
       "   {'score': 41.05628,\n",
       "    'evidence': {'name': 'Pharmacology_Katzung.txt0',\n",
       "     'content': 'oxygen saturation by fingertip pulse oximeter while breathing room air is 87% (normal > 90%).'}},\n",
       "   {'score': 37.442696,\n",
       "    'evidence': {'name': 'Pharmacology_Katzung.txt0',\n",
       "     'content': 'her vital signs include the following: temperature 99.8°f, blood pressure 132/64 mm hg, pulse 78 bpm, and respiratory rate 15/min.'}},\n",
       "   {'score': 37.34332,\n",
       "    'evidence': {'name': 'First_Aid_Step1.txt0',\n",
       "     'content': 'presents with fevers, flank pain (costovertebral angle tenderness), nausea/vomiting, chills.'}},\n",
       "   {'score': 36.058567,\n",
       "    'evidence': {'name': 'Neurology_Adams.txt0',\n",
       "     'content': 'temperature, pulse, respiration, blood pressure, arterial oxygen saturation, and state of consciousness should be checked and charted every hour.'}},\n",
       "   {'score': 35.34765,\n",
       "    'evidence': {'name': 'InternalMed_Harrison.txt0',\n",
       "     'content': 'the spontaneous breathing trial is declared a failure and stopped if any of the following occur: (1) respiratory rate >35/min for >5 min, (2) o2 saturation <90%, (3) heart rate >140/min or a 20% increase or decrease from baseline, (4) systolic blood pressure <90 mmhg or >180 mmhg, or (5) increased anxiety or diaphoresis.'}},\n",
       "   {'score': 34.66988,\n",
       "    'evidence': {'name': 'Pharmacology_Katzung.txt0',\n",
       "     'content': 'the nurse in the preoperative holding area obtains the following vital signs: temperature 36.8°c (98.2°f), blood pressure 168/100 mm hg, heart rate 78 bpm, oxygen saturation by pulse oximeter 96% while breathing room air, and pain 5/10 in the right lower leg after walking into the hospital.'}},\n",
       "   {'score': 34.4758,\n",
       "    'evidence': {'name': 'Pharmacology_Katzung.txt0',\n",
       "     'content': '1.\\n\\nvital signs—careful evaluation of vital signs (blood pressure, pulse, respirations, and temperature) is essential in all toxicologic emergencies.'}},\n",
       "   {'score': 32.983753,\n",
       "    'evidence': {'name': 'Pediatrics_Nelson.txt0',\n",
       "     'content': 'an infant’s skin temperature may decrease 0.3° c/min, and the core temperature may decrease 0.1º c/min in the delivery room.'}},\n",
       "   {'score': 32.172436,\n",
       "    'evidence': {'name': 'Anatomy_Gray.txt0',\n",
       "     'content': 'on physical examination his lungs were clear, he was tachypneic at 24/min, and his saturation was reduced to 92% on room air.'}}],\n",
       "  'ceftriaxone': [{'score': 44.465958,\n",
       "    'evidence': {'name': 'Obstentrics_Williams.txt0',\n",
       "     'content': 'surveillance for worsening sepsis syndrome includes serial monitoring of urinary output, blood pressure, pulse, temperature, and oxygen saturation.'}},\n",
       "   {'score': 41.05628,\n",
       "    'evidence': {'name': 'Pharmacology_Katzung.txt0',\n",
       "     'content': 'oxygen saturation by fingertip pulse oximeter while breathing room air is 87% (normal > 90%).'}},\n",
       "   {'score': 37.442696,\n",
       "    'evidence': {'name': 'Pharmacology_Katzung.txt0',\n",
       "     'content': 'her vital signs include the following: temperature 99.8°f, blood pressure 132/64 mm hg, pulse 78 bpm, and respiratory rate 15/min.'}},\n",
       "   {'score': 37.34332,\n",
       "    'evidence': {'name': 'First_Aid_Step1.txt0',\n",
       "     'content': 'presents with fevers, flank pain (costovertebral angle tenderness), nausea/vomiting, chills.'}},\n",
       "   {'score': 36.058567,\n",
       "    'evidence': {'name': 'Neurology_Adams.txt0',\n",
       "     'content': 'temperature, pulse, respiration, blood pressure, arterial oxygen saturation, and state of consciousness should be checked and charted every hour.'}},\n",
       "   {'score': 35.34765,\n",
       "    'evidence': {'name': 'InternalMed_Harrison.txt0',\n",
       "     'content': 'the spontaneous breathing trial is declared a failure and stopped if any of the following occur: (1) respiratory rate >35/min for >5 min, (2) o2 saturation <90%, (3) heart rate >140/min or a 20% increase or decrease from baseline, (4) systolic blood pressure <90 mmhg or >180 mmhg, or (5) increased anxiety or diaphoresis.'}},\n",
       "   {'score': 34.66988,\n",
       "    'evidence': {'name': 'Pharmacology_Katzung.txt0',\n",
       "     'content': 'the nurse in the preoperative holding area obtains the following vital signs: temperature 36.8°c (98.2°f), blood pressure 168/100 mm hg, heart rate 78 bpm, oxygen saturation by pulse oximeter 96% while breathing room air, and pain 5/10 in the right lower leg after walking into the hospital.'}},\n",
       "   {'score': 34.4758,\n",
       "    'evidence': {'name': 'Pharmacology_Katzung.txt0',\n",
       "     'content': '1.\\n\\nvital signs—careful evaluation of vital signs (blood pressure, pulse, respirations, and temperature) is essential in all toxicologic emergencies.'}},\n",
       "   {'score': 32.983753,\n",
       "    'evidence': {'name': 'Pediatrics_Nelson.txt0',\n",
       "     'content': 'an infant’s skin temperature may decrease 0.3° c/min, and the core temperature may decrease 0.1º c/min in the delivery room.'}},\n",
       "   {'score': 32.172436,\n",
       "    'evidence': {'name': 'Anatomy_Gray.txt0',\n",
       "     'content': 'on physical examination his lungs were clear, he was tachypneic at 24/min, and his saturation was reduced to 92% on room air.'}}],\n",
       "  'ciprofloxacin': [{'score': 44.465958,\n",
       "    'evidence': {'name': 'Obstentrics_Williams.txt0',\n",
       "     'content': 'surveillance for worsening sepsis syndrome includes serial monitoring of urinary output, blood pressure, pulse, temperature, and oxygen saturation.'}},\n",
       "   {'score': 41.05628,\n",
       "    'evidence': {'name': 'Pharmacology_Katzung.txt0',\n",
       "     'content': 'oxygen saturation by fingertip pulse oximeter while breathing room air is 87% (normal > 90%).'}},\n",
       "   {'score': 37.442696,\n",
       "    'evidence': {'name': 'Pharmacology_Katzung.txt0',\n",
       "     'content': 'her vital signs include the following: temperature 99.8°f, blood pressure 132/64 mm hg, pulse 78 bpm, and respiratory rate 15/min.'}},\n",
       "   {'score': 37.34332,\n",
       "    'evidence': {'name': 'First_Aid_Step1.txt0',\n",
       "     'content': 'presents with fevers, flank pain (costovertebral angle tenderness), nausea/vomiting, chills.'}},\n",
       "   {'score': 36.058567,\n",
       "    'evidence': {'name': 'Neurology_Adams.txt0',\n",
       "     'content': 'temperature, pulse, respiration, blood pressure, arterial oxygen saturation, and state of consciousness should be checked and charted every hour.'}},\n",
       "   {'score': 35.34765,\n",
       "    'evidence': {'name': 'InternalMed_Harrison.txt0',\n",
       "     'content': 'the spontaneous breathing trial is declared a failure and stopped if any of the following occur: (1) respiratory rate >35/min for >5 min, (2) o2 saturation <90%, (3) heart rate >140/min or a 20% increase or decrease from baseline, (4) systolic blood pressure <90 mmhg or >180 mmhg, or (5) increased anxiety or diaphoresis.'}},\n",
       "   {'score': 34.66988,\n",
       "    'evidence': {'name': 'Pharmacology_Katzung.txt0',\n",
       "     'content': 'the nurse in the preoperative holding area obtains the following vital signs: temperature 36.8°c (98.2°f), blood pressure 168/100 mm hg, heart rate 78 bpm, oxygen saturation by pulse oximeter 96% while breathing room air, and pain 5/10 in the right lower leg after walking into the hospital.'}},\n",
       "   {'score': 34.4758,\n",
       "    'evidence': {'name': 'Pharmacology_Katzung.txt0',\n",
       "     'content': '1.\\n\\nvital signs—careful evaluation of vital signs (blood pressure, pulse, respirations, and temperature) is essential in all toxicologic emergencies.'}},\n",
       "   {'score': 32.983753,\n",
       "    'evidence': {'name': 'Pediatrics_Nelson.txt0',\n",
       "     'content': 'an infant’s skin temperature may decrease 0.3° c/min, and the core temperature may decrease 0.1º c/min in the delivery room.'}},\n",
       "   {'score': 32.172436,\n",
       "    'evidence': {'name': 'Anatomy_Gray.txt0',\n",
       "     'content': 'on physical examination his lungs were clear, he was tachypneic at 24/min, and his saturation was reduced to 92% on room air.'}}],\n",
       "  'doxycycline': [{'score': 44.465958,\n",
       "    'evidence': {'name': 'Obstentrics_Williams.txt0',\n",
       "     'content': 'surveillance for worsening sepsis syndrome includes serial monitoring of urinary output, blood pressure, pulse, temperature, and oxygen saturation.'}},\n",
       "   {'score': 41.05628,\n",
       "    'evidence': {'name': 'Pharmacology_Katzung.txt0',\n",
       "     'content': 'oxygen saturation by fingertip pulse oximeter while breathing room air is 87% (normal > 90%).'}},\n",
       "   {'score': 37.442696,\n",
       "    'evidence': {'name': 'Pharmacology_Katzung.txt0',\n",
       "     'content': 'her vital signs include the following: temperature 99.8°f, blood pressure 132/64 mm hg, pulse 78 bpm, and respiratory rate 15/min.'}},\n",
       "   {'score': 37.34332,\n",
       "    'evidence': {'name': 'First_Aid_Step1.txt0',\n",
       "     'content': 'presents with fevers, flank pain (costovertebral angle tenderness), nausea/vomiting, chills.'}},\n",
       "   {'score': 36.058567,\n",
       "    'evidence': {'name': 'Neurology_Adams.txt0',\n",
       "     'content': 'temperature, pulse, respiration, blood pressure, arterial oxygen saturation, and state of consciousness should be checked and charted every hour.'}},\n",
       "   {'score': 35.34765,\n",
       "    'evidence': {'name': 'InternalMed_Harrison.txt0',\n",
       "     'content': 'the spontaneous breathing trial is declared a failure and stopped if any of the following occur: (1) respiratory rate >35/min for >5 min, (2) o2 saturation <90%, (3) heart rate >140/min or a 20% increase or decrease from baseline, (4) systolic blood pressure <90 mmhg or >180 mmhg, or (5) increased anxiety or diaphoresis.'}},\n",
       "   {'score': 34.66988,\n",
       "    'evidence': {'name': 'Pharmacology_Katzung.txt0',\n",
       "     'content': 'the nurse in the preoperative holding area obtains the following vital signs: temperature 36.8°c (98.2°f), blood pressure 168/100 mm hg, heart rate 78 bpm, oxygen saturation by pulse oximeter 96% while breathing room air, and pain 5/10 in the right lower leg after walking into the hospital.'}},\n",
       "   {'score': 34.4758,\n",
       "    'evidence': {'name': 'Pharmacology_Katzung.txt0',\n",
       "     'content': '1.\\n\\nvital signs—careful evaluation of vital signs (blood pressure, pulse, respirations, and temperature) is essential in all toxicologic emergencies.'}},\n",
       "   {'score': 32.983753,\n",
       "    'evidence': {'name': 'Pediatrics_Nelson.txt0',\n",
       "     'content': 'an infant’s skin temperature may decrease 0.3° c/min, and the core temperature may decrease 0.1º c/min in the delivery room.'}},\n",
       "   {'score': 32.172436,\n",
       "    'evidence': {'name': 'Anatomy_Gray.txt0',\n",
       "     'content': 'on physical examination his lungs were clear, he was tachypneic at 24/min, and his saturation was reduced to 92% on room air.'}}],\n",
       "  'nitrofurantoin': [{'score': 44.465958,\n",
       "    'evidence': {'name': 'Obstentrics_Williams.txt0',\n",
       "     'content': 'surveillance for worsening sepsis syndrome includes serial monitoring of urinary output, blood pressure, pulse, temperature, and oxygen saturation.'}},\n",
       "   {'score': 41.05628,\n",
       "    'evidence': {'name': 'Pharmacology_Katzung.txt0',\n",
       "     'content': 'oxygen saturation by fingertip pulse oximeter while breathing room air is 87% (normal > 90%).'}},\n",
       "   {'score': 37.442696,\n",
       "    'evidence': {'name': 'Pharmacology_Katzung.txt0',\n",
       "     'content': 'her vital signs include the following: temperature 99.8°f, blood pressure 132/64 mm hg, pulse 78 bpm, and respiratory rate 15/min.'}},\n",
       "   {'score': 37.34332,\n",
       "    'evidence': {'name': 'First_Aid_Step1.txt0',\n",
       "     'content': 'presents with fevers, flank pain (costovertebral angle tenderness), nausea/vomiting, chills.'}},\n",
       "   {'score': 36.058567,\n",
       "    'evidence': {'name': 'Neurology_Adams.txt0',\n",
       "     'content': 'temperature, pulse, respiration, blood pressure, arterial oxygen saturation, and state of consciousness should be checked and charted every hour.'}},\n",
       "   {'score': 35.34765,\n",
       "    'evidence': {'name': 'InternalMed_Harrison.txt0',\n",
       "     'content': 'the spontaneous breathing trial is declared a failure and stopped if any of the following occur: (1) respiratory rate >35/min for >5 min, (2) o2 saturation <90%, (3) heart rate >140/min or a 20% increase or decrease from baseline, (4) systolic blood pressure <90 mmhg or >180 mmhg, or (5) increased anxiety or diaphoresis.'}},\n",
       "   {'score': 34.66988,\n",
       "    'evidence': {'name': 'Pharmacology_Katzung.txt0',\n",
       "     'content': 'the nurse in the preoperative holding area obtains the following vital signs: temperature 36.8°c (98.2°f), blood pressure 168/100 mm hg, heart rate 78 bpm, oxygen saturation by pulse oximeter 96% while breathing room air, and pain 5/10 in the right lower leg after walking into the hospital.'}},\n",
       "   {'score': 34.4758,\n",
       "    'evidence': {'name': 'Pharmacology_Katzung.txt0',\n",
       "     'content': '1.\\n\\nvital signs—careful evaluation of vital signs (blood pressure, pulse, respirations, and temperature) is essential in all toxicologic emergencies.'}},\n",
       "   {'score': 32.983753,\n",
       "    'evidence': {'name': 'Pediatrics_Nelson.txt0',\n",
       "     'content': 'an infant’s skin temperature may decrease 0.3° c/min, and the core temperature may decrease 0.1º c/min in the delivery room.'}},\n",
       "   {'score': 32.172436,\n",
       "    'evidence': {'name': 'Anatomy_Gray.txt0',\n",
       "     'content': 'on physical examination his lungs were clear, he was tachypneic at 24/min, and his saturation was reduced to 92% on room air.'}}]}}"
      ]
     },
     "execution_count": 44,
     "metadata": {},
     "output_type": "execute_result"
    }
   ],
   "source": [
    "retrieved_documents_train_unprocessed[\"q0\"]"
   ]
  },
  {
   "cell_type": "code",
   "execution_count": 30,
   "metadata": {},
   "outputs": [],
   "source": [
    "save_data(retrieved_documents_dev_stemmed, \"es_retrieved_documents_dev_stemmed.pickle\")\n",
    "save_data(retrieved_documents_train_stemmed, \"es_retrieved_documents_train_stemmed.pickle\")\n"
   ]
  },
  {
   "cell_type": "code",
   "execution_count": 45,
   "metadata": {},
   "outputs": [
    {
     "data": {
      "text/plain": [
       "{'question': 'a 21-year-old sexual activ male complain of fever , pain dure urin , and inflamm and pain in the right knee . a cultur of the joint fluid show a bacteria that doe not ferment maltos and has no polysaccharid capsul . the physician order antibiot therapi for the patient . the mechan of action of action of the medic given block cell wall synthesi , which of the follow was given ?',\n",
       " 'retrieved_documents': {'chloramphenicol': [{'score': 38.640953,\n",
       "    'evidence': {'name': 'Biochemistry_Lippincott.txt0',\n",
       "     'content': '2.2. a 42-year-old male patient undergoing radiation therapy for prostate cancer develops severe pain in the metatarsal phalangeal joint of his right big toe.'}},\n",
       "   {'score': 34.522305,\n",
       "    'evidence': {'name': 'Anatomy_Gray.txt0',\n",
       "     'content': 'a 45-year-old man came to his physician complaining of pain and weakness in his right shoulder.'}},\n",
       "   {'score': 33.64039,\n",
       "    'evidence': {'name': 'First_Aid_Step2.txt0',\n",
       "     'content': 'an active 13-year-old boy has anterior knee pain.'}},\n",
       "   {'score': 32.479603,\n",
       "    'evidence': {'name': 'Biochemistry_Lippincott.txt0',\n",
       "     'content': 'case 7: joint pain\\n\\npatient presentation: ir is a 22-year-old male who presents for follow-up 10 days after having been treated in the emergency department (ed) for severe inflammation at the base of his thumb.'}},\n",
       "   {'score': 29.039585,\n",
       "    'evidence': {'name': 'InternalMed_Harrison.txt0',\n",
       "     'content': 'a 45-year-old woman receiving high-dose glucocorticoids developed right hip pain.'}},\n",
       "   {'score': 27.275278,\n",
       "    'evidence': {'name': 'InternalMed_Harrison.txt0',\n",
       "     'content': 'in these settings, the patient experiences increased pain and swelling in the involved joint in association with fever.'}},\n",
       "   {'score': 26.947945,\n",
       "    'evidence': {'name': 'First_Aid_Step2.txt0',\n",
       "     'content': 'a 55-year-old man has sudden, excruciating first mtp joint pain after a night of drinking red wine.'}},\n",
       "   {'score': 26.748428,\n",
       "    'evidence': {'name': 'Anatomy_Gray.txt0',\n",
       "     'content': 'a 25-year-old woman was admitted to the emergency department with a complaint of pain in her right iliac fossa.'}},\n",
       "   {'score': 26.28955,\n",
       "    'evidence': {'name': 'Pediatrics_Nelson.txt0',\n",
       "     'content': 'palpating and compressing the patellofemoral joint with the knee extended elicits pain.'}},\n",
       "   {'score': 26.153393,\n",
       "    'evidence': {'name': 'Biochemistry_Lippincott.txt0',\n",
       "     'content': 'a. alanine\\n\\nb. ammonia\\n\\nc. glutamine\\n\\nd. insulin\\n\\ne. ph\\n\\ncase 10: calf pain\\n\\npatient presentation: cr is a 19-year-old female who is being evaluated for pain and swelling in her right calf.'}}],\n",
       "  'gentamicin': [{'score': 38.640953,\n",
       "    'evidence': {'name': 'Biochemistry_Lippincott.txt0',\n",
       "     'content': '2.2. a 42-year-old male patient undergoing radiation therapy for prostate cancer develops severe pain in the metatarsal phalangeal joint of his right big toe.'}},\n",
       "   {'score': 34.522305,\n",
       "    'evidence': {'name': 'Anatomy_Gray.txt0',\n",
       "     'content': 'a 45-year-old man came to his physician complaining of pain and weakness in his right shoulder.'}},\n",
       "   {'score': 33.64039,\n",
       "    'evidence': {'name': 'First_Aid_Step2.txt0',\n",
       "     'content': 'an active 13-year-old boy has anterior knee pain.'}},\n",
       "   {'score': 32.479603,\n",
       "    'evidence': {'name': 'Biochemistry_Lippincott.txt0',\n",
       "     'content': 'case 7: joint pain\\n\\npatient presentation: ir is a 22-year-old male who presents for follow-up 10 days after having been treated in the emergency department (ed) for severe inflammation at the base of his thumb.'}},\n",
       "   {'score': 29.039585,\n",
       "    'evidence': {'name': 'InternalMed_Harrison.txt0',\n",
       "     'content': 'a 45-year-old woman receiving high-dose glucocorticoids developed right hip pain.'}},\n",
       "   {'score': 27.275278,\n",
       "    'evidence': {'name': 'InternalMed_Harrison.txt0',\n",
       "     'content': 'in these settings, the patient experiences increased pain and swelling in the involved joint in association with fever.'}},\n",
       "   {'score': 26.947945,\n",
       "    'evidence': {'name': 'First_Aid_Step2.txt0',\n",
       "     'content': 'a 55-year-old man has sudden, excruciating first mtp joint pain after a night of drinking red wine.'}},\n",
       "   {'score': 26.748428,\n",
       "    'evidence': {'name': 'Anatomy_Gray.txt0',\n",
       "     'content': 'a 25-year-old woman was admitted to the emergency department with a complaint of pain in her right iliac fossa.'}},\n",
       "   {'score': 26.28955,\n",
       "    'evidence': {'name': 'Pediatrics_Nelson.txt0',\n",
       "     'content': 'palpating and compressing the patellofemoral joint with the knee extended elicits pain.'}},\n",
       "   {'score': 26.153393,\n",
       "    'evidence': {'name': 'Biochemistry_Lippincott.txt0',\n",
       "     'content': 'a. alanine\\n\\nb. ammonia\\n\\nc. glutamine\\n\\nd. insulin\\n\\ne. ph\\n\\ncase 10: calf pain\\n\\npatient presentation: cr is a 19-year-old female who is being evaluated for pain and swelling in her right calf.'}}],\n",
       "  'ciprofloxacin': [{'score': 38.640953,\n",
       "    'evidence': {'name': 'Biochemistry_Lippincott.txt0',\n",
       "     'content': '2.2. a 42-year-old male patient undergoing radiation therapy for prostate cancer develops severe pain in the metatarsal phalangeal joint of his right big toe.'}},\n",
       "   {'score': 34.522305,\n",
       "    'evidence': {'name': 'Anatomy_Gray.txt0',\n",
       "     'content': 'a 45-year-old man came to his physician complaining of pain and weakness in his right shoulder.'}},\n",
       "   {'score': 33.64039,\n",
       "    'evidence': {'name': 'First_Aid_Step2.txt0',\n",
       "     'content': 'an active 13-year-old boy has anterior knee pain.'}},\n",
       "   {'score': 32.479603,\n",
       "    'evidence': {'name': 'Biochemistry_Lippincott.txt0',\n",
       "     'content': 'case 7: joint pain\\n\\npatient presentation: ir is a 22-year-old male who presents for follow-up 10 days after having been treated in the emergency department (ed) for severe inflammation at the base of his thumb.'}},\n",
       "   {'score': 29.039585,\n",
       "    'evidence': {'name': 'InternalMed_Harrison.txt0',\n",
       "     'content': 'a 45-year-old woman receiving high-dose glucocorticoids developed right hip pain.'}},\n",
       "   {'score': 27.275278,\n",
       "    'evidence': {'name': 'InternalMed_Harrison.txt0',\n",
       "     'content': 'in these settings, the patient experiences increased pain and swelling in the involved joint in association with fever.'}},\n",
       "   {'score': 26.947945,\n",
       "    'evidence': {'name': 'First_Aid_Step2.txt0',\n",
       "     'content': 'a 55-year-old man has sudden, excruciating first mtp joint pain after a night of drinking red wine.'}},\n",
       "   {'score': 26.748428,\n",
       "    'evidence': {'name': 'Anatomy_Gray.txt0',\n",
       "     'content': 'a 25-year-old woman was admitted to the emergency department with a complaint of pain in her right iliac fossa.'}},\n",
       "   {'score': 26.28955,\n",
       "    'evidence': {'name': 'Pediatrics_Nelson.txt0',\n",
       "     'content': 'palpating and compressing the patellofemoral joint with the knee extended elicits pain.'}},\n",
       "   {'score': 26.153393,\n",
       "    'evidence': {'name': 'Biochemistry_Lippincott.txt0',\n",
       "     'content': 'a. alanine\\n\\nb. ammonia\\n\\nc. glutamine\\n\\nd. insulin\\n\\ne. ph\\n\\ncase 10: calf pain\\n\\npatient presentation: cr is a 19-year-old female who is being evaluated for pain and swelling in her right calf.'}}],\n",
       "  'ceftriaxon': [{'score': 38.640953,\n",
       "    'evidence': {'name': 'Biochemistry_Lippincott.txt0',\n",
       "     'content': '2.2. a 42-year-old male patient undergoing radiation therapy for prostate cancer develops severe pain in the metatarsal phalangeal joint of his right big toe.'}},\n",
       "   {'score': 34.522305,\n",
       "    'evidence': {'name': 'Anatomy_Gray.txt0',\n",
       "     'content': 'a 45-year-old man came to his physician complaining of pain and weakness in his right shoulder.'}},\n",
       "   {'score': 33.64039,\n",
       "    'evidence': {'name': 'First_Aid_Step2.txt0',\n",
       "     'content': 'an active 13-year-old boy has anterior knee pain.'}},\n",
       "   {'score': 32.479603,\n",
       "    'evidence': {'name': 'Biochemistry_Lippincott.txt0',\n",
       "     'content': 'case 7: joint pain\\n\\npatient presentation: ir is a 22-year-old male who presents for follow-up 10 days after having been treated in the emergency department (ed) for severe inflammation at the base of his thumb.'}},\n",
       "   {'score': 29.039585,\n",
       "    'evidence': {'name': 'InternalMed_Harrison.txt0',\n",
       "     'content': 'a 45-year-old woman receiving high-dose glucocorticoids developed right hip pain.'}},\n",
       "   {'score': 27.275278,\n",
       "    'evidence': {'name': 'InternalMed_Harrison.txt0',\n",
       "     'content': 'in these settings, the patient experiences increased pain and swelling in the involved joint in association with fever.'}},\n",
       "   {'score': 26.947945,\n",
       "    'evidence': {'name': 'First_Aid_Step2.txt0',\n",
       "     'content': 'a 55-year-old man has sudden, excruciating first mtp joint pain after a night of drinking red wine.'}},\n",
       "   {'score': 26.748428,\n",
       "    'evidence': {'name': 'Anatomy_Gray.txt0',\n",
       "     'content': 'a 25-year-old woman was admitted to the emergency department with a complaint of pain in her right iliac fossa.'}},\n",
       "   {'score': 26.28955,\n",
       "    'evidence': {'name': 'Pediatrics_Nelson.txt0',\n",
       "     'content': 'palpating and compressing the patellofemoral joint with the knee extended elicits pain.'}},\n",
       "   {'score': 26.153393,\n",
       "    'evidence': {'name': 'Biochemistry_Lippincott.txt0',\n",
       "     'content': 'a. alanine\\n\\nb. ammonia\\n\\nc. glutamine\\n\\nd. insulin\\n\\ne. ph\\n\\ncase 10: calf pain\\n\\npatient presentation: cr is a 19-year-old female who is being evaluated for pain and swelling in her right calf.'}}],\n",
       "  'trimethoprim': [{'score': 38.640953,\n",
       "    'evidence': {'name': 'Biochemistry_Lippincott.txt0',\n",
       "     'content': '2.2. a 42-year-old male patient undergoing radiation therapy for prostate cancer develops severe pain in the metatarsal phalangeal joint of his right big toe.'}},\n",
       "   {'score': 34.522305,\n",
       "    'evidence': {'name': 'Anatomy_Gray.txt0',\n",
       "     'content': 'a 45-year-old man came to his physician complaining of pain and weakness in his right shoulder.'}},\n",
       "   {'score': 33.64039,\n",
       "    'evidence': {'name': 'First_Aid_Step2.txt0',\n",
       "     'content': 'an active 13-year-old boy has anterior knee pain.'}},\n",
       "   {'score': 32.479603,\n",
       "    'evidence': {'name': 'Biochemistry_Lippincott.txt0',\n",
       "     'content': 'case 7: joint pain\\n\\npatient presentation: ir is a 22-year-old male who presents for follow-up 10 days after having been treated in the emergency department (ed) for severe inflammation at the base of his thumb.'}},\n",
       "   {'score': 29.039585,\n",
       "    'evidence': {'name': 'InternalMed_Harrison.txt0',\n",
       "     'content': 'a 45-year-old woman receiving high-dose glucocorticoids developed right hip pain.'}},\n",
       "   {'score': 27.275278,\n",
       "    'evidence': {'name': 'InternalMed_Harrison.txt0',\n",
       "     'content': 'in these settings, the patient experiences increased pain and swelling in the involved joint in association with fever.'}},\n",
       "   {'score': 26.947945,\n",
       "    'evidence': {'name': 'First_Aid_Step2.txt0',\n",
       "     'content': 'a 55-year-old man has sudden, excruciating first mtp joint pain after a night of drinking red wine.'}},\n",
       "   {'score': 26.748428,\n",
       "    'evidence': {'name': 'Anatomy_Gray.txt0',\n",
       "     'content': 'a 25-year-old woman was admitted to the emergency department with a complaint of pain in her right iliac fossa.'}},\n",
       "   {'score': 26.28955,\n",
       "    'evidence': {'name': 'Pediatrics_Nelson.txt0',\n",
       "     'content': 'palpating and compressing the patellofemoral joint with the knee extended elicits pain.'}},\n",
       "   {'score': 26.153393,\n",
       "    'evidence': {'name': 'Biochemistry_Lippincott.txt0',\n",
       "     'content': 'a. alanine\\n\\nb. ammonia\\n\\nc. glutamine\\n\\nd. insulin\\n\\ne. ph\\n\\ncase 10: calf pain\\n\\npatient presentation: cr is a 19-year-old female who is being evaluated for pain and swelling in her right calf.'}}]}}"
      ]
     },
     "execution_count": 45,
     "metadata": {},
     "output_type": "execute_result"
    }
   ],
   "source": [
    "test = load_pickle(\"es_retrieved_documents_dev_stemmed.pickle\")\n",
    "test[\"q0\"]"
   ]
  },
  {
   "cell_type": "markdown",
   "metadata": {},
   "source": [
    "## Running IR-ES"
   ]
  },
  {
   "cell_type": "code",
   "execution_count": 90,
   "metadata": {},
   "outputs": [],
   "source": [
    "def ir_es(questions, no_documents_to_retrieve, index_name, metamap=False, all_questions_bank=False):\n",
    "    start_time = time.time()\n",
    "\n",
    "    correct_answer = 0\n",
    "    incorrect_answer = 0\n",
    "    for question_data in tqdm(questions):\n",
    "        question = question_data['question']\n",
    "        # for all_questions, the answer is the letter\n",
    "        \n",
    "        if all_questions_bank:\n",
    "            answer = question_data['options'][question_data['answer']]\n",
    "        else:\n",
    "            answer = question_data['answer']\n",
    "\n",
    "        final_answer = None\n",
    "        final_score = 0\n",
    "\n",
    "        for option, option_answer in question_data['options'].items():\n",
    "            if metamap:\n",
    "                query = ' '.join(question_data['metamap_phrases']) + \" \" + option_answer\n",
    "            else:\n",
    "                query = question + \" \" + option_answer\n",
    "            top_documents = search_documents(query, no_documents_to_retrieve, index_name)\n",
    "            if top_documents != []:\n",
    "                score = 0\n",
    "                for doc in top_documents:\n",
    "                    score += doc['score']\n",
    "\n",
    "                if final_score < score:\n",
    "                    final_answer = option_answer\n",
    "                    final_score = score\n",
    "\n",
    "        correct = False\n",
    "        if final_answer == answer:\n",
    "            correct_answer += 1\n",
    "            correct = True\n",
    "        else:\n",
    "            incorrect_answer += 1\n",
    "\n",
    "\n",
    "    print(f'Accuracy: {100 * correct_answer / (correct_answer + incorrect_answer)}%')\n",
    "    print(f'\\tCorrect answers: {correct_answer}')\n",
    "    print(f'\\tInorrect answers: {incorrect_answer}')"
   ]
  },
  {
   "cell_type": "code",
   "execution_count": 91,
   "metadata": {},
   "outputs": [],
   "source": [
    "# ir_es([x], 5, 'unprocessed')\n",
    "def run_ir_es(questions, used_index, num_of_documents, metamap=False):\n",
    "    print(f'Used index: {used_index}\\nNumber of retrieved documents: {num_of_documents}\\nUsing metamap phrases: {metamap}')\n",
    "    ir_es(questions, num_of_documents, used_index, metamap)"
   ]
  },
  {
   "cell_type": "markdown",
   "metadata": {},
   "source": [
    "## On stemmed index"
   ]
  },
  {
   "cell_type": "code",
   "execution_count": 92,
   "metadata": {},
   "outputs": [
    {
     "name": "stdout",
     "output_type": "stream",
     "text": [
      "Used index: medqa-stemmed-chunks\n",
      "Number of retrieved documents: 10\n",
      "Using metamap phrases: True\n"
     ]
    },
    {
     "data": {
      "application/vnd.jupyter.widget-view+json": {
       "model_id": "50ceb66bb40c4a0e90b8cde528b4b6d6",
       "version_major": 2,
       "version_minor": 0
      },
      "text/plain": [
       "HBox(children=(FloatProgress(value=0.0, max=1272.0), HTML(value='')))"
      ]
     },
     "metadata": {},
     "output_type": "display_data"
    },
    {
     "name": "stdout",
     "output_type": "stream",
     "text": [
      "\n",
      "Accuracy: 27.90880503144654%\n",
      "\tCorrect answers: 355\n",
      "\tInorrect answers: 917\n"
     ]
    }
   ],
   "source": [
    "run_ir_es(questions=questions_dev,\n",
    "          used_index=Indexes.MedQA_stemmed_chunks.value,\n",
    "          num_of_documents=10,\n",
    "          metamap=True\n",
    "         )"
   ]
  },
  {
   "cell_type": "code",
   "execution_count": 93,
   "metadata": {},
   "outputs": [
    {
     "name": "stdout",
     "output_type": "stream",
     "text": [
      "Used index: medqa-stemmed-chunks\n",
      "Number of retrieved documents: 10\n",
      "Using metamap phrases: True\n"
     ]
    },
    {
     "data": {
      "application/vnd.jupyter.widget-view+json": {
       "model_id": "a470beaa777e45f3bbab2d43f28e89c4",
       "version_major": 2,
       "version_minor": 0
      },
      "text/plain": [
       "HBox(children=(FloatProgress(value=0.0, max=10178.0), HTML(value='')))"
      ]
     },
     "metadata": {},
     "output_type": "display_data"
    },
    {
     "name": "stdout",
     "output_type": "stream",
     "text": [
      "\n",
      "Accuracy: 27.608567498526234%\n",
      "\tCorrect answers: 2810\n",
      "\tInorrect answers: 7368\n"
     ]
    }
   ],
   "source": [
    "run_ir_es(questions=questions_train,\n",
    "          used_index=Indexes.MedQA_stemmed_chunks.value,\n",
    "          num_of_documents=10,\n",
    "          metamap=True\n",
    "         )"
   ]
  },
  {
   "cell_type": "markdown",
   "metadata": {},
   "source": [
    "## On unstemmed index"
   ]
  },
  {
   "cell_type": "code",
   "execution_count": 106,
   "metadata": {},
   "outputs": [
    {
     "name": "stdout",
     "output_type": "stream",
     "text": [
      "Used index: medqa-unprocessed-chunks\n",
      "Number of retrieved documents: 10\n",
      "Using metamap phrases: True\n"
     ]
    },
    {
     "data": {
      "application/vnd.jupyter.widget-view+json": {
       "model_id": "b9540bcc65b446b1b7cb9fed3dcb6a0d",
       "version_major": 2,
       "version_minor": 0
      },
      "text/plain": [
       "HBox(children=(FloatProgress(value=0.0, max=1272.0), HTML(value='')))"
      ]
     },
     "metadata": {},
     "output_type": "display_data"
    },
    {
     "name": "stdout",
     "output_type": "stream",
     "text": [
      "\n",
      "Accuracy: 31.761006289308177%\n",
      "\tCorrect answers: 404\n",
      "\tInorrect answers: 868\n"
     ]
    }
   ],
   "source": [
    "run_ir_es(questions=questions_dev,\n",
    "          used_index=Indexes.MedQA_unprocessed_chunks.value,\n",
    "          num_of_documents=10,\n",
    "          metamap=True\n",
    "         )"
   ]
  },
  {
   "cell_type": "code",
   "execution_count": 105,
   "metadata": {},
   "outputs": [
    {
     "name": "stdout",
     "output_type": "stream",
     "text": [
      "Used index: medqa-unprocessed-chunks\n",
      "Number of retrieved documents: 10\n",
      "Using metamap phrases: True\n"
     ]
    },
    {
     "data": {
      "application/vnd.jupyter.widget-view+json": {
       "model_id": "ebcae777053e4ec68823be56dbfe31e8",
       "version_major": 2,
       "version_minor": 0
      },
      "text/plain": [
       "HBox(children=(FloatProgress(value=0.0, max=10178.0), HTML(value='')))"
      ]
     },
     "metadata": {},
     "output_type": "display_data"
    },
    {
     "name": "stdout",
     "output_type": "stream",
     "text": [
      "\n",
      "Accuracy: 30.978581253684418%\n",
      "\tCorrect answers: 3153\n",
      "\tInorrect answers: 7025\n"
     ]
    }
   ],
   "source": [
    "run_ir_es(questions=questions_train,\n",
    "          used_index=Indexes.MedQA_unprocessed_chunks.value,\n",
    "          num_of_documents=10,\n",
    "          metamap=True\n",
    "         )"
   ]
  },
  {
   "cell_type": "code",
   "execution_count": null,
   "metadata": {},
   "outputs": [],
   "source": [
    "from nltk import ngrams, FreqDist\n",
    "\n",
    "grams = ngrams('one two scy blue one two babaloo'.split(), 1)\n",
    "freq = [{key:value for nltk.FreqDist(grams)]\n",
    "freq"
   ]
  },
  {
   "cell_type": "code",
   "execution_count": null,
   "metadata": {},
   "outputs": [],
   "source": [
    "x = freq.get(('lol',))"
   ]
  },
  {
   "cell_type": "code",
   "execution_count": null,
   "metadata": {},
   "outputs": [],
   "source": [
    "from nltk import ngrams, FreqDist\n",
    "\n",
    "corpus_unigrams = ngrams(corpus_joined.split(), 1)\n",
    "corpus_unigrams_freq = nltk.FreqDist(corpus_unigrams)\n",
    "def calculate_score(bm25_score, query):\n",
    "    query_unigrams = ngrams(query.split(), 1)\n",
    "    \n",
    "    for unigram in query_unigrams:\n",
    "        \n",
    "    \n",
    "    query_unigrams_freq = FreqDist(query_unigrams)"
   ]
  },
  {
   "cell_type": "code",
   "execution_count": null,
   "metadata": {},
   "outputs": [],
   "source": []
  },
  {
   "cell_type": "code",
   "execution_count": null,
   "metadata": {},
   "outputs": [],
   "source": []
  },
  {
   "cell_type": "code",
   "execution_count": null,
   "metadata": {},
   "outputs": [],
   "source": []
  },
  {
   "cell_type": "code",
   "execution_count": null,
   "metadata": {},
   "outputs": [],
   "source": [
    "dev_questions = []\n",
    "\n",
    "with open(questions_dev_medqa_path, 'r') as file:\n",
    "    for line in file:\n",
    "        dev_questions.append(json.loads(line))"
   ]
  },
  {
   "cell_type": "code",
   "execution_count": null,
   "metadata": {},
   "outputs": [],
   "source": [
    "dev_questions[0]"
   ]
  },
  {
   "cell_type": "code",
   "execution_count": null,
   "metadata": {},
   "outputs": [],
   "source": [
    "import copy\n",
    "\n",
    "x = copy.deepcopy(dev_questions)"
   ]
  },
  {
   "cell_type": "code",
   "execution_count": null,
   "metadata": {},
   "outputs": [],
   "source": [
    "x[1]['question'] = 'lol'"
   ]
  },
  {
   "cell_type": "code",
   "execution_count": null,
   "metadata": {},
   "outputs": [],
   "source": [
    "dev_questions[0]['question']"
   ]
  },
  {
   "cell_type": "code",
   "execution_count": null,
   "metadata": {},
   "outputs": [],
   "source": [
    "\n",
    "\n",
    "\n",
    "    "
   ]
  },
  {
   "cell_type": "code",
   "execution_count": null,
   "metadata": {},
   "outputs": [],
   "source": [
    "snowball_stemmer = SnowballStemmer(language='english') \n",
    "stem_questions(x[:15], snowball_stemmer)"
   ]
  },
  {
   "cell_type": "code",
   "execution_count": null,
   "metadata": {},
   "outputs": [],
   "source": [
    "x[5]"
   ]
  },
  {
   "cell_type": "code",
   "execution_count": null,
   "metadata": {},
   "outputs": [],
   "source": []
  },
  {
   "cell_type": "code",
   "execution_count": null,
   "metadata": {},
   "outputs": [],
   "source": []
  },
  {
   "cell_type": "code",
   "execution_count": null,
   "metadata": {},
   "outputs": [],
   "source": []
  },
  {
   "cell_type": "code",
   "execution_count": null,
   "metadata": {},
   "outputs": [],
   "source": []
  },
  {
   "cell_type": "code",
   "execution_count": null,
   "metadata": {},
   "outputs": [],
   "source": []
  },
  {
   "cell_type": "code",
   "execution_count": null,
   "metadata": {},
   "outputs": [],
   "source": []
  },
  {
   "cell_type": "code",
   "execution_count": null,
   "metadata": {},
   "outputs": [],
   "source": []
  },
  {
   "cell_type": "code",
   "execution_count": null,
   "metadata": {},
   "outputs": [],
   "source": []
  },
  {
   "cell_type": "code",
   "execution_count": null,
   "metadata": {},
   "outputs": [],
   "source": [
    "from transformers import AutoTokenizer, AutoModelForQuestionAnswering\n",
    "\n",
    "# tokenizer = AutoTokenizer.from_pretrained(\"bert-base-uncased\")\n",
    "# model = AutoModelForQuestionAnswering.from_pretrained(\"bert-base-uncased\")\n",
    "\n",
    "tokenizer = AutoTokenizer.from_pretrained(\"bert-large-uncased-whole-word-masking-finetuned-squad\")\n",
    "model = AutoModelForQuestionAnswering.from_pretrained(\"bert-large-uncased-whole-word-masking-finetuned-squad\")"
   ]
  },
  {
   "cell_type": "code",
   "execution_count": null,
   "metadata": {},
   "outputs": [],
   "source": [
    "import torch\n",
    "\n",
    "text = r\"\"\"🤗 Transformers (formerly known as pytorch-transformers and pytorch-pretrained-bert) provides general-purpose\n",
    "architectures (BERT, GPT-2, RoBERTa, XLM, DistilBert, XLNet…) for Natural Language Understanding (NLU) and Natural\n",
    "Language Generation (NLG) with over 32+ pretrained models in 100+ languages and deep interoperability between\n",
    "TensorFlow 2.0 and PyTorch.\"\"\"\n",
    "\n",
    "question = \"How many pretrained models are available in 🤗 Transformers?\"\n",
    "\n",
    "inputs = tokenizer(question, text, add_special_tokens=True, return_tensors=\"pt\")\n",
    "input_ids = inputs[\"input_ids\"].tolist()[0]\n",
    "\n",
    "text_tokens = tokenizer.convert_ids_to_tokens(input_ids)\n",
    "outputs = model(**inputs)\n",
    "answer_start_scores = outputs.start_logits\n",
    "answer_end_scores = outputs.end_logits\n",
    "\n",
    "answer_start = torch.argmax(answer_start_scores)  # Get the most likely beginning of answer with the argmax of the score\n",
    "answer_end = torch.argmax(answer_end_scores) + 1  # Get the most likely end of answer with the argmax of the score\n",
    "\n",
    "answer = tokenizer.convert_tokens_to_string(tokenizer.convert_ids_to_tokens(input_ids[answer_start:answer_end]))\n",
    "\n",
    "print(f\"Question: {question}\")\n",
    "print(f\"Answer: {answer}\")\n",
    "\n",
    "# print(len(inputs['input_ids'][0]))\n",
    "# print(len(inputs['token_type_ids'][0]))\n",
    "# print(len(inputs['attention_mask'][0]))"
   ]
  },
  {
   "cell_type": "markdown",
   "metadata": {},
   "source": [
    "## Experiment: using BERT reader with the question from medqa and documents from ir_es retriever as evidence"
   ]
  },
  {
   "cell_type": "code",
   "execution_count": null,
   "metadata": {},
   "outputs": [],
   "source": [
    "# corpus_joined = ' '.join(list(corpus.values()))\n",
    "chlamydia_question = '''A 27-year-old male presents to urgent care complaining of pain with urination. He reports that the pain started 3 days ago. He has never experienced these symptoms before. He denies\n",
    "gross hematuria or pelvic pain. He is sexually active with his girlfriend, and they consistently use condoms. When asked about recent travel, he admits to recently returning from a\n",
    "boys’ trip” in Cancun where he had unprotected sex 1 night with a girl he met at a bar. The patients medical history includes type I diabetes that is controlled with an insulin pump.\n",
    "His mother has rheumatoid arthritis. The patients temperature is 99 F (37.2 C), blood pressure is 112/74 mmHg, and pulse is 81/min. On physical examination, there are no lesions of\n",
    "the penis or other body rashes. No costovertebral tenderness is appreciated. A urinalysis reveals no blood, glucose, ketones, or proteins but is positive for leukocyte esterase. A urine\n",
    "microscopic evaluation shows a moderate number of white blood cells but no casts or crystals. A urine culture is negative. Which of the following is the most likely cause for the\n",
    "patient’s symptoms?'''\n",
    "\n",
    "another_question = '''a 4670-g  10-lb 5-oz  male newborn is delivered at term to a 26-year-old woman after prolonged labor  apgar scores are 9 and 9 at 1 and 5 minutes  examination in the delivery room shows swelling  tenderness  and crepitus over the left clavicle  there is decreased movement of the left upper extremity  movement of the hands and wrists are normal  a grasping reflex is normal in both hands  an asymmetric moro reflex is present  the remainder of the examination shows no abnormalities and an anteroposterior x-ray confirms the diagnosis  which of the following is the most appropriate next step in management'''\n",
    "# x_text = \"Last Monday Mark started working on my thesis using BERT. So fat he was stuck on it and could not progress\"\n",
    "# x_question =  'What did Mark start on Sunday?''\n",
    "# retrieved_documents = search_documents(query_input=another_question, n=5, index_name='unprocessed')\n",
    "retrieved_documents = search_documents(query_input=x['question'], n=10, index_name='stemming-punctuation')"
   ]
  },
  {
   "cell_type": "code",
   "execution_count": null,
   "metadata": {},
   "outputs": [],
   "source": [
    "evidence = ' '.join([x['evidence']['content'] for x in retrieved_documents[:2]])"
   ]
  },
  {
   "cell_type": "code",
   "execution_count": null,
   "metadata": {},
   "outputs": [],
   "source": [
    "evidence"
   ]
  },
  {
   "cell_type": "code",
   "execution_count": null,
   "metadata": {},
   "outputs": [],
   "source": [
    "inputs = tokenizer(x['question'], evidence, \n",
    "                   add_special_tokens=True, \n",
    "                   return_tensors=\"pt\"\n",
    "                  )\n",
    "\n",
    "input_ids = inputs[\"input_ids\"].tolist()[0]\n",
    "\n",
    "# print(len(inputs['input_ids'][0]))\n",
    "# print(len(inputs['token_type_ids'][0]))\n",
    "# print(len(inputs['attention_mask'][0]))\n",
    "\n",
    "text_tokens = tokenizer.convert_ids_to_tokens(input_ids)\n",
    "outputs = model(**inputs)\n",
    "answer_start_scores = outputs.start_logits\n",
    "answer_end_scores = outputs.end_logits\n",
    "\n",
    "answer_start = torch.argmax(answer_start_scores)  # Get the most likely beginning of answer with the argmax of the score\n",
    "answer_end = torch.argmax(answer_end_scores) + 1  # Get the most likely end of answer with the argmax of the score\n",
    "\n",
    "answer = tokenizer.convert_tokens_to_string(tokenizer.convert_ids_to_tokens(input_ids[answer_start:answer_end]))\n",
    "\n",
    "print(f\"Question: {x['question']}\")\n",
    "print(f\"\\nAnswer: {answer}\")"
   ]
  },
  {
   "cell_type": "code",
   "execution_count": null,
   "metadata": {},
   "outputs": [],
   "source": [
    "def ir_es_bert(questions, no_documents_to_retrieve, index_name, metamap=False):\n",
    "    start_time = time.time()\n",
    "    for i, question_data in enumerate(questions):\n",
    "        question = question_data['question']\n",
    "        if metamap:\n",
    "            query = ' '.join(question_data['metamap_phrases'])\n",
    "        else:\n",
    "            query = question_data['question']\n",
    "        answer = question_data['answer']\n",
    "        \n",
    "        # obtain the top-N ranked passages from the large-scale document collection C\n",
    "        retrieved_documents = search_documents(\n",
    "            query_input=query,\n",
    "            n=no_documents_to_retrieve,\n",
    "            index_name=index_name\n",
    "        )\n",
    "        \n",
    "        # contatenating them into a long sequence c\n",
    "        c = \"\"\n",
    "        for document in retrieved_documents:\n",
    "            c += document['evidence']['content']\n",
    "        for option, option_answer in question_data['options'].items():\n",
    "            # then for each question and option pair qa_i = q + a_i\n",
    "            question_answer = question + \" \" + option_answer\n",
    "            print(question_answer)\n",
    "            # qa_i and c are then passed to the document reader for reasoning and decision making\n",
    "            inputs = tokenizer(question_answer, c, \n",
    "                   add_special_tokens=True, \n",
    "                   return_tensors=\"pt\"\n",
    "                  )\n",
    "\n",
    "            input_ids = inputs[\"input_ids\"].tolist()[0]\n",
    "\n",
    "            # print(len(inputs['input_ids'][0]))\n",
    "            # print(len(inputs['token_type_ids'][0]))\n",
    "            # print(len(inputs['attention_mask'][0]))\n",
    "\n",
    "            text_tokens = tokenizer.convert_ids_to_tokens(input_ids)\n",
    "            print(text_tokens)\n",
    "            outputs = model(**inputs)\n",
    "            answer_start_scores = outputs.start_logits\n",
    "            answer_end_scores = outputs.end_logits\n",
    "\n",
    "            answer_start = torch.argmax(answer_start_scores)  # Get the most likely beginning of answer with the argmax of the score\n",
    "            answer_end = torch.argmax(answer_end_scores) + 1  # Get the most likely end of answer with the argmax of the score\n",
    "\n",
    "            answer = tokenizer.convert_tokens_to_string(tokenizer.convert_ids_to_tokens(input_ids[answer_start:answer_end]))\n",
    "\n",
    "            print(f\"Question: {question}\")\n",
    "            print(f\"\\nAnswer: {answer}\")\n",
    "            \n",
    "        break"
   ]
  },
  {
   "cell_type": "code",
   "execution_count": null,
   "metadata": {},
   "outputs": [],
   "source": [
    "ir_es_bert(dev_questions_data, 2, 'stemming-punctuation', True)"
   ]
  },
  {
   "cell_type": "code",
   "execution_count": null,
   "metadata": {},
   "outputs": [],
   "source": [
    "conda install -c huggingface transformers"
   ]
  },
  {
   "cell_type": "code",
   "execution_count": null,
   "metadata": {},
   "outputs": [],
   "source": [
    "python -c \"from transformers import pipeline; print(pipeline('sentiment-analysis')('we love you'))\""
   ]
  },
  {
   "cell_type": "code",
   "execution_count": null,
   "metadata": {},
   "outputs": [],
   "source": []
  },
  {
   "cell_type": "code",
   "execution_count": null,
   "metadata": {},
   "outputs": [],
   "source": []
  },
  {
   "cell_type": "code",
   "execution_count": null,
   "metadata": {},
   "outputs": [],
   "source": []
  },
  {
   "cell_type": "code",
   "execution_count": null,
   "metadata": {},
   "outputs": [],
   "source": []
  },
  {
   "cell_type": "code",
   "execution_count": null,
   "metadata": {},
   "outputs": [],
   "source": []
  },
  {
   "cell_type": "code",
   "execution_count": null,
   "metadata": {},
   "outputs": [],
   "source": []
  },
  {
   "cell_type": "code",
   "execution_count": null,
   "metadata": {},
   "outputs": [],
   "source": []
  },
  {
   "cell_type": "markdown",
   "metadata": {},
   "source": [
    "# ElasticSearch usage"
   ]
  },
  {
   "cell_type": "markdown",
   "metadata": {},
   "source": [
    "## Creating a document"
   ]
  },
  {
   "cell_type": "code",
   "execution_count": null,
   "metadata": {},
   "outputs": [],
   "source": [
    "from datetime import datetime\n",
    "from elasticsearch import Elasticsearch\n",
    "es = Elasticsearch()\n",
    "\n",
    "doc = {\n",
    "    'author': 'author_name',\n",
    "    'text': 'Interensting content...',\n",
    "    'title': 'Test Title',\n",
    "    'timestamp': datetime.now(),\n",
    "}\n",
    "res = es.index(index=\"test-index\", id=1, body=doc)\n",
    "print(res['result'])"
   ]
  },
  {
   "cell_type": "markdown",
   "metadata": {},
   "source": [
    "## Getting a document"
   ]
  },
  {
   "cell_type": "code",
   "execution_count": null,
   "metadata": {},
   "outputs": [],
   "source": [
    "res = es.get(index=\"test-index\", id=1)\n",
    "print(res['_source'])"
   ]
  },
  {
   "cell_type": "markdown",
   "metadata": {},
   "source": [
    "## Refreshing index"
   ]
  },
  {
   "cell_type": "code",
   "execution_count": null,
   "metadata": {},
   "outputs": [],
   "source": [
    "es.indices.refresh(index=\"unprocessed\")"
   ]
  },
  {
   "cell_type": "markdown",
   "metadata": {},
   "source": [
    "## Searching for a document"
   ]
  },
  {
   "cell_type": "code",
   "execution_count": null,
   "metadata": {},
   "outputs": [],
   "source": [
    "res = es.search(index=\"test-index\", body={\"query\": {\"match_all\": {}}})\n",
    "print(\"Got %d Hits:\" % res['hits']['total']['value'])\n",
    "for hit in res['hits']['hits']:\n",
    "    print(\"%(timestamp)s %(author)s: %(text)s\" % hit[\"_source\"])"
   ]
  },
  {
   "cell_type": "markdown",
   "metadata": {},
   "source": [
    "## Deleting a document/index"
   ]
  },
  {
   "cell_type": "code",
   "execution_count": 69,
   "metadata": {},
   "outputs": [
    {
     "data": {
      "text/plain": [
       "{'acknowledged': True}"
      ]
     },
     "execution_count": 69,
     "metadata": {},
     "output_type": "execute_result"
    }
   ],
   "source": [
    "from datetime import datetime\n",
    "from elasticsearch import Elasticsearch\n",
    "es = Elasticsearch()\n",
    "\n",
    "# delete document\n",
    "# es.delete(index=\"test-index\", id=1)\n",
    "# delete index\n",
    "es.indices.delete(index=Indexes.MedQA_stemmed_chunks.value)"
   ]
  },
  {
   "cell_type": "code",
   "execution_count": null,
   "metadata": {},
   "outputs": [],
   "source": [
    "# curl \"localhost:9200/_cat/indices?v=true\"\n",
    "# curl -X GET \"localhost:9200/_cat/health?v=true&pretty\"\n",
    "# curl -X GET \"localhost:9200/sentences-stemmed/_settings\"\n"
   ]
  },
  {
   "cell_type": "code",
   "execution_count": null,
   "metadata": {},
   "outputs": [],
   "source": []
  }
 ],
 "metadata": {
  "kernelspec": {
   "display_name": "Python 3",
   "language": "python",
   "name": "python3"
  },
  "language_info": {
   "codemirror_mode": {
    "name": "ipython",
    "version": 3
   },
   "file_extension": ".py",
   "mimetype": "text/x-python",
   "name": "python",
   "nbconvert_exporter": "python",
   "pygments_lexer": "ipython3",
   "version": "3.8.3"
  }
 },
 "nbformat": 4,
 "nbformat_minor": 4
}
