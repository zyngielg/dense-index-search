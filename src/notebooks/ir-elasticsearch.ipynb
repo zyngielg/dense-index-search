{
 "cells": [
  {
   "cell_type": "code",
   "execution_count": 1,
   "metadata": {},
   "outputs": [
    {
     "name": "stderr",
     "output_type": "stream",
     "text": [
      "[nltk_data] Downloading package punkt to /home/gustaw/nltk_data...\n",
      "[nltk_data]   Package punkt is already up-to-date!\n",
      "[nltk_data] Downloading package stopwords to /home/gustaw/nltk_data...\n",
      "[nltk_data]   Package stopwords is already up-to-date!\n"
     ]
    },
    {
     "data": {
      "text/plain": [
       "True"
      ]
     },
     "execution_count": 1,
     "metadata": {},
     "output_type": "execute_result"
    }
   ],
   "source": [
    "import os\n",
    "import json\n",
    "import nltk \n",
    "import numpy as np\n",
    "import string\n",
    "import time\n",
    "\n",
    "from IPython.display import clear_output\n",
    "from nltk.corpus import stopwords \n",
    "# reason for using snowball: https://stackoverflow.com/questions/10554052/what-are-the-major-differences-and-benefits-of-porter-and-lancaster-stemming-alg\n",
    "from nltk.stem.snowball import SnowballStemmer\n",
    "from nltk.tokenize import word_tokenize\n",
    "from tqdm import tqdm\n",
    "\n",
    "nltk.download('punkt')\n",
    "nltk.download('stopwords')"
   ]
  },
  {
   "cell_type": "code",
   "execution_count": 2,
   "metadata": {},
   "outputs": [],
   "source": [
    "questions_data_path = '../../data/medqa/questions/US_qbank.jsonl'\n",
    "dev_questions_data_path = '../../data/medqa/questions/dev.jsonl'\n",
    "textbooks_data_dir = '../../data/medqa/textbooks/'\n",
    "\n",
    "questions_dev_medqa_path = '../../data/medqa/questions/metamap_extracted_phrases/dev.jsonl'\n",
    "questions_train_medqa_path ='../../data/medqa/questions/metamap_extracted_phrases/train.jsonl'\n",
    "questions_test_medqa_path ='../../data/medqa/questions/metamap_extracted_phrases/train.jsonl'"
   ]
  },
  {
   "cell_type": "code",
   "execution_count": 24,
   "metadata": {},
   "outputs": [],
   "source": [
    "# all_questions_data = []\n",
    "# with open(questions_data_path, 'r') as file:\n",
    "#     for line in file:\n",
    "#         all_questions_data.append(json.loads(line))\n",
    "        \n",
    "# dev_questions_data = []\n",
    "# with open(questions_dev_metqa_path, 'r') as file:\n",
    "#     for line in file:\n",
    "#         dev_questions_data.append(json.loads(line))\n",
    "\n",
    "questions_metamap_data = []\n",
    "\n",
    "with open(questions_dev_medqa_path, 'r') as file:\n",
    "    for line in file:\n",
    "        questions_metamap_data.append(json.loads(line))\n",
    "\n",
    "with open(questions_train_medqa_path, 'r') as file:\n",
    "    for line in file:\n",
    "        questions_metamap_data.append(json.loads(line))\n",
    "        \n",
    "with open(questions_test_medqa_path, 'r') as file:\n",
    "    for line in file:\n",
    "        questions_metamap_data.append(json.loads(line))    \n",
    "\n",
    "corpus = {}\n",
    "for textbook_name in os.listdir(textbooks_data_dir):\n",
    "    textbook_path = textbooks_data_dir + '/' + textbook_name\n",
    "    with open(textbook_path, 'r') as textbook_file:\n",
    "        textbook_content = textbook_file.read()\n",
    "        corpus[textbook_name] = textbook_content"
   ]
  },
  {
   "cell_type": "code",
   "execution_count": 25,
   "metadata": {},
   "outputs": [],
   "source": [
    "stop_words = stopwords.words('english')\n",
    "snowball_stemmer = SnowballStemmer(language='english') \n",
    "# do not remove the '-' and '/'\n",
    "custom_string_punctuation = string.punctuation.replace('-','').replace('/','').replace('.','')\n",
    "punctuation = str.maketrans('', '', custom_string_punctuation)"
   ]
  },
  {
   "cell_type": "code",
   "execution_count": 5,
   "metadata": {},
   "outputs": [],
   "source": [
    "def preprocess_content(content, remove_stopwords, stemming, remove_punctuation):\n",
    "    if not remove_stopwords and not stemming and not remove_punctuation:\n",
    "        return content.lower()\n",
    "    if remove_punctuation:\n",
    "        content = content.translate(punctuation).replace('“','').replace('’','')\n",
    "    \n",
    "    sentences = nltk.sent_tokenize(content.lower())\n",
    "    cleaned_sentences = []\n",
    "    \n",
    "    for sentence in sentences:\n",
    "        tokens = word_tokenize(sentence.lower())\n",
    "        if remove_stopwords:\n",
    "            tokens = [x for x in tokens if x not in stop_words]\n",
    "        if stemming:\n",
    "            tokens = [snowball_stemmer.stem(x) for x in tokens]\n",
    "        cleaned_sentences.append(' '.join(tokens))\n",
    "            \n",
    "    return ' '.join(sentences)\n",
    "\n",
    "def preprocess_corpus(corpus, remove_stopwords, stemming, remove_punctuation):\n",
    "    for name, content in tqdm(corpus.items()):\n",
    "        # TODO: removal of non-medical terms using MetaMap\n",
    "        corpus[name] = preprocess_content(content, remove_stopwords, stemming, remove_punctuation)\n",
    "        \n",
    "        \n",
    "def preprocess_questions(questions, remove_stopwords, stemming, remove_punctuation, metamap=False):    \n",
    "    for question in tqdm(questions):\n",
    "        question['question'] = preprocess_content(question['question'], remove_stopwords, stemming, remove_punctuation)\n",
    "        for option, value in question['options'].items():\n",
    "            question['options'][option] = preprocess_content(value, remove_stopwords, stemming, remove_punctuation)\n",
    "        if metamap:\n",
    "            question['answer'] = preprocess_content(question['answer'], remove_stopwords, stemming, remove_punctuation)\n",
    "            for i, phrase in enumerate(question['metamap_phrases']):\n",
    "                question['metamap_phrases'][i] = preprocess_content(phrase, remove_stopwords, stemming, remove_punctuation)"
   ]
  },
  {
   "cell_type": "code",
   "execution_count": 6,
   "metadata": {},
   "outputs": [],
   "source": [
    "# def preprocess_content(content, remove_stopwords, stemming, remove_punctuation):\n",
    "#     # lowercase and create tokens\n",
    "#     tokens = word_tokenize(content.lower())\n",
    "#     if remove_stopwords:\n",
    "#         tokens = [x for x in tokens if x not in stop_words]\n",
    "#     if stemming:\n",
    "#         tokens = [snowball_stemmer.stem(x) for x in tokens]\n",
    "#     result = ' '.join(tokens)\n",
    "#     if remove_punctuation:\n",
    "#         result = result.translate(punctuation).replace('“','').replace('’','')\n",
    "#     return result\n",
    "\n",
    "# def preprocess_corpus(corpus, remove_stopwords, stemming, remove_punctuation):\n",
    "#     for name, content in tqdm(corpus.items()):\n",
    "#         # TODO: removal of non-medical terms using MetaMap\n",
    "#         corpus[name] = preprocess_content(content, remove_stopwords, stemming, remove_punctuation)\n",
    "        \n",
    "        \n",
    "# def preprocess_questions(questions, remove_stopwords, stemming, remove_punctuation, metamap=False):    \n",
    "#     for question in tqdm(questions):\n",
    "#         question['question'] = preprocess_content(question['question'], remove_stopwords, stemming, remove_punctuation)\n",
    "#         for option, value in question['options'].items():\n",
    "#             question['options'][option] = preprocess_content(value, remove_stopwords, stemming, remove_punctuation)\n",
    "#         if metamap:\n",
    "#             question['answer'] = preprocess_content(question['answer'], remove_stopwords, stemming, remove_punctuation)\n",
    "#             for i, phrase in enumerate(question['metamap_phrases']):\n",
    "#                 question['metamap_phrases'][i] = preprocess_content(phrase, remove_stopwords, stemming, remove_punctuation)"
   ]
  },
  {
   "cell_type": "code",
   "execution_count": 7,
   "metadata": {},
   "outputs": [],
   "source": [
    "def preprocess_data(remove_stopwords, stemming, remove_punctuation, metamap):\n",
    "    preprocess_corpus(\n",
    "        corpus=corpus,\n",
    "        remove_stopwords=remove_stopwords,\n",
    "        stemming=stemming,\n",
    "        remove_punctuation=remove_punctuation\n",
    "    )\n",
    "    preprocess_questions(\n",
    "        questions=questions_metamap_data,\n",
    "        remove_stopwords=remove_stopwords,\n",
    "        stemming=stemming,\n",
    "        remove_punctuation=remove_punctuation,\n",
    "        metamap=metamap\n",
    "    )"
   ]
  },
  {
   "cell_type": "code",
   "execution_count": 26,
   "metadata": {},
   "outputs": [
    {
     "name": "stderr",
     "output_type": "stream",
     "text": [
      "100%|██████████| 18/18 [00:00<00:00, 32.77it/s]\n"
     ]
    }
   ],
   "source": [
    "preprocess_corpus(\n",
    "        corpus=corpus,\n",
    "        remove_stopwords=False,\n",
    "        stemming=False,\n",
    "        remove_punctuation=False\n",
    "    )"
   ]
  },
  {
   "cell_type": "code",
   "execution_count": 8,
   "metadata": {},
   "outputs": [
    {
     "name": "stderr",
     "output_type": "stream",
     "text": [
      "100%|██████████| 18/18 [03:49<00:00, 12.78s/it]\n",
      "100%|██████████| 21628/21628 [02:17<00:00, 157.06it/s]\n"
     ]
    }
   ],
   "source": [
    "preprocess_data(\n",
    "    remove_stopwords=False, \n",
    "    stemming=False,\n",
    "    remove_punctuation=False, \n",
    "    metamap=True\n",
    ")"
   ]
  },
  {
   "cell_type": "code",
   "execution_count": 9,
   "metadata": {},
   "outputs": [],
   "source": [
    "def create_corpus_chunks(chunk_length):\n",
    "    corpus_chunks = []\n",
    "    document_counter = 1\n",
    "    for title, content in corpus.items():\n",
    "\n",
    "        content_tokens = word_tokenize(content)\n",
    "\n",
    "        counter = 0\n",
    "        for i in range(0, len(content_tokens), chunk_length):\n",
    "            chunk_name = title + str(counter)\n",
    "            entry = {\n",
    "                'name': chunk_name,\n",
    "                'content': ' '.join(content_tokens[i:i+chunk_length])\n",
    "            }\n",
    "            corpus_chunks.append(entry)\n",
    "            counter += 1\n",
    "\n",
    "        clear_output(wait=True)\n",
    "        print(f'Document {title} split in chunks ({document_counter}/{len(corpus.keys())})')\n",
    "        document_counter += 1\n",
    "    \n",
    "    return corpus_chunks"
   ]
  },
  {
   "cell_type": "code",
   "execution_count": 18,
   "metadata": {},
   "outputs": [
    {
     "name": "stdout",
     "output_type": "stream",
     "text": [
      "Document Psichiatry_DSM-5.txt split in chunks (18/18)\n"
     ]
    }
   ],
   "source": [
    "chunk_length = 100\n",
    "corpus_chunks = create_corpus_chunks(chunk_length)"
   ]
  },
  {
   "cell_type": "code",
   "execution_count": 10,
   "metadata": {},
   "outputs": [],
   "source": [
    "def create_corpus_sentences():\n",
    "    corpus_sentences = []\n",
    "    for title, content in tqdm(corpus.items()):\n",
    "        content_sentences = (nltk.sent_tokenize(content))\n",
    "        sentence_counter = 0\n",
    "        for sentence in content_sentences:\n",
    "            corpus_sentences.append({\n",
    "                'name': title + str(sentence_counter),\n",
    "                'content': sentence\n",
    "            })\n",
    "    return corpus_sentences"
   ]
  },
  {
   "cell_type": "code",
   "execution_count": 27,
   "metadata": {},
   "outputs": [
    {
     "name": "stderr",
     "output_type": "stream",
     "text": [
      "100%|██████████| 18/18 [00:21<00:00,  1.21s/it]\n"
     ]
    }
   ],
   "source": [
    "corpus_sentences = create_corpus_sentences()"
   ]
  },
  {
   "cell_type": "code",
   "execution_count": 12,
   "metadata": {},
   "outputs": [],
   "source": [
    "from datetime import datetime\n",
    "from elasticsearch import Elasticsearch\n",
    "es = Elasticsearch()\n",
    "\n",
    "def upload_documents(documents, index_name):\n",
    "    create_index_body = \"\"\"{\n",
    "        \"settings\": {\n",
    "            \"index\": {\n",
    "                \"similarity\": {\n",
    "                    \"default\": {\n",
    "                        \"type\": \"BM25\"\n",
    "                    }\n",
    "                }\n",
    "            }\n",
    "        }\n",
    "    }\"\"\"\n",
    "\n",
    "    es.indices.create(index=index_name, body=create_index_body)\n",
    "\n",
    "    id_counter = 1\n",
    "    for document in tqdm(documents):\n",
    "        res = es.index(index=index_name, id=id_counter, body=document)\n",
    "        id_counter += 1"
   ]
  },
  {
   "cell_type": "code",
   "execution_count": 29,
   "metadata": {},
   "outputs": [],
   "source": [
    "from enum import Enum\n",
    "\n",
    "class Indexes(Enum):\n",
    "    Unprocessed_chunks_100 = \"unprocessed-chunks-100\",\n",
    "    Unprocessed_sentences = \"sentences-unprocessed-shards-1\",\n",
    "    Stemmed_sentences = \"sentences-stemmed-shards-1\"\n",
    "    #stemming-punctuation"
   ]
  },
  {
   "cell_type": "code",
   "execution_count": 22,
   "metadata": {},
   "outputs": [
    {
     "name": "stderr",
     "output_type": "stream",
     "text": [
      "100%|██████████| 657129/657129 [59:29<00:00, 184.08it/s] \n"
     ]
    }
   ],
   "source": [
    "upload_documents(corpus_sentences, Indexes.Stemmed_sentences.value)"
   ]
  },
  {
   "cell_type": "code",
   "execution_count": 30,
   "metadata": {},
   "outputs": [
    {
     "name": "stderr",
     "output_type": "stream",
     "text": [
      "100%|██████████| 657141/657141 [56:00<00:00, 195.56it/s]  \n"
     ]
    }
   ],
   "source": [
    "upload_documents(corpus_sentences, Indexes.Unprocessed_sentences.value)"
   ]
  },
  {
   "cell_type": "code",
   "execution_count": 30,
   "metadata": {},
   "outputs": [],
   "source": [
    "def search_documents(query_input, n, index_name):\n",
    "    res = es.search(\n",
    "        index=index_name, \n",
    "        body={\n",
    "            \"query\": {\n",
    "                \"match\": {\n",
    "                    \"content\": query_input\n",
    "                }\n",
    "            },\n",
    "            \"from\": 0,\n",
    "            \"size\": n\n",
    "        }\n",
    "    )\n",
    "    \n",
    "    number_of_hits = len(res['hits']['hits'])\n",
    "    \n",
    "    results = []\n",
    "    for i in range(number_of_hits):\n",
    "        score = res['hits']['hits'][i]['_score']\n",
    "        paragraph = res['hits']['hits'][i]['_source']\n",
    "        result = {\n",
    "            \"score\": score,\n",
    "            \"evidence\": paragraph\n",
    "        }\n",
    "        results.append(result)\n",
    "        \n",
    "    return results"
   ]
  },
  {
   "cell_type": "code",
   "execution_count": 31,
   "metadata": {},
   "outputs": [],
   "source": [
    "def ir_es(questions, no_documents_to_retrieve, index_name, metamap=False, all_questions_bank=False):\n",
    "    start_time = time.time()\n",
    "\n",
    "    correct_answer = 0\n",
    "    incorrect_answer = 0\n",
    "\n",
    "    for question_data in tqdm(questions):\n",
    "        question = question_data['question']\n",
    "        # for all_questions, the answer is the letter\n",
    "        \n",
    "        if all_questions_bank:\n",
    "            answer = question_data['options'][question_data['answer']]\n",
    "        else:\n",
    "            answer = question_data['answer']\n",
    "\n",
    "        final_answer = None\n",
    "        final_score = 0\n",
    "\n",
    "        for option, option_answer in question_data['options'].items():\n",
    "            if metamap:\n",
    "                query = ' '.join(question_data['metamap_phrases']) + \" \" + option_answer\n",
    "            else:\n",
    "                query = question + \" \" + option_answer\n",
    "            top_documents = search_documents(query, no_documents_to_retrieve, index_name)\n",
    "            if top_documents != []:\n",
    "                score = 0\n",
    "                for doc in top_documents:\n",
    "                    score += doc['score']\n",
    "\n",
    "                if final_score < score:\n",
    "                    final_answer = option_answer\n",
    "                    final_score = score\n",
    "\n",
    "        correct = False\n",
    "        if final_answer == answer:\n",
    "            correct_answer += 1\n",
    "            correct = True\n",
    "        else:\n",
    "            incorrect_answer += 1\n",
    "\n",
    "\n",
    "    print(f'Accuracy: {100 * correct_answer / (correct_answer + incorrect_answer)}%')\n",
    "    print(f'\\tCorrect answers: {correct_answer}')\n",
    "    print(f'\\tInorrect answers: {incorrect_answer}')"
   ]
  },
  {
   "cell_type": "code",
   "execution_count": 105,
   "metadata": {},
   "outputs": [],
   "source": [
    "x  = {'question': 'a 27-year-old male presents to urgent care complaining of pain with urination  he reports that the pain started 3 days ago  he has never experienced these symptoms before  he denies gross hematuria or pelvic pain  he is sexually active with his girlfriend  and they consistently use condoms  when asked about recent travel  he admits to recently returning from a  boys  trip  in cancun where he had unprotected sex 1 night with a girl he met at a bar  the patient  s medical history includes type i diabetes that is controlled with an insulin pump  his mother has rheumatoid arthritis  the patient  s temperature is 99°f  372°c   blood pressure is 112/74 mmhg  and pulse is 81/min  on physical examination  there are no lesions of the penis or other body rashes  no costovertebral tenderness is appreciated  a urinalysis reveals no blood  glucose  ketones  or proteins but is positive for leukocyte esterase  a urine microscopic evaluation shows a moderate number of white blood cells but no casts or crystals  a urine culture is negative  which of the following is the most likely cause for the patient  s symptoms ',\n",
    "  'answer': 'A',\n",
    "  'options': {'A': 'chlamydia trachomatis',\n",
    "   'B': 'herpes simplex virus',\n",
    "   'C': 'mycobacterium tuberculosis',\n",
    "   'D': 'systemic lupus erythematosus',\n",
    "   'E': 'treponema pallidum'},\n",
    "  'meta_info': 'step1'}"
   ]
  },
  {
   "cell_type": "code",
   "execution_count": 32,
   "metadata": {},
   "outputs": [],
   "source": [
    "# ir_es([x], 5, 'unprocessed')\n",
    "def run_ir_es(questions, used_index, num_of_documents, metamap=False):\n",
    "    print(f'Used index: {used_index}\\nNumber of retrieved documents: {num_of_documents}\\nUsing metamap phrases: {metamap}')\n",
    "    ir_es(questions, num_of_documents, used_index, metamap)"
   ]
  },
  {
   "cell_type": "code",
   "execution_count": 35,
   "metadata": {},
   "outputs": [
    {
     "name": "stderr",
     "output_type": "stream",
     "text": [
      "\r",
      "  0%|          | 0/21628 [00:00<?, ?it/s]"
     ]
    },
    {
     "name": "stdout",
     "output_type": "stream",
     "text": [
      "Used index: sentences-stemmed\n",
      "Number of retrieved documents: 10\n",
      "Using metamap phrases: True\n"
     ]
    },
    {
     "name": "stderr",
     "output_type": "stream",
     "text": [
      "100%|██████████| 21628/21628 [43:41<00:00,  8.25it/s] "
     ]
    },
    {
     "name": "stdout",
     "output_type": "stream",
     "text": [
      "Accuracy: 23.686887368226373%\n",
      "\tCorrect answers: 5123\n",
      "\tInorrect answers: 16505\n"
     ]
    },
    {
     "name": "stderr",
     "output_type": "stream",
     "text": [
      "\n"
     ]
    }
   ],
   "source": [
    "run_ir_es(questions=questions_metamap_data,\n",
    "          used_index=Indexes.Stemmed_sentences.value,\n",
    "          num_of_documents=10,\n",
    "          metamap=True\n",
    "         )"
   ]
  },
  {
   "cell_type": "code",
   "execution_count": 60,
   "metadata": {},
   "outputs": [
    {
     "data": {
      "text/plain": [
       "FreqDist({('one',): 2, ('two',): 2, ('scy',): 1, ('blue',): 1, ('babaloo',): 1})"
      ]
     },
     "execution_count": 60,
     "metadata": {},
     "output_type": "execute_result"
    }
   ],
   "source": [
    "from nltk import ngrams, FreqDist\n",
    "\n",
    "grams = ngrams('one two scy blue one two babaloo'.split(), 1)\n",
    "freq = [{key:value for nltk.FreqDist(grams)]\n",
    "freq"
   ]
  },
  {
   "cell_type": "code",
   "execution_count": 66,
   "metadata": {},
   "outputs": [],
   "source": [
    "x = freq.get(('lol',))"
   ]
  },
  {
   "cell_type": "code",
   "execution_count": null,
   "metadata": {},
   "outputs": [],
   "source": [
    "from nltk import ngrams, FreqDist\n",
    "\n",
    "corpus_unigrams = ngrams(corpus_joined.split(), 1)\n",
    "corpus_unigrams_freq = nltk.FreqDist(corpus_unigrams)\n",
    "def calculate_score(bm25_score, query):\n",
    "    query_unigrams = ngrams(query.split(), 1)\n",
    "    \n",
    "    for unigram in query_unigrams:\n",
    "        \n",
    "    \n",
    "    query_unigrams_freq = FreqDist(query_unigrams)"
   ]
  },
  {
   "cell_type": "code",
   "execution_count": null,
   "metadata": {},
   "outputs": [],
   "source": []
  },
  {
   "cell_type": "code",
   "execution_count": null,
   "metadata": {},
   "outputs": [],
   "source": []
  },
  {
   "cell_type": "code",
   "execution_count": null,
   "metadata": {},
   "outputs": [],
   "source": []
  },
  {
   "cell_type": "code",
   "execution_count": 31,
   "metadata": {},
   "outputs": [],
   "source": [
    "dev_questions = []\n",
    "\n",
    "with open(questions_dev_medqa_path, 'r') as file:\n",
    "    for line in file:\n",
    "        dev_questions.append(json.loads(line))"
   ]
  },
  {
   "cell_type": "code",
   "execution_count": 32,
   "metadata": {},
   "outputs": [
    {
     "data": {
      "text/plain": [
       "{'question': 'A 21-year-old sexually active male complains of fever, pain during urination, and inflammation and pain in the right knee. A culture of the joint fluid shows a bacteria that does not ferment maltose and has no polysaccharide capsule. The physician orders antibiotic therapy for the patient. The mechanism of action of action of the medication given blocks cell wall synthesis, which of the following was given?',\n",
       " 'answer': 'Ceftriaxone',\n",
       " 'options': {'A': 'Chloramphenicol',\n",
       "  'B': 'Gentamicin',\n",
       "  'C': 'Ciprofloxacin',\n",
       "  'D': 'Ceftriaxone',\n",
       "  'E': 'Trimethoprim'},\n",
       " 'meta_info': 'step1',\n",
       " 'answer_idx': 'D',\n",
       " 'metamap_phrases': ['21-year-old sexually active male',\n",
       "  'fever',\n",
       "  'pain',\n",
       "  'urination',\n",
       "  'inflammation',\n",
       "  'pain in the right knee',\n",
       "  'culture',\n",
       "  'joint',\n",
       "  'bacteria',\n",
       "  'not ferment maltose',\n",
       "  'polysaccharide capsule',\n",
       "  'physician orders antibiotic therapy',\n",
       "  'patient',\n",
       "  'mechanism of action',\n",
       "  'medication given blocks cell wall synthesis',\n",
       "  'following',\n",
       "  'given']}"
      ]
     },
     "execution_count": 32,
     "metadata": {},
     "output_type": "execute_result"
    }
   ],
   "source": [
    "dev_questions[0]"
   ]
  },
  {
   "cell_type": "code",
   "execution_count": 38,
   "metadata": {},
   "outputs": [],
   "source": [
    "import copy\n",
    "\n",
    "x = copy.deepcopy(dev_questions)"
   ]
  },
  {
   "cell_type": "code",
   "execution_count": 39,
   "metadata": {},
   "outputs": [],
   "source": [
    "x[1]['question'] = 'lol'"
   ]
  },
  {
   "cell_type": "code",
   "execution_count": 41,
   "metadata": {},
   "outputs": [
    {
     "data": {
      "text/plain": [
       "'lol'"
      ]
     },
     "execution_count": 41,
     "metadata": {},
     "output_type": "execute_result"
    }
   ],
   "source": [
    "dev_questions[0]['question']"
   ]
  },
  {
   "cell_type": "code",
   "execution_count": 45,
   "metadata": {},
   "outputs": [],
   "source": [
    "\n",
    "\n",
    "\n",
    "    "
   ]
  },
  {
   "cell_type": "code",
   "execution_count": 46,
   "metadata": {},
   "outputs": [
    {
     "name": "stderr",
     "output_type": "stream",
     "text": [
      "100%|██████████| 15/15 [00:00<00:00, 151.98it/s]\n"
     ]
    }
   ],
   "source": [
    "snowball_stemmer = SnowballStemmer(language='english') \n",
    "stem_questions(x[:15], snowball_stemmer)"
   ]
  },
  {
   "cell_type": "code",
   "execution_count": 49,
   "metadata": {},
   "outputs": [
    {
     "data": {
      "text/plain": [
       "{'question': 'a 41-year-old woman present to her primari care physician with complaint of fatigu and weak . she deni ani person histori of blood clot or bleed problem in her past , but she say that her mother has had to be treat for breast cancer recent and is start to wear her down . her past medic histori is signific for preeclampsia , hypertens , polycyst ovarian syndrom , and hypercholesterolemia . she current smoke 1 pack of cigarett per day , drink a glass of wine per day , and current deni ani illicit drug use . her vital sign includ : temperatur , 36.7°c ( 98.0°f ) ; blood pressur , 126/74 mm hg ; heart rate , 111/min ; and respiratori , rate 23/min . on physic examin , her puls are bound and irregular , complexion is pale , but breath sound remain clear . on examin , the physician find diffus skin pallor and order a complet blood count . her laboratori data demonstr a hematocrit of 27.1 % , mcv of 79 fl , and a reticulocyt count of 2.0 % . the patient is diagnos with anemia . which of the follow repres the most like etiolog of her anemia .',\n",
       " 'answer': 'iron defici',\n",
       " 'options': {'A': 'vitamin b12 defici',\n",
       "  'B': 'folat defici',\n",
       "  'C': 'iron defici',\n",
       "  'D': 'infiltr bone marrow process',\n",
       "  'E': 'intravascular hemolysi'},\n",
       " 'meta_info': 'step2&3',\n",
       " 'answer_idx': 'C',\n",
       " 'metamap_phrases': ['year old woman present',\n",
       "  'primari care physician',\n",
       "  'complaint',\n",
       "  'fatigu',\n",
       "  'weak',\n",
       "  'person histori',\n",
       "  'blood clot',\n",
       "  'bleed problem',\n",
       "  'past',\n",
       "  'to',\n",
       "  'treat',\n",
       "  'breast cancer recent',\n",
       "  'start to',\n",
       "  'past medic histori',\n",
       "  'signific',\n",
       "  'preeclampsia',\n",
       "  'hypertens',\n",
       "  'polycyst ovarian syndrom',\n",
       "  'hypercholesterolemia',\n",
       "  'current smoke 1 pack',\n",
       "  'cigarett',\n",
       "  'day',\n",
       "  'glass',\n",
       "  'day',\n",
       "  'current',\n",
       "  'illicit drug use',\n",
       "  'vital sign includ',\n",
       "  'temperatur',\n",
       "  '36',\n",
       "  '98',\n",
       "  'blood pressur',\n",
       "  '74 mm hg',\n",
       "  'heart rate',\n",
       "  'min',\n",
       "  'respiratori',\n",
       "  'rate 23 min',\n",
       "  'puls',\n",
       "  'bound',\n",
       "  'irregular',\n",
       "  'complexion',\n",
       "  'pale',\n",
       "  'breath sound',\n",
       "  'clear',\n",
       "  'physician find diffus skin pallor',\n",
       "  'order',\n",
       "  'complet blood count',\n",
       "  'laboratori data',\n",
       "  'hematocrit',\n",
       "  '27',\n",
       "  'mcv',\n",
       "  'fl',\n",
       "  'reticulocyt count',\n",
       "  '2.0',\n",
       "  'patient',\n",
       "  'diagnos',\n",
       "  'anemia',\n",
       "  'follow',\n",
       "  'etiolog',\n",
       "  'anemia']}"
      ]
     },
     "execution_count": 49,
     "metadata": {},
     "output_type": "execute_result"
    }
   ],
   "source": [
    "x[5]"
   ]
  },
  {
   "cell_type": "code",
   "execution_count": null,
   "metadata": {},
   "outputs": [],
   "source": []
  },
  {
   "cell_type": "code",
   "execution_count": null,
   "metadata": {},
   "outputs": [],
   "source": []
  },
  {
   "cell_type": "code",
   "execution_count": null,
   "metadata": {},
   "outputs": [],
   "source": []
  },
  {
   "cell_type": "code",
   "execution_count": null,
   "metadata": {},
   "outputs": [],
   "source": []
  },
  {
   "cell_type": "code",
   "execution_count": null,
   "metadata": {},
   "outputs": [],
   "source": []
  },
  {
   "cell_type": "code",
   "execution_count": null,
   "metadata": {},
   "outputs": [],
   "source": []
  },
  {
   "cell_type": "code",
   "execution_count": null,
   "metadata": {},
   "outputs": [],
   "source": []
  },
  {
   "cell_type": "code",
   "execution_count": null,
   "metadata": {},
   "outputs": [],
   "source": []
  },
  {
   "cell_type": "code",
   "execution_count": 114,
   "metadata": {},
   "outputs": [],
   "source": [
    "from transformers import AutoTokenizer, AutoModelForQuestionAnswering\n",
    "\n",
    "# tokenizer = AutoTokenizer.from_pretrained(\"bert-base-uncased\")\n",
    "# model = AutoModelForQuestionAnswering.from_pretrained(\"bert-base-uncased\")\n",
    "\n",
    "tokenizer = AutoTokenizer.from_pretrained(\"bert-large-uncased-whole-word-masking-finetuned-squad\")\n",
    "model = AutoModelForQuestionAnswering.from_pretrained(\"bert-large-uncased-whole-word-masking-finetuned-squad\")"
   ]
  },
  {
   "cell_type": "code",
   "execution_count": 115,
   "metadata": {},
   "outputs": [
    {
     "name": "stdout",
     "output_type": "stream",
     "text": [
      "Question: How many pretrained models are available in 🤗 Transformers?\n",
      "Answer: over 32 +\n"
     ]
    }
   ],
   "source": [
    "import torch\n",
    "\n",
    "text = r\"\"\"🤗 Transformers (formerly known as pytorch-transformers and pytorch-pretrained-bert) provides general-purpose\n",
    "architectures (BERT, GPT-2, RoBERTa, XLM, DistilBert, XLNet…) for Natural Language Understanding (NLU) and Natural\n",
    "Language Generation (NLG) with over 32+ pretrained models in 100+ languages and deep interoperability between\n",
    "TensorFlow 2.0 and PyTorch.\"\"\"\n",
    "\n",
    "question = \"How many pretrained models are available in 🤗 Transformers?\"\n",
    "\n",
    "inputs = tokenizer(question, text, add_special_tokens=True, return_tensors=\"pt\")\n",
    "input_ids = inputs[\"input_ids\"].tolist()[0]\n",
    "\n",
    "text_tokens = tokenizer.convert_ids_to_tokens(input_ids)\n",
    "outputs = model(**inputs)\n",
    "answer_start_scores = outputs.start_logits\n",
    "answer_end_scores = outputs.end_logits\n",
    "\n",
    "answer_start = torch.argmax(answer_start_scores)  # Get the most likely beginning of answer with the argmax of the score\n",
    "answer_end = torch.argmax(answer_end_scores) + 1  # Get the most likely end of answer with the argmax of the score\n",
    "\n",
    "answer = tokenizer.convert_tokens_to_string(tokenizer.convert_ids_to_tokens(input_ids[answer_start:answer_end]))\n",
    "\n",
    "print(f\"Question: {question}\")\n",
    "print(f\"Answer: {answer}\")\n",
    "\n",
    "# print(len(inputs['input_ids'][0]))\n",
    "# print(len(inputs['token_type_ids'][0]))\n",
    "# print(len(inputs['attention_mask'][0]))"
   ]
  },
  {
   "cell_type": "markdown",
   "metadata": {},
   "source": [
    "## Experiment: using BERT reader with the question from medqa and documents from ir_es retriever as evidence"
   ]
  },
  {
   "cell_type": "code",
   "execution_count": 116,
   "metadata": {},
   "outputs": [],
   "source": [
    "# corpus_joined = ' '.join(list(corpus.values()))\n",
    "chlamydia_question = '''A 27-year-old male presents to urgent care complaining of pain with urination. He reports that the pain started 3 days ago. He has never experienced these symptoms before. He denies\n",
    "gross hematuria or pelvic pain. He is sexually active with his girlfriend, and they consistently use condoms. When asked about recent travel, he admits to recently returning from a\n",
    "boys’ trip” in Cancun where he had unprotected sex 1 night with a girl he met at a bar. The patients medical history includes type I diabetes that is controlled with an insulin pump.\n",
    "His mother has rheumatoid arthritis. The patients temperature is 99 F (37.2 C), blood pressure is 112/74 mmHg, and pulse is 81/min. On physical examination, there are no lesions of\n",
    "the penis or other body rashes. No costovertebral tenderness is appreciated. A urinalysis reveals no blood, glucose, ketones, or proteins but is positive for leukocyte esterase. A urine\n",
    "microscopic evaluation shows a moderate number of white blood cells but no casts or crystals. A urine culture is negative. Which of the following is the most likely cause for the\n",
    "patient’s symptoms?'''\n",
    "\n",
    "another_question = '''a 4670-g  10-lb 5-oz  male newborn is delivered at term to a 26-year-old woman after prolonged labor  apgar scores are 9 and 9 at 1 and 5 minutes  examination in the delivery room shows swelling  tenderness  and crepitus over the left clavicle  there is decreased movement of the left upper extremity  movement of the hands and wrists are normal  a grasping reflex is normal in both hands  an asymmetric moro reflex is present  the remainder of the examination shows no abnormalities and an anteroposterior x-ray confirms the diagnosis  which of the following is the most appropriate next step in management'''\n",
    "# x_text = \"Last Monday Mark started working on my thesis using BERT. So fat he was stuck on it and could not progress\"\n",
    "# x_question =  'What did Mark start on Sunday?''\n",
    "# retrieved_documents = search_documents(query_input=another_question, n=5, index_name='unprocessed')\n",
    "retrieved_documents = search_documents(query_input=x['question'], n=10, index_name='stemming-punctuation')"
   ]
  },
  {
   "cell_type": "code",
   "execution_count": 117,
   "metadata": {},
   "outputs": [],
   "source": [
    "evidence = ' '.join([x['evidence']['content'] for x in retrieved_documents[:2]])"
   ]
  },
  {
   "cell_type": "code",
   "execution_count": 70,
   "metadata": {},
   "outputs": [
    {
     "data": {
      "text/plain": [
       "'has gotten darker more brownish over the last 2 days last night his mother noticed that his eyes had a yellow tint jf says he feels as though he has no energy pertinent findings the physical examination was remarkable for jf s pale appearance mild scleral icterus jaundice mild splenomegaly and increased heart rate tachycardia jf s urine tested positive for hemoglobin hemoglobinuria a peripheral blood smear reveals a lower-than-normal number of red blood cells rbc with some containing precipitated hemoglobin heinz bodies see image at right and a higher-than-normal number of reticulocytes immature rbc results of the complete blood intern because he had a history of buttock pain and impotence on examination he had a reduced peripheral pulse on the left foot compared to the right on direct questioning the patient revealed that he experienced severe left-sided buttock pain after walking 100 yards after a short period of rest he could walk another 100 yards before the same symptoms recurred he also noticed that over the past year he was unable to obtain an erection he smoked heavily and was on no other drugs or treatment the pain in the left buttock is ischemic in nature he gives a'"
      ]
     },
     "execution_count": 70,
     "metadata": {},
     "output_type": "execute_result"
    }
   ],
   "source": [
    "evidence"
   ]
  },
  {
   "cell_type": "code",
   "execution_count": 72,
   "metadata": {},
   "outputs": [
    {
     "name": "stdout",
     "output_type": "stream",
     "text": [
      "Question: a 27-year-old male presents to urgent care complaining of pain with urination  he reports that the pain started 3 days ago  he has never experienced these symptoms before  he denies gross hematuria or pelvic pain  he is sexually active with his girlfriend  and they consistently use condoms  when asked about recent travel  he admits to recently returning from a  boys  trip  in cancun where he had unprotected sex 1 night with a girl he met at a bar  the patient  s medical history includes type i diabetes that is controlled with an insulin pump  his mother has rheumatoid arthritis  the patient  s temperature is 99°f  372°c   blood pressure is 112/74 mmhg  and pulse is 81/min  on physical examination  there are no lesions of the penis or other body rashes  no costovertebral tenderness is appreciated  a urinalysis reveals no blood  glucose  ketones  or proteins but is positive for leukocyte esterase  a urine microscopic evaluation shows a moderate number of white blood cells but no casts or crystals  a urine culture is negative  which of the following is the most likely cause for the patient  s symptoms \n",
      "\n",
      "Answer: [CLS]\n"
     ]
    }
   ],
   "source": [
    "inputs = tokenizer(x['question'], evidence, \n",
    "                   add_special_tokens=True, \n",
    "                   return_tensors=\"pt\"\n",
    "                  )\n",
    "\n",
    "input_ids = inputs[\"input_ids\"].tolist()[0]\n",
    "\n",
    "# print(len(inputs['input_ids'][0]))\n",
    "# print(len(inputs['token_type_ids'][0]))\n",
    "# print(len(inputs['attention_mask'][0]))\n",
    "\n",
    "text_tokens = tokenizer.convert_ids_to_tokens(input_ids)\n",
    "outputs = model(**inputs)\n",
    "answer_start_scores = outputs.start_logits\n",
    "answer_end_scores = outputs.end_logits\n",
    "\n",
    "answer_start = torch.argmax(answer_start_scores)  # Get the most likely beginning of answer with the argmax of the score\n",
    "answer_end = torch.argmax(answer_end_scores) + 1  # Get the most likely end of answer with the argmax of the score\n",
    "\n",
    "answer = tokenizer.convert_tokens_to_string(tokenizer.convert_ids_to_tokens(input_ids[answer_start:answer_end]))\n",
    "\n",
    "print(f\"Question: {x['question']}\")\n",
    "print(f\"\\nAnswer: {answer}\")"
   ]
  },
  {
   "cell_type": "code",
   "execution_count": 137,
   "metadata": {},
   "outputs": [],
   "source": [
    "def ir_es_bert(questions, no_documents_to_retrieve, index_name, metamap=False):\n",
    "    start_time = time.time()\n",
    "    for i, question_data in enumerate(questions):\n",
    "        question = question_data['question']\n",
    "        if metamap:\n",
    "            query = ' '.join(question_data['metamap_phrases'])\n",
    "        else:\n",
    "            query = question_data['question']\n",
    "        answer = question_data['answer']\n",
    "        \n",
    "        # obtain the top-N ranked passages from the large-scale document collection C\n",
    "        retrieved_documents = search_documents(\n",
    "            query_input=query,\n",
    "            n=no_documents_to_retrieve,\n",
    "            index_name=index_name\n",
    "        )\n",
    "        \n",
    "        # contatenating them into a long sequence c\n",
    "        c = \"\"\n",
    "        for document in retrieved_documents:\n",
    "            c += document['evidence']['content']\n",
    "        for option, option_answer in question_data['options'].items():\n",
    "            # then for each question and option pair qa_i = q + a_i\n",
    "            question_answer = question + \" \" + option_answer\n",
    "            print(question_answer)\n",
    "            # qa_i and c are then passed to the document reader for reasoning and decision making\n",
    "            inputs = tokenizer(question_answer, c, \n",
    "                   add_special_tokens=True, \n",
    "                   return_tensors=\"pt\"\n",
    "                  )\n",
    "\n",
    "            input_ids = inputs[\"input_ids\"].tolist()[0]\n",
    "\n",
    "            # print(len(inputs['input_ids'][0]))\n",
    "            # print(len(inputs['token_type_ids'][0]))\n",
    "            # print(len(inputs['attention_mask'][0]))\n",
    "\n",
    "            text_tokens = tokenizer.convert_ids_to_tokens(input_ids)\n",
    "            print(text_tokens)\n",
    "            outputs = model(**inputs)\n",
    "            answer_start_scores = outputs.start_logits\n",
    "            answer_end_scores = outputs.end_logits\n",
    "\n",
    "            answer_start = torch.argmax(answer_start_scores)  # Get the most likely beginning of answer with the argmax of the score\n",
    "            answer_end = torch.argmax(answer_end_scores) + 1  # Get the most likely end of answer with the argmax of the score\n",
    "\n",
    "            answer = tokenizer.convert_tokens_to_string(tokenizer.convert_ids_to_tokens(input_ids[answer_start:answer_end]))\n",
    "\n",
    "            print(f\"Question: {question}\")\n",
    "            print(f\"\\nAnswer: {answer}\")\n",
    "            \n",
    "        break"
   ]
  },
  {
   "cell_type": "code",
   "execution_count": 139,
   "metadata": {},
   "outputs": [
    {
     "name": "stdout",
     "output_type": "stream",
     "text": [
      "a 21-year-old sexual activ male complain of fever pain dure urin and inflamm and pain in the right knee a cultur of the joint fluid show a bacteria that doe not ferment malto and has no polysaccharid capsul the physician order antibiot therapi for the patient the mechan of action of action of the medic given block cell wall synthesi which of the follow was given chloramphenicol\n",
      "Question: a 21-year-old sexual activ male complain of fever pain dure urin and inflamm and pain in the right knee a cultur of the joint fluid show a bacteria that doe not ferment malto and has no polysaccharid capsul the physician order antibiot therapi for the patient the mechan of action of action of the medic given block cell wall synthesi which of the follow was given\n",
      "\n",
      "Answer: [CLS] a 21 - year - old sexual activ male complain of fever pain dure urin and inflamm and pain in the right knee a cultur of the joint fluid show a bacteria that doe not ferment malto and has no polysaccharid capsul the physician order antibiot therapi for the patient the mechan of action of action of the medic given block cell wall synthesi which of the follow was given chloramphenicol [SEP]\n",
      "a 21-year-old sexual activ male complain of fever pain dure urin and inflamm and pain in the right knee a cultur of the joint fluid show a bacteria that doe not ferment malto and has no polysaccharid capsul the physician order antibiot therapi for the patient the mechan of action of action of the medic given block cell wall synthesi which of the follow was given gentamicin\n",
      "Question: a 21-year-old sexual activ male complain of fever pain dure urin and inflamm and pain in the right knee a cultur of the joint fluid show a bacteria that doe not ferment malto and has no polysaccharid capsul the physician order antibiot therapi for the patient the mechan of action of action of the medic given block cell wall synthesi which of the follow was given\n",
      "\n",
      "Answer: [CLS] a 21 - year - old sexual activ male complain of fever pain dure urin and inflamm and pain in the right knee a cultur of the joint fluid show a bacteria that doe not ferment malto and has no polysaccharid capsul the physician order antibiot therapi for the patient the mechan of action of action of the medic given block cell wall synthesi which of the follow was given gentamicin [SEP]\n",
      "a 21-year-old sexual activ male complain of fever pain dure urin and inflamm and pain in the right knee a cultur of the joint fluid show a bacteria that doe not ferment malto and has no polysaccharid capsul the physician order antibiot therapi for the patient the mechan of action of action of the medic given block cell wall synthesi which of the follow was given ciprofloxacin\n",
      "Question: a 21-year-old sexual activ male complain of fever pain dure urin and inflamm and pain in the right knee a cultur of the joint fluid show a bacteria that doe not ferment malto and has no polysaccharid capsul the physician order antibiot therapi for the patient the mechan of action of action of the medic given block cell wall synthesi which of the follow was given\n",
      "\n",
      "Answer: [CLS] a 21 - year - old sexual activ male complain of fever pain dure urin and inflamm and pain in the right knee a cultur of the joint fluid show a bacteria that doe not ferment malto and has no polysaccharid capsul the physician order antibiot therapi for the patient the mechan of action of action of the medic given block cell wall synthesi which of the follow was given ciprofloxacin [SEP]\n",
      "a 21-year-old sexual activ male complain of fever pain dure urin and inflamm and pain in the right knee a cultur of the joint fluid show a bacteria that doe not ferment malto and has no polysaccharid capsul the physician order antibiot therapi for the patient the mechan of action of action of the medic given block cell wall synthesi which of the follow was given ceftriaxon\n",
      "Question: a 21-year-old sexual activ male complain of fever pain dure urin and inflamm and pain in the right knee a cultur of the joint fluid show a bacteria that doe not ferment malto and has no polysaccharid capsul the physician order antibiot therapi for the patient the mechan of action of action of the medic given block cell wall synthesi which of the follow was given\n",
      "\n",
      "Answer: [CLS] a 21 - year - old sexual activ male complain of fever pain dure urin and inflamm and pain in the right knee a cultur of the joint fluid show a bacteria that doe not ferment malto and has no polysaccharid capsul the physician order antibiot therapi for the patient the mechan of action of action of the medic given block cell wall synthesi which of the follow was given ceftriaxon [SEP]\n",
      "a 21-year-old sexual activ male complain of fever pain dure urin and inflamm and pain in the right knee a cultur of the joint fluid show a bacteria that doe not ferment malto and has no polysaccharid capsul the physician order antibiot therapi for the patient the mechan of action of action of the medic given block cell wall synthesi which of the follow was given trimethoprim\n",
      "Question: a 21-year-old sexual activ male complain of fever pain dure urin and inflamm and pain in the right knee a cultur of the joint fluid show a bacteria that doe not ferment malto and has no polysaccharid capsul the physician order antibiot therapi for the patient the mechan of action of action of the medic given block cell wall synthesi which of the follow was given\n",
      "\n",
      "Answer: [CLS] a 21 - year - old sexual activ male complain of fever pain dure urin and inflamm and pain in the right knee a cultur of the joint fluid show a bacteria that doe not ferment malto and has no polysaccharid capsul the physician order antibiot therapi for the patient the mechan of action of action of the medic given block cell wall synthesi which of the follow was given trimethoprim [SEP]\n"
     ]
    }
   ],
   "source": [
    "ir_es_bert(dev_questions_data, 2, 'stemming-punctuation', True)"
   ]
  },
  {
   "cell_type": "code",
   "execution_count": null,
   "metadata": {},
   "outputs": [],
   "source": [
    "conda install -c huggingface transformers"
   ]
  },
  {
   "cell_type": "code",
   "execution_count": null,
   "metadata": {},
   "outputs": [],
   "source": [
    "python -c \"from transformers import pipeline; print(pipeline('sentiment-analysis')('we love you'))\""
   ]
  },
  {
   "cell_type": "code",
   "execution_count": null,
   "metadata": {},
   "outputs": [],
   "source": []
  },
  {
   "cell_type": "code",
   "execution_count": null,
   "metadata": {},
   "outputs": [],
   "source": []
  },
  {
   "cell_type": "code",
   "execution_count": null,
   "metadata": {},
   "outputs": [],
   "source": []
  },
  {
   "cell_type": "code",
   "execution_count": null,
   "metadata": {},
   "outputs": [],
   "source": []
  },
  {
   "cell_type": "code",
   "execution_count": null,
   "metadata": {},
   "outputs": [],
   "source": []
  },
  {
   "cell_type": "code",
   "execution_count": null,
   "metadata": {},
   "outputs": [],
   "source": []
  },
  {
   "cell_type": "code",
   "execution_count": null,
   "metadata": {},
   "outputs": [],
   "source": []
  },
  {
   "cell_type": "markdown",
   "metadata": {},
   "source": [
    "# ElasticSearch usage"
   ]
  },
  {
   "cell_type": "markdown",
   "metadata": {},
   "source": [
    "## Creating a document"
   ]
  },
  {
   "cell_type": "code",
   "execution_count": 2,
   "metadata": {},
   "outputs": [
    {
     "name": "stdout",
     "output_type": "stream",
     "text": [
      "updated\n"
     ]
    }
   ],
   "source": [
    "from datetime import datetime\n",
    "from elasticsearch import Elasticsearch\n",
    "es = Elasticsearch()\n",
    "\n",
    "doc = {\n",
    "    'author': 'author_name',\n",
    "    'text': 'Interensting content...',\n",
    "    'title': 'Test Title',\n",
    "    'timestamp': datetime.now(),\n",
    "}\n",
    "res = es.index(index=\"test-index\", id=1, body=doc)\n",
    "print(res['result'])"
   ]
  },
  {
   "cell_type": "markdown",
   "metadata": {},
   "source": [
    "## Getting a document"
   ]
  },
  {
   "cell_type": "code",
   "execution_count": null,
   "metadata": {},
   "outputs": [],
   "source": [
    "res = es.get(index=\"test-index\", id=1)\n",
    "print(res['_source'])"
   ]
  },
  {
   "cell_type": "markdown",
   "metadata": {},
   "source": [
    "## Refreshing index"
   ]
  },
  {
   "cell_type": "code",
   "execution_count": 15,
   "metadata": {},
   "outputs": [
    {
     "data": {
      "text/plain": [
       "{'_shards': {'total': 2, 'successful': 1, 'failed': 0}}"
      ]
     },
     "execution_count": 15,
     "metadata": {},
     "output_type": "execute_result"
    }
   ],
   "source": [
    "es.indices.refresh(index=\"unprocessed\")"
   ]
  },
  {
   "cell_type": "markdown",
   "metadata": {},
   "source": [
    "## Searching for a document"
   ]
  },
  {
   "cell_type": "code",
   "execution_count": null,
   "metadata": {},
   "outputs": [],
   "source": [
    "res = es.search(index=\"test-index\", body={\"query\": {\"match_all\": {}}})\n",
    "print(\"Got %d Hits:\" % res['hits']['total']['value'])\n",
    "for hit in res['hits']['hits']:\n",
    "    print(\"%(timestamp)s %(author)s: %(text)s\" % hit[\"_source\"])"
   ]
  },
  {
   "cell_type": "markdown",
   "metadata": {},
   "source": [
    "## Deleting a document/index"
   ]
  },
  {
   "cell_type": "code",
   "execution_count": 19,
   "metadata": {},
   "outputs": [
    {
     "data": {
      "text/plain": [
       "{'acknowledged': True}"
      ]
     },
     "execution_count": 19,
     "metadata": {},
     "output_type": "execute_result"
    }
   ],
   "source": [
    "from datetime import datetime\n",
    "from elasticsearch import Elasticsearch\n",
    "es = Elasticsearch()\n",
    "\n",
    "# delete document\n",
    "# es.delete(index=\"test-index\", id=1)\n",
    "# delete index\n",
    "es.indices.delete(index=\"sentences-stemmed\")"
   ]
  },
  {
   "cell_type": "code",
   "execution_count": 25,
   "metadata": {},
   "outputs": [
    {
     "data": {
      "text/plain": [
       "{'acknowledged': True, 'shards_acknowledged': True, 'index': 'test'}"
      ]
     },
     "execution_count": 25,
     "metadata": {},
     "output_type": "execute_result"
    }
   ],
   "source": [
    "# curl \"localhost:9200/_cat/indices?v=true\"\n",
    "# curl -X GET \"localhost:9200/_cat/health?v=true&pretty\"\n",
    "# curl -X GET \"localhost:9200/sentences-stemmed/_settings\"\n"
   ]
  },
  {
   "cell_type": "code",
   "execution_count": null,
   "metadata": {},
   "outputs": [],
   "source": []
  }
 ],
 "metadata": {
  "kernelspec": {
   "display_name": "Python 3",
   "language": "python",
   "name": "python3"
  },
  "language_info": {
   "codemirror_mode": {
    "name": "ipython",
    "version": 3
   },
   "file_extension": ".py",
   "mimetype": "text/x-python",
   "name": "python",
   "nbconvert_exporter": "python",
   "pygments_lexer": "ipython3",
   "version": "3.8.3"
  }
 },
 "nbformat": 4,
 "nbformat_minor": 4
}
