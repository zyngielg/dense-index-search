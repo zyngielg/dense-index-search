{
 "metadata": {
  "language_info": {
   "codemirror_mode": {
    "name": "ipython",
    "version": 3
   },
   "file_extension": ".py",
   "mimetype": "text/x-python",
   "name": "python",
   "nbconvert_exporter": "python",
   "pygments_lexer": "ipython3",
   "version": "3.8.3"
  },
  "orig_nbformat": 2,
  "kernelspec": {
   "name": "python383jvsc74a57bd06431b5fd64a45ac3822750e4bf3b142f0e190a674f4aea9d1daebafb0e0203ea",
   "display_name": "Python 3.8.3 64-bit ('dense-index-search': conda)"
  },
  "metadata": {
   "interpreter": {
    "hash": "6431b5fd64a45ac3822750e4bf3b142f0e190a674f4aea9d1daebafb0e0203ea"
   }
  }
 },
 "nbformat": 4,
 "nbformat_minor": 2,
 "cells": [
  {
   "cell_type": "code",
   "execution_count": 1,
   "metadata": {},
   "outputs": [],
   "source": [
    "import json\n",
    "\n",
    "from statsmodels.stats.contingency_tables import mcnemar"
   ]
  },
  {
   "cell_type": "code",
   "execution_count": 2,
   "metadata": {},
   "outputs": [],
   "source": [
    "q_train_path = \"../../data/medqa/questions/4_options/train.jsonl\"\n",
    "q_val_path = \"../../data/medqa/questions/4_options/dev.jsonl\"\n",
    "q_test_path = \"../../data/medqa/questions/4_options/test.jsonl\"\n",
    "\n",
    "random_guesser_path = \"../results/random_guesser.json\"\n",
    "es_bert_path = \"../results/ir-es-based/final_QA__IR-ES_base_BERT.json\"\n",
    "realm_path = \"../results/realm-based/final_QA__REALM_retriever__base_BERT_reader.json\"\n",
    "colbert_bio_path = \"../results/colbert-based/final_QA__ColBERT_e2e_bio.json\"\n",
    "colbert_base_path = \"../results/colbert-based/final_QA__ColBERT_e2e_base.json\""
   ]
  },
  {
   "cell_type": "code",
   "execution_count": 3,
   "metadata": {},
   "outputs": [],
   "source": [
    "def load_questions(questions_path):\n",
    "    questions = {}\n",
    "\n",
    "    with open(questions_path, 'r') as file:\n",
    "        for idx, line in enumerate(file):\n",
    "            question = json.loads(line)            \n",
    "            questions[f\"q{idx}\"] = question\n",
    "    return questions\n",
    "\n"
   ]
  },
  {
   "cell_type": "code",
   "execution_count": 4,
   "metadata": {},
   "outputs": [],
   "source": [
    "q_train = load_questions(q_train_path)\n",
    "q_val = load_questions(q_val_path)\n",
    "q_test = load_questions(q_test_path)"
   ]
  },
  {
   "cell_type": "code",
   "execution_count": 5,
   "metadata": {},
   "outputs": [],
   "source": [
    "q_train_correct_answers = [ord(x['answer_idx']) - 65 for x in q_train.values()]\n",
    "q_val_correct_answers = [ord(x['answer_idx']) - 65 for x in q_val.values()]\n",
    "q_test_correct_answers = [ord(x['answer_idx']) - 65 for x in q_test.values()]\n",
    "\n",
    "correct_answers = q_train_correct_answers + q_val_correct_answers + q_test_correct_answers\n",
    "correct_answers = q_test_correct_answers"
   ]
  },
  {
   "cell_type": "code",
   "execution_count": 6,
   "metadata": {},
   "outputs": [],
   "source": [
    "def load_predictions(answers_path):\n",
    "    with open(answers_path, 'r') as file:\n",
    "        predictions = json.load(file)\n",
    "        train_pred = predictions['train_predictions']\n",
    "        val_pred = predictions['val_predictions']\n",
    "        test_pred = predictions['test_predictions']\n",
    "\n",
    "        all_predictions = train_pred + val_pred + test_pred\n",
    "        all_predictions = test_pred\n",
    "\n",
    "        return all_predictions"
   ]
  },
  {
   "cell_type": "code",
   "execution_count": 7,
   "metadata": {},
   "outputs": [],
   "source": [
    "random_guesser = load_predictions(random_guesser_path)\n",
    "es_bert = load_predictions(es_bert_path)\n",
    "realm_bert = load_predictions(realm_path)\n",
    "colbert_bio = load_predictions(colbert_bio_path)\n",
    "colbert_base = load_predictions(colbert_base_path)"
   ]
  },
  {
   "cell_type": "code",
   "execution_count": 8,
   "metadata": {},
   "outputs": [],
   "source": [
    "def mc_nemar_test(clasifier_to_compare, alpha=0.05):\n",
    "    cont_table = [[0, 0], [0, 0]]\n",
    "\n",
    "    for i, _ in enumerate(clasifier_to_compare):\n",
    "        ans = correct_answers[i]\n",
    "        class_a_correct = clasifier_to_compare[i] == ans\n",
    "        class_b_correct = random_guesser[i] == ans\n",
    "\n",
    "        if class_a_correct and class_b_correct:\n",
    "            cont_table[0][0] += 1\n",
    "        elif class_a_correct and not class_b_correct:\n",
    "            cont_table[0][1] += 1\n",
    "        elif not class_a_correct and class_b_correct:\n",
    "            cont_table[1][0] += 1\n",
    "        else:\n",
    "            cont_table[1][1] += 1\n",
    "    print(cont_table)\n",
    "    analysis = mcnemar(cont_table, exact=False, correction=True)\n",
    "    p, stats = analysis.pvalue, analysis.statistic\n",
    "\n",
    "    print('statistic=%.3f, p-value=%.3f' % (stats, p))\n",
    "    if p > alpha:\n",
    "\t    print('Same proportions of errors (fail to reject H0)')\n",
    "    else:\n",
    "\t    print('Different proportions of errors (reject H0)')    \n",
    "    \n"
   ]
  },
  {
   "cell_type": "code",
   "execution_count": 9,
   "metadata": {},
   "outputs": [
    {
     "output_type": "stream",
     "name": "stdout",
     "text": [
      "IR-ES BaseBERT\n[[80, 234], [233, 726]]\nstatistic=0.000, p-value=1.000\nSame proportions of errors (fail to reject H0)\nREALM BaseBERT\n[[92, 240], [221, 720]]\nstatistic=0.703, p-value=0.402\nSame proportions of errors (fail to reject H0)\nColBERT e2e (BioClinicalBERT)\n[[95, 267], [218, 692]]\nstatistic=4.751, p-value=0.029\nDifferent proportions of errors (reject H0)\nColBERT e2e (BaseBET)\n[[101, 274], [212, 686]]\nstatistic=7.656, p-value=0.006\nDifferent proportions of errors (reject H0)\n"
     ]
    }
   ],
   "source": [
    "print(\"IR-ES BaseBERT\")\n",
    "mc_nemar_test(es_bert)\n",
    "\n",
    "print(\"REALM BaseBERT\")\n",
    "mc_nemar_test(realm_bert)\n",
    "\n",
    "print(\"ColBERT e2e (BioClinicalBERT)\")\n",
    "mc_nemar_test(colbert_bio)\n",
    "\n",
    "print(\"ColBERT e2e (BaseBET)\")\n",
    "mc_nemar_test(colbert_base)\n",
    "\n"
   ]
  }
 ]
}